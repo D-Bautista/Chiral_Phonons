{
 "cells": [
  {
   "cell_type": "code",
   "execution_count": null,
   "metadata": {},
   "outputs": [],
   "source": [
    "print(\"Hello World\")\n",
    "a = 1\n",
    "b = 2\n",
    "a + b"
   ]
  }
 ],
 "metadata": {
  "kernelspec": {
   "display_name": "chiral",
   "language": "python",
   "name": "python3"
  },
  "language_info": {
   "name": "python",
   "version": "3.12.1"
  },
  "orig_nbformat": 4
 },
 "nbformat": 4,
 "nbformat_minor": 2
}
