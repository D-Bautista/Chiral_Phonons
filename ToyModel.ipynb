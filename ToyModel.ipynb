{
 "cells": [
  {
   "attachments": {},
   "cell_type": "markdown",
   "metadata": {},
   "source": [
    "# Descripción de \"Nanotubo\" cuadrado"
   ]
  },
  {
   "cell_type": "code",
   "execution_count": 2,
   "metadata": {},
   "outputs": [],
   "source": [
    "from pylab import *"
   ]
  },
  {
   "cell_type": "code",
   "execution_count": 9,
   "metadata": {},
   "outputs": [],
   "source": [
    "a = 1\n",
    "\n",
    "n = 5 # número de sitios\n",
    "\n",
    "KL = 1.5\n",
    "KT = 1.0\n",
    "KZ = 0.25\n",
    "\n",
    "angint = pi - (n-2)*pi/n\n",
    "\n",
    "K = array([[KT,0,0],[0,KL,0],[0,0,KZ]])\n",
    "\n",
    "def RotX(θ):\n",
    "    return array([[1,0,0],[0,cos(θ),-sin(θ)],[0,sin(θ),cos(θ)]])\n",
    "\n",
    "def RotY(θ):\n",
    "    return array([[cos(θ),0,sin(θ)],[0,1,0],[-sin(θ),0,cos(θ)]])\n",
    "\n",
    "def RotZ(θ):\n",
    "    return array([[cos(θ),sin(θ),0],[-sin(θ),cos(θ),0],[0,0,1]])\n",
    "\n",
    "def tensT(A,O):\n",
    "    return dot(O,dot(A,O))\n",
    "\n"
   ]
  },
  {
   "cell_type": "code",
   "execution_count": 17,
   "metadata": {},
   "outputs": [],
   "source": [
    "Kiiplus = tensT(K,RotX(pi/2))\n",
    "\n",
    "Kiplus = tensT(K,RotY(angint))\n",
    "Kiminus = tensT(K,RotY(pi - angint))\n",
    "\n",
    "Kiiminus = tensT(K,RotX(-pi/2))"
   ]
  },
  {
   "cell_type": "code",
   "execution_count": 12,
   "metadata": {},
   "outputs": [],
   "source": [
    "def RotCell(Ten,m):\n",
    "    return tensT(Ten,RotZ(m*2*pi/n))"
   ]
  }
 ],
 "metadata": {
  "kernelspec": {
   "display_name": "chiral",
   "language": "python",
   "name": "python3"
  },
  "language_info": {
   "codemirror_mode": {
    "name": "ipython",
    "version": 3
   },
   "file_extension": ".py",
   "mimetype": "text/x-python",
   "name": "python",
   "nbconvert_exporter": "python",
   "pygments_lexer": "ipython3",
   "version": "3.12.1"
  },
  "orig_nbformat": 4
 },
 "nbformat": 4,
 "nbformat_minor": 2
}
