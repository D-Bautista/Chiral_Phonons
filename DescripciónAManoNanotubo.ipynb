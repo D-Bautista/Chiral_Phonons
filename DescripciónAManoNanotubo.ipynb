{
  "cells": [
    {
      "cell_type": "code",
      "execution_count": 16,
      "metadata": {
        "id": "-mzciJbYBuKq"
      },
      "outputs": [],
      "source": [
        "from ase import * \n",
        "from pylab import *\n",
        "from ase.build import nanotube\n",
        "from ase.build import graphene_nanoribbon\n",
        "import plotly.graph_objects as go\n",
        "from numpy import linalg as LA\n",
        "from scipy.linalg import ishermitian"
      ]
    },
    {
      "cell_type": "code",
      "execution_count": 17,
      "metadata": {
        "id": "_4OLTqYVV1Pz"
      },
      "outputs": [],
      "source": [
        "KL1 = 365.0 #N/m\n",
        "KT1 = 245.0 #N/m\n",
        "KZ1 = 98.2 #N/m\n",
        "\n",
        "Kbase = array([[KL1,0,0],\n",
        "            [0,KT1,0],\n",
        "            [0,0,KZ1]],dtype=complex)"
      ]
    },
    {
      "cell_type": "code",
      "execution_count": 82,
      "metadata": {},
      "outputs": [],
      "source": [
        "cnt1 = nanotube(6,6, length = 1)"
      ]
    },
    {
      "cell_type": "code",
      "execution_count": 83,
      "metadata": {},
      "outputs": [
        {
          "name": "stdout",
          "output_type": "stream",
          "text": [
            "nsites = 24\n",
            "    a1 = [0. 0. 0.]\n",
            "    a2 = [0. 0. 0.]\n",
            "    a3 = [0.         0.         2.45951215]\n"
          ]
        }
      ],
      "source": [
        "X,Y,Z    = cnt1.get_positions().T\n",
        "r = cnt1.get_positions()\n",
        "nsites   = len(X)\n",
        "a1,a2,a3 = array(cnt1.get_cell())\n",
        "\n",
        "cluz = 3e10 #cm/\n",
        "masas = cnt1.get_masses()\n",
        "masas = 1.66e-27*masas\n",
        "\n",
        "print(f\"nsites = {nsites}\")\n",
        "print(f\"    a1 = {a1}\")\n",
        "print(f\"    a2 = {a2}\")\n",
        "print(f\"    a3 = {a3}\")"
      ]
    },
    {
      "cell_type": "code",
      "execution_count": 84,
      "metadata": {},
      "outputs": [],
      "source": [
        "def findnn(X,Y,Z):\n",
        "  nn = {}\n",
        "  for todos in range(len(X)):\n",
        "\n",
        "      UnSitio     = array([X[todos],Y[todos],Z[todos]])\n",
        "      DataUnSitio = kron(ones(nsites),UnSitio)\n",
        "      DataUnSitio = DataUnSitio.reshape(nsites,3)\n",
        "\n",
        "      Dif = DataUnSitio - array([X,Y,Z]).T\n",
        "      normas = []\n",
        "      for n in range(len(Dif)):\n",
        "          norm = sqrt(dot(Dif[n],Dif[n]))\n",
        "          normas.append(norm)\n",
        "      normas  = array(normas)\n",
        "      logical = normas<1.44 # distancia en Ang para encontrar los vecinos\n",
        "\n",
        "      nn[todos] = delete( logical.nonzero()[0], \\\n",
        "          where(logical.nonzero()[0] == todos) )\n",
        "  return nn\n",
        "\n",
        "def findnn_minus(X,Y,Z):\n",
        "  nn_minus_a3 = {}\n",
        "  for todos in range(len(X)):\n",
        "\n",
        "      UnSitio     = array([X[todos]+a3[0],Y[todos]+a3[1],Z[todos]+a3[2]])\n",
        "      DataUnSitio = kron(ones(nsites),UnSitio)\n",
        "      DataUnSitio = DataUnSitio.reshape(nsites,3)\n",
        "\n",
        "      Dif = DataUnSitio - array([X,Y,Z]).T\n",
        "      normas = []\n",
        "      for n in range(len(Dif)):\n",
        "          norm = sqrt(dot(Dif[n],Dif[n]))\n",
        "          normas.append(norm)\n",
        "      normas  = array(normas)\n",
        "      logical = normas<1.44 # distancia en Ang para encontrar los vecinos\n",
        "\n",
        "      nn_minus_a3[todos] = delete( logical.nonzero()[0], \\\n",
        "          where(logical.nonzero()[0] == todos) )\n",
        "  return nn_minus_a3\n",
        "\n",
        "def findnn_plus(X,Y,Z):\n",
        "  nn_plus_a3 = {}\n",
        "  for todos in range(len(X)):\n",
        "\n",
        "      UnSitio     = array([X[todos]-a3[0],Y[todos]-a3[1],Z[todos]-a3[2]])\n",
        "      DataUnSitio = kron(ones(nsites),UnSitio)\n",
        "      DataUnSitio = DataUnSitio.reshape(nsites,3)\n",
        "\n",
        "      Dif = DataUnSitio - array([X,Y,Z]).T\n",
        "      normas = []\n",
        "      for n in range(len(Dif)):\n",
        "          norm = sqrt(dot(Dif[n],Dif[n]))\n",
        "          normas.append(norm)\n",
        "      normas  = array(normas)\n",
        "      logical = normas<1.44 # distancia en Ang para encontrar los vecinos\n",
        "\n",
        "      nn_plus_a3[todos] = delete( logical.nonzero()[0], \\\n",
        "          where(logical.nonzero()[0] == todos) )\n",
        "  return nn_plus_a3\n",
        "\n",
        "def GetDATAplot(X,Y,Z,nn,nn_minus_a3,nn_plus_a3):\n",
        "  DATA = [go.Scatter3d(x=X, y=Y, z=Z,mode='markers',showlegend=False)]\n",
        "\n",
        "  for key in nn: # para cada sitio\n",
        "      for n in nn[key]: # para cada vecino\n",
        "          DATA.append( go.Scatter3d(x=[X[key],X[n]], y=[Y[key],Y[n]], z=[Z[key],Z[n]],mode='lines',line=dict(color='blue'),showlegend=False))\n",
        "\n",
        "  for key in nn_minus_a3: # para cada sitio\n",
        "      for n in nn_minus_a3[key]: # para cada vecino\n",
        "          DATA.append( go.Scatter3d(x=[X[key]+a3[0],X[n]], y=[Y[key]+a3[1],Y[n]], z=[Z[key]+a3[2],Z[n]],mode='lines',line=dict(color='red'),showlegend=False) )\n",
        "\n",
        "  for key in nn_plus_a3: # para cada sitio\n",
        "      for n in nn_plus_a3[key]: # para cada vecino\n",
        "          DATA.append( go.Scatter3d(x=[X[key]-a3[0],X[n]], y=[Y[key]-a3[1],Y[n]], z=[Z[key]-a3[2],Z[n]],mode='lines',line=dict(color='red'),showlegend=False) )\n",
        "\n",
        "  annos = []\n",
        "  # for n in range(len(X)):\n",
        "  for n in range(len(X)):\n",
        "    anno = dict(x=X[n],\n",
        "                y=Y[n],\n",
        "                z=Z[n],\n",
        "                text=str(n),\n",
        "                showarrow=False,\n",
        "                arrowhead=0,\n",
        "                font=dict(color='black'),\n",
        "                ax=0,\n",
        "                ay=0,\n",
        "                bgcolor=\"white\",\n",
        "                opacity=0.2)\n",
        "\n",
        "    annos.append(anno)\n",
        "\n",
        "  return DATA,annos"
      ]
    },
    {
      "cell_type": "code",
      "execution_count": 85,
      "metadata": {},
      "outputs": [],
      "source": [
        "nn = findnn(X,Y,Z)\n",
        "nn_minus_a3= findnn_minus(X,Y,Z)\n",
        "nn_plus_a3  = findnn_plus(X,Y,Z)"
      ]
    },
    {
      "cell_type": "code",
      "execution_count": 163,
      "metadata": {},
      "outputs": [
        {
          "data": {
            "application/vnd.plotly.v1+json": {
              "config": {
                "plotlyServerURL": "https://plot.ly"
              },
              "data": [
                {
                  "mode": "markers",
                  "showlegend": false,
                  "type": "scatter3d",
                  "x": [
                    4.068000345428845,
                    3.822669905954012,
                    3.522991641745252,
                    2.6148602182422245,
                    2.034000172714423,
                    0.7064008467321624,
                    2.490931800979881e-16,
                    -1.3913380611924435,
                    -2.0340001727144217,
                    -3.1162690592218496,
                    -3.522991641745251,
                    -4.006198279434667,
                    -4.068000345428845,
                    -3.822669905954012,
                    -3.5229916417452523,
                    -2.6148602182422245,
                    -2.0340001727144243,
                    -0.7064008467321655,
                    -7.472795402939644e-16,
                    1.3913380611924413,
                    2.03400017271442,
                    3.1162690592218465,
                    3.5229916417452505,
                    4.006198279434667
                  ],
                  "y": [
                    0,
                    1.3913380611924435,
                    2.034000172714422,
                    3.1162690592218496,
                    3.5229916417452514,
                    4.006198279434667,
                    4.068000345428845,
                    3.822669905954012,
                    3.522991641745252,
                    2.6148602182422245,
                    2.034000172714424,
                    0.7064008467321635,
                    4.981863601959762e-16,
                    -1.3913380611924433,
                    -2.0340001727144212,
                    -3.1162690592218496,
                    -3.5229916417452505,
                    -4.006198279434667,
                    -4.068000345428845,
                    -3.8226699059540126,
                    -3.522991641745253,
                    -2.6148602182422276,
                    -2.0340001727144243,
                    -0.7064008467321659
                  ],
                  "z": [
                    0,
                    0,
                    1.2297560733739026,
                    1.2297560733739026,
                    -4.440892098500626e-16,
                    2.459512146747805,
                    1.2297560733739024,
                    1.2297560733739024,
                    -8.881784197001252e-16,
                    2.4595121467478047,
                    1.2297560733739015,
                    1.2297560733739015,
                    -8.881784197001252e-16,
                    2.4595121467478047,
                    1.2297560733739015,
                    1.2297560733739015,
                    -1.7763568394002505e-15,
                    2.459512146747804,
                    1.2297560733739006,
                    1.2297560733739006,
                    -2.6645352591003757e-15,
                    2.459512146747803,
                    1.2297560733739006,
                    1.2297560733739006
                  ]
                },
                {
                  "line": {
                    "color": "blue"
                  },
                  "mode": "lines",
                  "showlegend": false,
                  "type": "scatter3d",
                  "x": [
                    4.068000345428845,
                    3.822669905954012
                  ],
                  "y": [
                    0,
                    1.3913380611924435
                  ],
                  "z": [
                    0,
                    0
                  ]
                },
                {
                  "line": {
                    "color": "blue"
                  },
                  "mode": "lines",
                  "showlegend": false,
                  "type": "scatter3d",
                  "x": [
                    4.068000345428845,
                    4.006198279434667
                  ],
                  "y": [
                    0,
                    -0.7064008467321659
                  ],
                  "z": [
                    0,
                    1.2297560733739006
                  ]
                },
                {
                  "line": {
                    "color": "blue"
                  },
                  "mode": "lines",
                  "showlegend": false,
                  "type": "scatter3d",
                  "x": [
                    3.822669905954012,
                    4.068000345428845
                  ],
                  "y": [
                    1.3913380611924435,
                    0
                  ],
                  "z": [
                    0,
                    0
                  ]
                },
                {
                  "line": {
                    "color": "blue"
                  },
                  "mode": "lines",
                  "showlegend": false,
                  "type": "scatter3d",
                  "x": [
                    3.822669905954012,
                    3.522991641745252
                  ],
                  "y": [
                    1.3913380611924435,
                    2.034000172714422
                  ],
                  "z": [
                    0,
                    1.2297560733739026
                  ]
                },
                {
                  "line": {
                    "color": "blue"
                  },
                  "mode": "lines",
                  "showlegend": false,
                  "type": "scatter3d",
                  "x": [
                    3.522991641745252,
                    3.822669905954012
                  ],
                  "y": [
                    2.034000172714422,
                    1.3913380611924435
                  ],
                  "z": [
                    1.2297560733739026,
                    0
                  ]
                },
                {
                  "line": {
                    "color": "blue"
                  },
                  "mode": "lines",
                  "showlegend": false,
                  "type": "scatter3d",
                  "x": [
                    3.522991641745252,
                    2.6148602182422245
                  ],
                  "y": [
                    2.034000172714422,
                    3.1162690592218496
                  ],
                  "z": [
                    1.2297560733739026,
                    1.2297560733739026
                  ]
                },
                {
                  "line": {
                    "color": "blue"
                  },
                  "mode": "lines",
                  "showlegend": false,
                  "type": "scatter3d",
                  "x": [
                    2.6148602182422245,
                    3.522991641745252
                  ],
                  "y": [
                    3.1162690592218496,
                    2.034000172714422
                  ],
                  "z": [
                    1.2297560733739026,
                    1.2297560733739026
                  ]
                },
                {
                  "line": {
                    "color": "blue"
                  },
                  "mode": "lines",
                  "showlegend": false,
                  "type": "scatter3d",
                  "x": [
                    2.6148602182422245,
                    2.034000172714423
                  ],
                  "y": [
                    3.1162690592218496,
                    3.5229916417452514
                  ],
                  "z": [
                    1.2297560733739026,
                    -4.440892098500626e-16
                  ]
                },
                {
                  "line": {
                    "color": "blue"
                  },
                  "mode": "lines",
                  "showlegend": false,
                  "type": "scatter3d",
                  "x": [
                    2.034000172714423,
                    2.6148602182422245
                  ],
                  "y": [
                    3.5229916417452514,
                    3.1162690592218496
                  ],
                  "z": [
                    -4.440892098500626e-16,
                    1.2297560733739026
                  ]
                },
                {
                  "line": {
                    "color": "blue"
                  },
                  "mode": "lines",
                  "showlegend": false,
                  "type": "scatter3d",
                  "x": [
                    0.7064008467321624,
                    2.490931800979881e-16
                  ],
                  "y": [
                    4.006198279434667,
                    4.068000345428845
                  ],
                  "z": [
                    2.459512146747805,
                    1.2297560733739024
                  ]
                },
                {
                  "line": {
                    "color": "blue"
                  },
                  "mode": "lines",
                  "showlegend": false,
                  "type": "scatter3d",
                  "x": [
                    2.490931800979881e-16,
                    0.7064008467321624
                  ],
                  "y": [
                    4.068000345428845,
                    4.006198279434667
                  ],
                  "z": [
                    1.2297560733739024,
                    2.459512146747805
                  ]
                },
                {
                  "line": {
                    "color": "blue"
                  },
                  "mode": "lines",
                  "showlegend": false,
                  "type": "scatter3d",
                  "x": [
                    2.490931800979881e-16,
                    -1.3913380611924435
                  ],
                  "y": [
                    4.068000345428845,
                    3.822669905954012
                  ],
                  "z": [
                    1.2297560733739024,
                    1.2297560733739024
                  ]
                },
                {
                  "line": {
                    "color": "blue"
                  },
                  "mode": "lines",
                  "showlegend": false,
                  "type": "scatter3d",
                  "x": [
                    -1.3913380611924435,
                    2.490931800979881e-16
                  ],
                  "y": [
                    3.822669905954012,
                    4.068000345428845
                  ],
                  "z": [
                    1.2297560733739024,
                    1.2297560733739024
                  ]
                },
                {
                  "line": {
                    "color": "blue"
                  },
                  "mode": "lines",
                  "showlegend": false,
                  "type": "scatter3d",
                  "x": [
                    -1.3913380611924435,
                    -2.0340001727144217
                  ],
                  "y": [
                    3.822669905954012,
                    3.522991641745252
                  ],
                  "z": [
                    1.2297560733739024,
                    -8.881784197001252e-16
                  ]
                },
                {
                  "line": {
                    "color": "blue"
                  },
                  "mode": "lines",
                  "showlegend": false,
                  "type": "scatter3d",
                  "x": [
                    -2.0340001727144217,
                    -1.3913380611924435
                  ],
                  "y": [
                    3.522991641745252,
                    3.822669905954012
                  ],
                  "z": [
                    -8.881784197001252e-16,
                    1.2297560733739024
                  ]
                },
                {
                  "line": {
                    "color": "blue"
                  },
                  "mode": "lines",
                  "showlegend": false,
                  "type": "scatter3d",
                  "x": [
                    -3.1162690592218496,
                    -3.522991641745251
                  ],
                  "y": [
                    2.6148602182422245,
                    2.034000172714424
                  ],
                  "z": [
                    2.4595121467478047,
                    1.2297560733739015
                  ]
                },
                {
                  "line": {
                    "color": "blue"
                  },
                  "mode": "lines",
                  "showlegend": false,
                  "type": "scatter3d",
                  "x": [
                    -3.522991641745251,
                    -3.1162690592218496
                  ],
                  "y": [
                    2.034000172714424,
                    2.6148602182422245
                  ],
                  "z": [
                    1.2297560733739015,
                    2.4595121467478047
                  ]
                },
                {
                  "line": {
                    "color": "blue"
                  },
                  "mode": "lines",
                  "showlegend": false,
                  "type": "scatter3d",
                  "x": [
                    -3.522991641745251,
                    -4.006198279434667
                  ],
                  "y": [
                    2.034000172714424,
                    0.7064008467321635
                  ],
                  "z": [
                    1.2297560733739015,
                    1.2297560733739015
                  ]
                },
                {
                  "line": {
                    "color": "blue"
                  },
                  "mode": "lines",
                  "showlegend": false,
                  "type": "scatter3d",
                  "x": [
                    -4.006198279434667,
                    -3.522991641745251
                  ],
                  "y": [
                    0.7064008467321635,
                    2.034000172714424
                  ],
                  "z": [
                    1.2297560733739015,
                    1.2297560733739015
                  ]
                },
                {
                  "line": {
                    "color": "blue"
                  },
                  "mode": "lines",
                  "showlegend": false,
                  "type": "scatter3d",
                  "x": [
                    -4.006198279434667,
                    -4.068000345428845
                  ],
                  "y": [
                    0.7064008467321635,
                    4.981863601959762e-16
                  ],
                  "z": [
                    1.2297560733739015,
                    -8.881784197001252e-16
                  ]
                },
                {
                  "line": {
                    "color": "blue"
                  },
                  "mode": "lines",
                  "showlegend": false,
                  "type": "scatter3d",
                  "x": [
                    -4.068000345428845,
                    -4.006198279434667
                  ],
                  "y": [
                    4.981863601959762e-16,
                    0.7064008467321635
                  ],
                  "z": [
                    -8.881784197001252e-16,
                    1.2297560733739015
                  ]
                },
                {
                  "line": {
                    "color": "blue"
                  },
                  "mode": "lines",
                  "showlegend": false,
                  "type": "scatter3d",
                  "x": [
                    -3.822669905954012,
                    -3.5229916417452523
                  ],
                  "y": [
                    -1.3913380611924433,
                    -2.0340001727144212
                  ],
                  "z": [
                    2.4595121467478047,
                    1.2297560733739015
                  ]
                },
                {
                  "line": {
                    "color": "blue"
                  },
                  "mode": "lines",
                  "showlegend": false,
                  "type": "scatter3d",
                  "x": [
                    -3.5229916417452523,
                    -3.822669905954012
                  ],
                  "y": [
                    -2.0340001727144212,
                    -1.3913380611924433
                  ],
                  "z": [
                    1.2297560733739015,
                    2.4595121467478047
                  ]
                },
                {
                  "line": {
                    "color": "blue"
                  },
                  "mode": "lines",
                  "showlegend": false,
                  "type": "scatter3d",
                  "x": [
                    -3.5229916417452523,
                    -2.6148602182422245
                  ],
                  "y": [
                    -2.0340001727144212,
                    -3.1162690592218496
                  ],
                  "z": [
                    1.2297560733739015,
                    1.2297560733739015
                  ]
                },
                {
                  "line": {
                    "color": "blue"
                  },
                  "mode": "lines",
                  "showlegend": false,
                  "type": "scatter3d",
                  "x": [
                    -2.6148602182422245,
                    -3.5229916417452523
                  ],
                  "y": [
                    -3.1162690592218496,
                    -2.0340001727144212
                  ],
                  "z": [
                    1.2297560733739015,
                    1.2297560733739015
                  ]
                },
                {
                  "line": {
                    "color": "blue"
                  },
                  "mode": "lines",
                  "showlegend": false,
                  "type": "scatter3d",
                  "x": [
                    -2.6148602182422245,
                    -2.0340001727144243
                  ],
                  "y": [
                    -3.1162690592218496,
                    -3.5229916417452505
                  ],
                  "z": [
                    1.2297560733739015,
                    -1.7763568394002505e-15
                  ]
                },
                {
                  "line": {
                    "color": "blue"
                  },
                  "mode": "lines",
                  "showlegend": false,
                  "type": "scatter3d",
                  "x": [
                    -2.0340001727144243,
                    -2.6148602182422245
                  ],
                  "y": [
                    -3.5229916417452505,
                    -3.1162690592218496
                  ],
                  "z": [
                    -1.7763568394002505e-15,
                    1.2297560733739015
                  ]
                },
                {
                  "line": {
                    "color": "blue"
                  },
                  "mode": "lines",
                  "showlegend": false,
                  "type": "scatter3d",
                  "x": [
                    -0.7064008467321655,
                    -7.472795402939644e-16
                  ],
                  "y": [
                    -4.006198279434667,
                    -4.068000345428845
                  ],
                  "z": [
                    2.459512146747804,
                    1.2297560733739006
                  ]
                },
                {
                  "line": {
                    "color": "blue"
                  },
                  "mode": "lines",
                  "showlegend": false,
                  "type": "scatter3d",
                  "x": [
                    -7.472795402939644e-16,
                    -0.7064008467321655
                  ],
                  "y": [
                    -4.068000345428845,
                    -4.006198279434667
                  ],
                  "z": [
                    1.2297560733739006,
                    2.459512146747804
                  ]
                },
                {
                  "line": {
                    "color": "blue"
                  },
                  "mode": "lines",
                  "showlegend": false,
                  "type": "scatter3d",
                  "x": [
                    -7.472795402939644e-16,
                    1.3913380611924413
                  ],
                  "y": [
                    -4.068000345428845,
                    -3.8226699059540126
                  ],
                  "z": [
                    1.2297560733739006,
                    1.2297560733739006
                  ]
                },
                {
                  "line": {
                    "color": "blue"
                  },
                  "mode": "lines",
                  "showlegend": false,
                  "type": "scatter3d",
                  "x": [
                    1.3913380611924413,
                    -7.472795402939644e-16
                  ],
                  "y": [
                    -3.8226699059540126,
                    -4.068000345428845
                  ],
                  "z": [
                    1.2297560733739006,
                    1.2297560733739006
                  ]
                },
                {
                  "line": {
                    "color": "blue"
                  },
                  "mode": "lines",
                  "showlegend": false,
                  "type": "scatter3d",
                  "x": [
                    1.3913380611924413,
                    2.03400017271442
                  ],
                  "y": [
                    -3.8226699059540126,
                    -3.522991641745253
                  ],
                  "z": [
                    1.2297560733739006,
                    -2.6645352591003757e-15
                  ]
                },
                {
                  "line": {
                    "color": "blue"
                  },
                  "mode": "lines",
                  "showlegend": false,
                  "type": "scatter3d",
                  "x": [
                    2.03400017271442,
                    1.3913380611924413
                  ],
                  "y": [
                    -3.522991641745253,
                    -3.8226699059540126
                  ],
                  "z": [
                    -2.6645352591003757e-15,
                    1.2297560733739006
                  ]
                },
                {
                  "line": {
                    "color": "blue"
                  },
                  "mode": "lines",
                  "showlegend": false,
                  "type": "scatter3d",
                  "x": [
                    3.1162690592218465,
                    3.5229916417452505
                  ],
                  "y": [
                    -2.6148602182422276,
                    -2.0340001727144243
                  ],
                  "z": [
                    2.459512146747803,
                    1.2297560733739006
                  ]
                },
                {
                  "line": {
                    "color": "blue"
                  },
                  "mode": "lines",
                  "showlegend": false,
                  "type": "scatter3d",
                  "x": [
                    3.5229916417452505,
                    3.1162690592218465
                  ],
                  "y": [
                    -2.0340001727144243,
                    -2.6148602182422276
                  ],
                  "z": [
                    1.2297560733739006,
                    2.459512146747803
                  ]
                },
                {
                  "line": {
                    "color": "blue"
                  },
                  "mode": "lines",
                  "showlegend": false,
                  "type": "scatter3d",
                  "x": [
                    3.5229916417452505,
                    4.006198279434667
                  ],
                  "y": [
                    -2.0340001727144243,
                    -0.7064008467321659
                  ],
                  "z": [
                    1.2297560733739006,
                    1.2297560733739006
                  ]
                },
                {
                  "line": {
                    "color": "blue"
                  },
                  "mode": "lines",
                  "showlegend": false,
                  "type": "scatter3d",
                  "x": [
                    4.006198279434667,
                    4.068000345428845
                  ],
                  "y": [
                    -0.7064008467321659,
                    0
                  ],
                  "z": [
                    1.2297560733739006,
                    0
                  ]
                },
                {
                  "line": {
                    "color": "blue"
                  },
                  "mode": "lines",
                  "showlegend": false,
                  "type": "scatter3d",
                  "x": [
                    4.006198279434667,
                    3.5229916417452505
                  ],
                  "y": [
                    -0.7064008467321659,
                    -2.0340001727144243
                  ],
                  "z": [
                    1.2297560733739006,
                    1.2297560733739006
                  ]
                },
                {
                  "line": {
                    "color": "red"
                  },
                  "mode": "lines",
                  "showlegend": false,
                  "type": "scatter3d",
                  "x": [
                    4.068000345428845,
                    4.006198279434667
                  ],
                  "y": [
                    0,
                    -0.7064008467321659
                  ],
                  "z": [
                    2.4595121467478056,
                    1.2297560733739006
                  ]
                },
                {
                  "line": {
                    "color": "red"
                  },
                  "mode": "lines",
                  "showlegend": false,
                  "type": "scatter3d",
                  "x": [
                    3.822669905954012,
                    3.522991641745252
                  ],
                  "y": [
                    1.3913380611924435,
                    2.034000172714422
                  ],
                  "z": [
                    2.4595121467478056,
                    1.2297560733739026
                  ]
                },
                {
                  "line": {
                    "color": "red"
                  },
                  "mode": "lines",
                  "showlegend": false,
                  "type": "scatter3d",
                  "x": [
                    2.034000172714423,
                    2.6148602182422245
                  ],
                  "y": [
                    3.5229916417452514,
                    3.1162690592218496
                  ],
                  "z": [
                    2.459512146747805,
                    1.2297560733739026
                  ]
                },
                {
                  "line": {
                    "color": "red"
                  },
                  "mode": "lines",
                  "showlegend": false,
                  "type": "scatter3d",
                  "x": [
                    2.034000172714423,
                    0.7064008467321624
                  ],
                  "y": [
                    3.5229916417452514,
                    4.006198279434667
                  ],
                  "z": [
                    2.459512146747805,
                    2.459512146747805
                  ]
                },
                {
                  "line": {
                    "color": "red"
                  },
                  "mode": "lines",
                  "showlegend": false,
                  "type": "scatter3d",
                  "x": [
                    2.490931800979881e-16,
                    0.7064008467321624
                  ],
                  "y": [
                    4.068000345428845,
                    4.006198279434667
                  ],
                  "z": [
                    3.6892682201217077,
                    2.459512146747805
                  ]
                },
                {
                  "line": {
                    "color": "red"
                  },
                  "mode": "lines",
                  "showlegend": false,
                  "type": "scatter3d",
                  "x": [
                    -2.0340001727144217,
                    -1.3913380611924435
                  ],
                  "y": [
                    3.522991641745252,
                    3.822669905954012
                  ],
                  "z": [
                    2.4595121467478047,
                    1.2297560733739024
                  ]
                },
                {
                  "line": {
                    "color": "red"
                  },
                  "mode": "lines",
                  "showlegend": false,
                  "type": "scatter3d",
                  "x": [
                    -2.0340001727144217,
                    -3.1162690592218496
                  ],
                  "y": [
                    3.522991641745252,
                    2.6148602182422245
                  ],
                  "z": [
                    2.4595121467478047,
                    2.4595121467478047
                  ]
                },
                {
                  "line": {
                    "color": "red"
                  },
                  "mode": "lines",
                  "showlegend": false,
                  "type": "scatter3d",
                  "x": [
                    -3.522991641745251,
                    -3.1162690592218496
                  ],
                  "y": [
                    2.034000172714424,
                    2.6148602182422245
                  ],
                  "z": [
                    3.689268220121707,
                    2.4595121467478047
                  ]
                },
                {
                  "line": {
                    "color": "red"
                  },
                  "mode": "lines",
                  "showlegend": false,
                  "type": "scatter3d",
                  "x": [
                    -4.068000345428845,
                    -4.006198279434667
                  ],
                  "y": [
                    4.981863601959762e-16,
                    0.7064008467321635
                  ],
                  "z": [
                    2.4595121467478047,
                    1.2297560733739015
                  ]
                },
                {
                  "line": {
                    "color": "red"
                  },
                  "mode": "lines",
                  "showlegend": false,
                  "type": "scatter3d",
                  "x": [
                    -4.068000345428845,
                    -3.822669905954012
                  ],
                  "y": [
                    4.981863601959762e-16,
                    -1.3913380611924433
                  ],
                  "z": [
                    2.4595121467478047,
                    2.4595121467478047
                  ]
                },
                {
                  "line": {
                    "color": "red"
                  },
                  "mode": "lines",
                  "showlegend": false,
                  "type": "scatter3d",
                  "x": [
                    -3.5229916417452523,
                    -3.822669905954012
                  ],
                  "y": [
                    -2.0340001727144212,
                    -1.3913380611924433
                  ],
                  "z": [
                    3.689268220121707,
                    2.4595121467478047
                  ]
                },
                {
                  "line": {
                    "color": "red"
                  },
                  "mode": "lines",
                  "showlegend": false,
                  "type": "scatter3d",
                  "x": [
                    -2.0340001727144243,
                    -2.6148602182422245
                  ],
                  "y": [
                    -3.5229916417452505,
                    -3.1162690592218496
                  ],
                  "z": [
                    2.459512146747804,
                    1.2297560733739015
                  ]
                },
                {
                  "line": {
                    "color": "red"
                  },
                  "mode": "lines",
                  "showlegend": false,
                  "type": "scatter3d",
                  "x": [
                    -2.0340001727144243,
                    -0.7064008467321655
                  ],
                  "y": [
                    -3.5229916417452505,
                    -4.006198279434667
                  ],
                  "z": [
                    2.459512146747804,
                    2.459512146747804
                  ]
                },
                {
                  "line": {
                    "color": "red"
                  },
                  "mode": "lines",
                  "showlegend": false,
                  "type": "scatter3d",
                  "x": [
                    -7.472795402939644e-16,
                    -0.7064008467321655
                  ],
                  "y": [
                    -4.068000345428845,
                    -4.006198279434667
                  ],
                  "z": [
                    3.689268220121706,
                    2.459512146747804
                  ]
                },
                {
                  "line": {
                    "color": "red"
                  },
                  "mode": "lines",
                  "showlegend": false,
                  "type": "scatter3d",
                  "x": [
                    2.03400017271442,
                    1.3913380611924413
                  ],
                  "y": [
                    -3.522991641745253,
                    -3.8226699059540126
                  ],
                  "z": [
                    2.459512146747803,
                    1.2297560733739006
                  ]
                },
                {
                  "line": {
                    "color": "red"
                  },
                  "mode": "lines",
                  "showlegend": false,
                  "type": "scatter3d",
                  "x": [
                    2.03400017271442,
                    3.1162690592218465
                  ],
                  "y": [
                    -3.522991641745253,
                    -2.6148602182422276
                  ],
                  "z": [
                    2.459512146747803,
                    2.459512146747803
                  ]
                },
                {
                  "line": {
                    "color": "red"
                  },
                  "mode": "lines",
                  "showlegend": false,
                  "type": "scatter3d",
                  "x": [
                    3.5229916417452505,
                    3.1162690592218465
                  ],
                  "y": [
                    -2.0340001727144243,
                    -2.6148602182422276
                  ],
                  "z": [
                    3.689268220121706,
                    2.459512146747803
                  ]
                },
                {
                  "line": {
                    "color": "red"
                  },
                  "mode": "lines",
                  "showlegend": false,
                  "type": "scatter3d",
                  "x": [
                    3.522991641745252,
                    3.822669905954012
                  ],
                  "y": [
                    2.034000172714422,
                    1.3913380611924435
                  ],
                  "z": [
                    -1.229756073373903,
                    0
                  ]
                },
                {
                  "line": {
                    "color": "red"
                  },
                  "mode": "lines",
                  "showlegend": false,
                  "type": "scatter3d",
                  "x": [
                    2.6148602182422245,
                    2.034000172714423
                  ],
                  "y": [
                    3.1162690592218496,
                    3.5229916417452514
                  ],
                  "z": [
                    -1.229756073373903,
                    -4.440892098500626e-16
                  ]
                },
                {
                  "line": {
                    "color": "red"
                  },
                  "mode": "lines",
                  "showlegend": false,
                  "type": "scatter3d",
                  "x": [
                    0.7064008467321624,
                    2.034000172714423
                  ],
                  "y": [
                    4.006198279434667,
                    3.5229916417452514
                  ],
                  "z": [
                    -4.440892098500626e-16,
                    -4.440892098500626e-16
                  ]
                },
                {
                  "line": {
                    "color": "red"
                  },
                  "mode": "lines",
                  "showlegend": false,
                  "type": "scatter3d",
                  "x": [
                    0.7064008467321624,
                    2.490931800979881e-16
                  ],
                  "y": [
                    4.006198279434667,
                    4.068000345428845
                  ],
                  "z": [
                    -4.440892098500626e-16,
                    1.2297560733739024
                  ]
                },
                {
                  "line": {
                    "color": "red"
                  },
                  "mode": "lines",
                  "showlegend": false,
                  "type": "scatter3d",
                  "x": [
                    -1.3913380611924435,
                    -2.0340001727144217
                  ],
                  "y": [
                    3.822669905954012,
                    3.522991641745252
                  ],
                  "z": [
                    -1.2297560733739032,
                    -8.881784197001252e-16
                  ]
                },
                {
                  "line": {
                    "color": "red"
                  },
                  "mode": "lines",
                  "showlegend": false,
                  "type": "scatter3d",
                  "x": [
                    -3.1162690592218496,
                    -2.0340001727144217
                  ],
                  "y": [
                    2.6148602182422245,
                    3.522991641745252
                  ],
                  "z": [
                    -8.881784197001252e-16,
                    -8.881784197001252e-16
                  ]
                },
                {
                  "line": {
                    "color": "red"
                  },
                  "mode": "lines",
                  "showlegend": false,
                  "type": "scatter3d",
                  "x": [
                    -3.1162690592218496,
                    -3.522991641745251
                  ],
                  "y": [
                    2.6148602182422245,
                    2.034000172714424
                  ],
                  "z": [
                    -8.881784197001252e-16,
                    1.2297560733739015
                  ]
                },
                {
                  "line": {
                    "color": "red"
                  },
                  "mode": "lines",
                  "showlegend": false,
                  "type": "scatter3d",
                  "x": [
                    -4.006198279434667,
                    -4.068000345428845
                  ],
                  "y": [
                    0.7064008467321635,
                    4.981863601959762e-16
                  ],
                  "z": [
                    -1.2297560733739041,
                    -8.881784197001252e-16
                  ]
                },
                {
                  "line": {
                    "color": "red"
                  },
                  "mode": "lines",
                  "showlegend": false,
                  "type": "scatter3d",
                  "x": [
                    -3.822669905954012,
                    -4.068000345428845
                  ],
                  "y": [
                    -1.3913380611924433,
                    4.981863601959762e-16
                  ],
                  "z": [
                    -8.881784197001252e-16,
                    -8.881784197001252e-16
                  ]
                },
                {
                  "line": {
                    "color": "red"
                  },
                  "mode": "lines",
                  "showlegend": false,
                  "type": "scatter3d",
                  "x": [
                    -3.822669905954012,
                    -3.5229916417452523
                  ],
                  "y": [
                    -1.3913380611924433,
                    -2.0340001727144212
                  ],
                  "z": [
                    -8.881784197001252e-16,
                    1.2297560733739015
                  ]
                },
                {
                  "line": {
                    "color": "red"
                  },
                  "mode": "lines",
                  "showlegend": false,
                  "type": "scatter3d",
                  "x": [
                    -2.6148602182422245,
                    -2.0340001727144243
                  ],
                  "y": [
                    -3.1162690592218496,
                    -3.5229916417452505
                  ],
                  "z": [
                    -1.2297560733739041,
                    -1.7763568394002505e-15
                  ]
                },
                {
                  "line": {
                    "color": "red"
                  },
                  "mode": "lines",
                  "showlegend": false,
                  "type": "scatter3d",
                  "x": [
                    -0.7064008467321655,
                    -2.0340001727144243
                  ],
                  "y": [
                    -4.006198279434667,
                    -3.5229916417452505
                  ],
                  "z": [
                    -1.7763568394002505e-15,
                    -1.7763568394002505e-15
                  ]
                },
                {
                  "line": {
                    "color": "red"
                  },
                  "mode": "lines",
                  "showlegend": false,
                  "type": "scatter3d",
                  "x": [
                    -0.7064008467321655,
                    -7.472795402939644e-16
                  ],
                  "y": [
                    -4.006198279434667,
                    -4.068000345428845
                  ],
                  "z": [
                    -1.7763568394002505e-15,
                    1.2297560733739006
                  ]
                },
                {
                  "line": {
                    "color": "red"
                  },
                  "mode": "lines",
                  "showlegend": false,
                  "type": "scatter3d",
                  "x": [
                    1.3913380611924413,
                    2.03400017271442
                  ],
                  "y": [
                    -3.8226699059540126,
                    -3.522991641745253
                  ],
                  "z": [
                    -1.229756073373905,
                    -2.6645352591003757e-15
                  ]
                },
                {
                  "line": {
                    "color": "red"
                  },
                  "mode": "lines",
                  "showlegend": false,
                  "type": "scatter3d",
                  "x": [
                    3.1162690592218465,
                    2.03400017271442
                  ],
                  "y": [
                    -2.6148602182422276,
                    -3.522991641745253
                  ],
                  "z": [
                    -2.6645352591003757e-15,
                    -2.6645352591003757e-15
                  ]
                },
                {
                  "line": {
                    "color": "red"
                  },
                  "mode": "lines",
                  "showlegend": false,
                  "type": "scatter3d",
                  "x": [
                    3.1162690592218465,
                    3.5229916417452505
                  ],
                  "y": [
                    -2.6148602182422276,
                    -2.0340001727144243
                  ],
                  "z": [
                    -2.6645352591003757e-15,
                    1.2297560733739006
                  ]
                },
                {
                  "line": {
                    "color": "red"
                  },
                  "mode": "lines",
                  "showlegend": false,
                  "type": "scatter3d",
                  "x": [
                    4.006198279434667,
                    4.068000345428845
                  ],
                  "y": [
                    -0.7064008467321659,
                    0
                  ],
                  "z": [
                    -1.229756073373905,
                    0
                  ]
                }
              ],
              "layout": {
                "scene": {
                  "annotations": [
                    {
                      "arrowhead": 0,
                      "ax": 0,
                      "ay": 0,
                      "bgcolor": "white",
                      "font": {
                        "color": "black"
                      },
                      "opacity": 0.2,
                      "showarrow": false,
                      "text": "0",
                      "x": 4.068000345428845,
                      "y": 0,
                      "z": 0
                    },
                    {
                      "arrowhead": 0,
                      "ax": 0,
                      "ay": 0,
                      "bgcolor": "white",
                      "font": {
                        "color": "black"
                      },
                      "opacity": 0.2,
                      "showarrow": false,
                      "text": "1",
                      "x": 3.822669905954012,
                      "y": 1.3913380611924435,
                      "z": 0
                    },
                    {
                      "arrowhead": 0,
                      "ax": 0,
                      "ay": 0,
                      "bgcolor": "white",
                      "font": {
                        "color": "black"
                      },
                      "opacity": 0.2,
                      "showarrow": false,
                      "text": "2",
                      "x": 3.522991641745252,
                      "y": 2.034000172714422,
                      "z": 1.2297560733739026
                    },
                    {
                      "arrowhead": 0,
                      "ax": 0,
                      "ay": 0,
                      "bgcolor": "white",
                      "font": {
                        "color": "black"
                      },
                      "opacity": 0.2,
                      "showarrow": false,
                      "text": "3",
                      "x": 2.6148602182422245,
                      "y": 3.1162690592218496,
                      "z": 1.2297560733739026
                    },
                    {
                      "arrowhead": 0,
                      "ax": 0,
                      "ay": 0,
                      "bgcolor": "white",
                      "font": {
                        "color": "black"
                      },
                      "opacity": 0.2,
                      "showarrow": false,
                      "text": "4",
                      "x": 2.034000172714423,
                      "y": 3.5229916417452514,
                      "z": -4.440892098500626e-16
                    },
                    {
                      "arrowhead": 0,
                      "ax": 0,
                      "ay": 0,
                      "bgcolor": "white",
                      "font": {
                        "color": "black"
                      },
                      "opacity": 0.2,
                      "showarrow": false,
                      "text": "5",
                      "x": 0.7064008467321624,
                      "y": 4.006198279434667,
                      "z": 2.459512146747805
                    },
                    {
                      "arrowhead": 0,
                      "ax": 0,
                      "ay": 0,
                      "bgcolor": "white",
                      "font": {
                        "color": "black"
                      },
                      "opacity": 0.2,
                      "showarrow": false,
                      "text": "6",
                      "x": 2.490931800979881e-16,
                      "y": 4.068000345428845,
                      "z": 1.2297560733739024
                    },
                    {
                      "arrowhead": 0,
                      "ax": 0,
                      "ay": 0,
                      "bgcolor": "white",
                      "font": {
                        "color": "black"
                      },
                      "opacity": 0.2,
                      "showarrow": false,
                      "text": "7",
                      "x": -1.3913380611924435,
                      "y": 3.822669905954012,
                      "z": 1.2297560733739024
                    },
                    {
                      "arrowhead": 0,
                      "ax": 0,
                      "ay": 0,
                      "bgcolor": "white",
                      "font": {
                        "color": "black"
                      },
                      "opacity": 0.2,
                      "showarrow": false,
                      "text": "8",
                      "x": -2.0340001727144217,
                      "y": 3.522991641745252,
                      "z": -8.881784197001252e-16
                    },
                    {
                      "arrowhead": 0,
                      "ax": 0,
                      "ay": 0,
                      "bgcolor": "white",
                      "font": {
                        "color": "black"
                      },
                      "opacity": 0.2,
                      "showarrow": false,
                      "text": "9",
                      "x": -3.1162690592218496,
                      "y": 2.6148602182422245,
                      "z": 2.4595121467478047
                    },
                    {
                      "arrowhead": 0,
                      "ax": 0,
                      "ay": 0,
                      "bgcolor": "white",
                      "font": {
                        "color": "black"
                      },
                      "opacity": 0.2,
                      "showarrow": false,
                      "text": "10",
                      "x": -3.522991641745251,
                      "y": 2.034000172714424,
                      "z": 1.2297560733739015
                    },
                    {
                      "arrowhead": 0,
                      "ax": 0,
                      "ay": 0,
                      "bgcolor": "white",
                      "font": {
                        "color": "black"
                      },
                      "opacity": 0.2,
                      "showarrow": false,
                      "text": "11",
                      "x": -4.006198279434667,
                      "y": 0.7064008467321635,
                      "z": 1.2297560733739015
                    },
                    {
                      "arrowhead": 0,
                      "ax": 0,
                      "ay": 0,
                      "bgcolor": "white",
                      "font": {
                        "color": "black"
                      },
                      "opacity": 0.2,
                      "showarrow": false,
                      "text": "12",
                      "x": -4.068000345428845,
                      "y": 4.981863601959762e-16,
                      "z": -8.881784197001252e-16
                    },
                    {
                      "arrowhead": 0,
                      "ax": 0,
                      "ay": 0,
                      "bgcolor": "white",
                      "font": {
                        "color": "black"
                      },
                      "opacity": 0.2,
                      "showarrow": false,
                      "text": "13",
                      "x": -3.822669905954012,
                      "y": -1.3913380611924433,
                      "z": 2.4595121467478047
                    },
                    {
                      "arrowhead": 0,
                      "ax": 0,
                      "ay": 0,
                      "bgcolor": "white",
                      "font": {
                        "color": "black"
                      },
                      "opacity": 0.2,
                      "showarrow": false,
                      "text": "14",
                      "x": -3.5229916417452523,
                      "y": -2.0340001727144212,
                      "z": 1.2297560733739015
                    },
                    {
                      "arrowhead": 0,
                      "ax": 0,
                      "ay": 0,
                      "bgcolor": "white",
                      "font": {
                        "color": "black"
                      },
                      "opacity": 0.2,
                      "showarrow": false,
                      "text": "15",
                      "x": -2.6148602182422245,
                      "y": -3.1162690592218496,
                      "z": 1.2297560733739015
                    },
                    {
                      "arrowhead": 0,
                      "ax": 0,
                      "ay": 0,
                      "bgcolor": "white",
                      "font": {
                        "color": "black"
                      },
                      "opacity": 0.2,
                      "showarrow": false,
                      "text": "16",
                      "x": -2.0340001727144243,
                      "y": -3.5229916417452505,
                      "z": -1.7763568394002505e-15
                    },
                    {
                      "arrowhead": 0,
                      "ax": 0,
                      "ay": 0,
                      "bgcolor": "white",
                      "font": {
                        "color": "black"
                      },
                      "opacity": 0.2,
                      "showarrow": false,
                      "text": "17",
                      "x": -0.7064008467321655,
                      "y": -4.006198279434667,
                      "z": 2.459512146747804
                    },
                    {
                      "arrowhead": 0,
                      "ax": 0,
                      "ay": 0,
                      "bgcolor": "white",
                      "font": {
                        "color": "black"
                      },
                      "opacity": 0.2,
                      "showarrow": false,
                      "text": "18",
                      "x": -7.472795402939644e-16,
                      "y": -4.068000345428845,
                      "z": 1.2297560733739006
                    },
                    {
                      "arrowhead": 0,
                      "ax": 0,
                      "ay": 0,
                      "bgcolor": "white",
                      "font": {
                        "color": "black"
                      },
                      "opacity": 0.2,
                      "showarrow": false,
                      "text": "19",
                      "x": 1.3913380611924413,
                      "y": -3.8226699059540126,
                      "z": 1.2297560733739006
                    },
                    {
                      "arrowhead": 0,
                      "ax": 0,
                      "ay": 0,
                      "bgcolor": "white",
                      "font": {
                        "color": "black"
                      },
                      "opacity": 0.2,
                      "showarrow": false,
                      "text": "20",
                      "x": 2.03400017271442,
                      "y": -3.522991641745253,
                      "z": -2.6645352591003757e-15
                    },
                    {
                      "arrowhead": 0,
                      "ax": 0,
                      "ay": 0,
                      "bgcolor": "white",
                      "font": {
                        "color": "black"
                      },
                      "opacity": 0.2,
                      "showarrow": false,
                      "text": "21",
                      "x": 3.1162690592218465,
                      "y": -2.6148602182422276,
                      "z": 2.459512146747803
                    },
                    {
                      "arrowhead": 0,
                      "ax": 0,
                      "ay": 0,
                      "bgcolor": "white",
                      "font": {
                        "color": "black"
                      },
                      "opacity": 0.2,
                      "showarrow": false,
                      "text": "22",
                      "x": 3.5229916417452505,
                      "y": -2.0340001727144243,
                      "z": 1.2297560733739006
                    },
                    {
                      "arrowhead": 0,
                      "ax": 0,
                      "ay": 0,
                      "bgcolor": "white",
                      "font": {
                        "color": "black"
                      },
                      "opacity": 0.2,
                      "showarrow": false,
                      "text": "23",
                      "x": 4.006198279434667,
                      "y": -0.7064008467321659,
                      "z": 1.2297560733739006
                    }
                  ]
                },
                "template": {
                  "data": {
                    "bar": [
                      {
                        "error_x": {
                          "color": "#2a3f5f"
                        },
                        "error_y": {
                          "color": "#2a3f5f"
                        },
                        "marker": {
                          "line": {
                            "color": "#E5ECF6",
                            "width": 0.5
                          },
                          "pattern": {
                            "fillmode": "overlay",
                            "size": 10,
                            "solidity": 0.2
                          }
                        },
                        "type": "bar"
                      }
                    ],
                    "barpolar": [
                      {
                        "marker": {
                          "line": {
                            "color": "#E5ECF6",
                            "width": 0.5
                          },
                          "pattern": {
                            "fillmode": "overlay",
                            "size": 10,
                            "solidity": 0.2
                          }
                        },
                        "type": "barpolar"
                      }
                    ],
                    "carpet": [
                      {
                        "aaxis": {
                          "endlinecolor": "#2a3f5f",
                          "gridcolor": "white",
                          "linecolor": "white",
                          "minorgridcolor": "white",
                          "startlinecolor": "#2a3f5f"
                        },
                        "baxis": {
                          "endlinecolor": "#2a3f5f",
                          "gridcolor": "white",
                          "linecolor": "white",
                          "minorgridcolor": "white",
                          "startlinecolor": "#2a3f5f"
                        },
                        "type": "carpet"
                      }
                    ],
                    "choropleth": [
                      {
                        "colorbar": {
                          "outlinewidth": 0,
                          "ticks": ""
                        },
                        "type": "choropleth"
                      }
                    ],
                    "contour": [
                      {
                        "colorbar": {
                          "outlinewidth": 0,
                          "ticks": ""
                        },
                        "colorscale": [
                          [
                            0,
                            "#0d0887"
                          ],
                          [
                            0.1111111111111111,
                            "#46039f"
                          ],
                          [
                            0.2222222222222222,
                            "#7201a8"
                          ],
                          [
                            0.3333333333333333,
                            "#9c179e"
                          ],
                          [
                            0.4444444444444444,
                            "#bd3786"
                          ],
                          [
                            0.5555555555555556,
                            "#d8576b"
                          ],
                          [
                            0.6666666666666666,
                            "#ed7953"
                          ],
                          [
                            0.7777777777777778,
                            "#fb9f3a"
                          ],
                          [
                            0.8888888888888888,
                            "#fdca26"
                          ],
                          [
                            1,
                            "#f0f921"
                          ]
                        ],
                        "type": "contour"
                      }
                    ],
                    "contourcarpet": [
                      {
                        "colorbar": {
                          "outlinewidth": 0,
                          "ticks": ""
                        },
                        "type": "contourcarpet"
                      }
                    ],
                    "heatmap": [
                      {
                        "colorbar": {
                          "outlinewidth": 0,
                          "ticks": ""
                        },
                        "colorscale": [
                          [
                            0,
                            "#0d0887"
                          ],
                          [
                            0.1111111111111111,
                            "#46039f"
                          ],
                          [
                            0.2222222222222222,
                            "#7201a8"
                          ],
                          [
                            0.3333333333333333,
                            "#9c179e"
                          ],
                          [
                            0.4444444444444444,
                            "#bd3786"
                          ],
                          [
                            0.5555555555555556,
                            "#d8576b"
                          ],
                          [
                            0.6666666666666666,
                            "#ed7953"
                          ],
                          [
                            0.7777777777777778,
                            "#fb9f3a"
                          ],
                          [
                            0.8888888888888888,
                            "#fdca26"
                          ],
                          [
                            1,
                            "#f0f921"
                          ]
                        ],
                        "type": "heatmap"
                      }
                    ],
                    "heatmapgl": [
                      {
                        "colorbar": {
                          "outlinewidth": 0,
                          "ticks": ""
                        },
                        "colorscale": [
                          [
                            0,
                            "#0d0887"
                          ],
                          [
                            0.1111111111111111,
                            "#46039f"
                          ],
                          [
                            0.2222222222222222,
                            "#7201a8"
                          ],
                          [
                            0.3333333333333333,
                            "#9c179e"
                          ],
                          [
                            0.4444444444444444,
                            "#bd3786"
                          ],
                          [
                            0.5555555555555556,
                            "#d8576b"
                          ],
                          [
                            0.6666666666666666,
                            "#ed7953"
                          ],
                          [
                            0.7777777777777778,
                            "#fb9f3a"
                          ],
                          [
                            0.8888888888888888,
                            "#fdca26"
                          ],
                          [
                            1,
                            "#f0f921"
                          ]
                        ],
                        "type": "heatmapgl"
                      }
                    ],
                    "histogram": [
                      {
                        "marker": {
                          "pattern": {
                            "fillmode": "overlay",
                            "size": 10,
                            "solidity": 0.2
                          }
                        },
                        "type": "histogram"
                      }
                    ],
                    "histogram2d": [
                      {
                        "colorbar": {
                          "outlinewidth": 0,
                          "ticks": ""
                        },
                        "colorscale": [
                          [
                            0,
                            "#0d0887"
                          ],
                          [
                            0.1111111111111111,
                            "#46039f"
                          ],
                          [
                            0.2222222222222222,
                            "#7201a8"
                          ],
                          [
                            0.3333333333333333,
                            "#9c179e"
                          ],
                          [
                            0.4444444444444444,
                            "#bd3786"
                          ],
                          [
                            0.5555555555555556,
                            "#d8576b"
                          ],
                          [
                            0.6666666666666666,
                            "#ed7953"
                          ],
                          [
                            0.7777777777777778,
                            "#fb9f3a"
                          ],
                          [
                            0.8888888888888888,
                            "#fdca26"
                          ],
                          [
                            1,
                            "#f0f921"
                          ]
                        ],
                        "type": "histogram2d"
                      }
                    ],
                    "histogram2dcontour": [
                      {
                        "colorbar": {
                          "outlinewidth": 0,
                          "ticks": ""
                        },
                        "colorscale": [
                          [
                            0,
                            "#0d0887"
                          ],
                          [
                            0.1111111111111111,
                            "#46039f"
                          ],
                          [
                            0.2222222222222222,
                            "#7201a8"
                          ],
                          [
                            0.3333333333333333,
                            "#9c179e"
                          ],
                          [
                            0.4444444444444444,
                            "#bd3786"
                          ],
                          [
                            0.5555555555555556,
                            "#d8576b"
                          ],
                          [
                            0.6666666666666666,
                            "#ed7953"
                          ],
                          [
                            0.7777777777777778,
                            "#fb9f3a"
                          ],
                          [
                            0.8888888888888888,
                            "#fdca26"
                          ],
                          [
                            1,
                            "#f0f921"
                          ]
                        ],
                        "type": "histogram2dcontour"
                      }
                    ],
                    "mesh3d": [
                      {
                        "colorbar": {
                          "outlinewidth": 0,
                          "ticks": ""
                        },
                        "type": "mesh3d"
                      }
                    ],
                    "parcoords": [
                      {
                        "line": {
                          "colorbar": {
                            "outlinewidth": 0,
                            "ticks": ""
                          }
                        },
                        "type": "parcoords"
                      }
                    ],
                    "pie": [
                      {
                        "automargin": true,
                        "type": "pie"
                      }
                    ],
                    "scatter": [
                      {
                        "fillpattern": {
                          "fillmode": "overlay",
                          "size": 10,
                          "solidity": 0.2
                        },
                        "type": "scatter"
                      }
                    ],
                    "scatter3d": [
                      {
                        "line": {
                          "colorbar": {
                            "outlinewidth": 0,
                            "ticks": ""
                          }
                        },
                        "marker": {
                          "colorbar": {
                            "outlinewidth": 0,
                            "ticks": ""
                          }
                        },
                        "type": "scatter3d"
                      }
                    ],
                    "scattercarpet": [
                      {
                        "marker": {
                          "colorbar": {
                            "outlinewidth": 0,
                            "ticks": ""
                          }
                        },
                        "type": "scattercarpet"
                      }
                    ],
                    "scattergeo": [
                      {
                        "marker": {
                          "colorbar": {
                            "outlinewidth": 0,
                            "ticks": ""
                          }
                        },
                        "type": "scattergeo"
                      }
                    ],
                    "scattergl": [
                      {
                        "marker": {
                          "colorbar": {
                            "outlinewidth": 0,
                            "ticks": ""
                          }
                        },
                        "type": "scattergl"
                      }
                    ],
                    "scattermapbox": [
                      {
                        "marker": {
                          "colorbar": {
                            "outlinewidth": 0,
                            "ticks": ""
                          }
                        },
                        "type": "scattermapbox"
                      }
                    ],
                    "scatterpolar": [
                      {
                        "marker": {
                          "colorbar": {
                            "outlinewidth": 0,
                            "ticks": ""
                          }
                        },
                        "type": "scatterpolar"
                      }
                    ],
                    "scatterpolargl": [
                      {
                        "marker": {
                          "colorbar": {
                            "outlinewidth": 0,
                            "ticks": ""
                          }
                        },
                        "type": "scatterpolargl"
                      }
                    ],
                    "scatterternary": [
                      {
                        "marker": {
                          "colorbar": {
                            "outlinewidth": 0,
                            "ticks": ""
                          }
                        },
                        "type": "scatterternary"
                      }
                    ],
                    "surface": [
                      {
                        "colorbar": {
                          "outlinewidth": 0,
                          "ticks": ""
                        },
                        "colorscale": [
                          [
                            0,
                            "#0d0887"
                          ],
                          [
                            0.1111111111111111,
                            "#46039f"
                          ],
                          [
                            0.2222222222222222,
                            "#7201a8"
                          ],
                          [
                            0.3333333333333333,
                            "#9c179e"
                          ],
                          [
                            0.4444444444444444,
                            "#bd3786"
                          ],
                          [
                            0.5555555555555556,
                            "#d8576b"
                          ],
                          [
                            0.6666666666666666,
                            "#ed7953"
                          ],
                          [
                            0.7777777777777778,
                            "#fb9f3a"
                          ],
                          [
                            0.8888888888888888,
                            "#fdca26"
                          ],
                          [
                            1,
                            "#f0f921"
                          ]
                        ],
                        "type": "surface"
                      }
                    ],
                    "table": [
                      {
                        "cells": {
                          "fill": {
                            "color": "#EBF0F8"
                          },
                          "line": {
                            "color": "white"
                          }
                        },
                        "header": {
                          "fill": {
                            "color": "#C8D4E3"
                          },
                          "line": {
                            "color": "white"
                          }
                        },
                        "type": "table"
                      }
                    ]
                  },
                  "layout": {
                    "annotationdefaults": {
                      "arrowcolor": "#2a3f5f",
                      "arrowhead": 0,
                      "arrowwidth": 1
                    },
                    "autotypenumbers": "strict",
                    "coloraxis": {
                      "colorbar": {
                        "outlinewidth": 0,
                        "ticks": ""
                      }
                    },
                    "colorscale": {
                      "diverging": [
                        [
                          0,
                          "#8e0152"
                        ],
                        [
                          0.1,
                          "#c51b7d"
                        ],
                        [
                          0.2,
                          "#de77ae"
                        ],
                        [
                          0.3,
                          "#f1b6da"
                        ],
                        [
                          0.4,
                          "#fde0ef"
                        ],
                        [
                          0.5,
                          "#f7f7f7"
                        ],
                        [
                          0.6,
                          "#e6f5d0"
                        ],
                        [
                          0.7,
                          "#b8e186"
                        ],
                        [
                          0.8,
                          "#7fbc41"
                        ],
                        [
                          0.9,
                          "#4d9221"
                        ],
                        [
                          1,
                          "#276419"
                        ]
                      ],
                      "sequential": [
                        [
                          0,
                          "#0d0887"
                        ],
                        [
                          0.1111111111111111,
                          "#46039f"
                        ],
                        [
                          0.2222222222222222,
                          "#7201a8"
                        ],
                        [
                          0.3333333333333333,
                          "#9c179e"
                        ],
                        [
                          0.4444444444444444,
                          "#bd3786"
                        ],
                        [
                          0.5555555555555556,
                          "#d8576b"
                        ],
                        [
                          0.6666666666666666,
                          "#ed7953"
                        ],
                        [
                          0.7777777777777778,
                          "#fb9f3a"
                        ],
                        [
                          0.8888888888888888,
                          "#fdca26"
                        ],
                        [
                          1,
                          "#f0f921"
                        ]
                      ],
                      "sequentialminus": [
                        [
                          0,
                          "#0d0887"
                        ],
                        [
                          0.1111111111111111,
                          "#46039f"
                        ],
                        [
                          0.2222222222222222,
                          "#7201a8"
                        ],
                        [
                          0.3333333333333333,
                          "#9c179e"
                        ],
                        [
                          0.4444444444444444,
                          "#bd3786"
                        ],
                        [
                          0.5555555555555556,
                          "#d8576b"
                        ],
                        [
                          0.6666666666666666,
                          "#ed7953"
                        ],
                        [
                          0.7777777777777778,
                          "#fb9f3a"
                        ],
                        [
                          0.8888888888888888,
                          "#fdca26"
                        ],
                        [
                          1,
                          "#f0f921"
                        ]
                      ]
                    },
                    "colorway": [
                      "#636efa",
                      "#EF553B",
                      "#00cc96",
                      "#ab63fa",
                      "#FFA15A",
                      "#19d3f3",
                      "#FF6692",
                      "#B6E880",
                      "#FF97FF",
                      "#FECB52"
                    ],
                    "font": {
                      "color": "#2a3f5f"
                    },
                    "geo": {
                      "bgcolor": "white",
                      "lakecolor": "white",
                      "landcolor": "#E5ECF6",
                      "showlakes": true,
                      "showland": true,
                      "subunitcolor": "white"
                    },
                    "hoverlabel": {
                      "align": "left"
                    },
                    "hovermode": "closest",
                    "mapbox": {
                      "style": "light"
                    },
                    "paper_bgcolor": "white",
                    "plot_bgcolor": "#E5ECF6",
                    "polar": {
                      "angularaxis": {
                        "gridcolor": "white",
                        "linecolor": "white",
                        "ticks": ""
                      },
                      "bgcolor": "#E5ECF6",
                      "radialaxis": {
                        "gridcolor": "white",
                        "linecolor": "white",
                        "ticks": ""
                      }
                    },
                    "scene": {
                      "xaxis": {
                        "backgroundcolor": "#E5ECF6",
                        "gridcolor": "white",
                        "gridwidth": 2,
                        "linecolor": "white",
                        "showbackground": true,
                        "ticks": "",
                        "zerolinecolor": "white"
                      },
                      "yaxis": {
                        "backgroundcolor": "#E5ECF6",
                        "gridcolor": "white",
                        "gridwidth": 2,
                        "linecolor": "white",
                        "showbackground": true,
                        "ticks": "",
                        "zerolinecolor": "white"
                      },
                      "zaxis": {
                        "backgroundcolor": "#E5ECF6",
                        "gridcolor": "white",
                        "gridwidth": 2,
                        "linecolor": "white",
                        "showbackground": true,
                        "ticks": "",
                        "zerolinecolor": "white"
                      }
                    },
                    "shapedefaults": {
                      "line": {
                        "color": "#2a3f5f"
                      }
                    },
                    "ternary": {
                      "aaxis": {
                        "gridcolor": "white",
                        "linecolor": "white",
                        "ticks": ""
                      },
                      "baxis": {
                        "gridcolor": "white",
                        "linecolor": "white",
                        "ticks": ""
                      },
                      "bgcolor": "#E5ECF6",
                      "caxis": {
                        "gridcolor": "white",
                        "linecolor": "white",
                        "ticks": ""
                      }
                    },
                    "title": {
                      "x": 0.05
                    },
                    "xaxis": {
                      "automargin": true,
                      "gridcolor": "white",
                      "linecolor": "white",
                      "ticks": "",
                      "title": {
                        "standoff": 15
                      },
                      "zerolinecolor": "white",
                      "zerolinewidth": 2
                    },
                    "yaxis": {
                      "automargin": true,
                      "gridcolor": "white",
                      "linecolor": "white",
                      "ticks": "",
                      "title": {
                        "standoff": 15
                      },
                      "zerolinecolor": "white",
                      "zerolinewidth": 2
                    }
                  }
                }
              }
            }
          },
          "metadata": {},
          "output_type": "display_data"
        }
      ],
      "source": [
        "DATA,annos = GetDATAplot(X,Y,Z,nn,nn_minus_a3,nn_plus_a3)\n",
        "fig = go.Figure(data=DATA)\n",
        "fig.update_layout(scene=dict(annotations=annos))\n",
        "# fig.add_annotation(x=X[0], y=Y[0],text=\"0\",showarrow=False,yshift=10)\n",
        "fig.show()"
      ]
    },
    {
      "cell_type": "code",
      "execution_count": 166,
      "metadata": {},
      "outputs": [
        {
          "name": "stdout",
          "output_type": "stream",
          "text": [
            "0.0\n",
            "2.482534153247273e-16\n",
            "[[-1.46828677e+01+0.j  1.23203889e+01+0.j -1.00166071e+01+0.j]\n",
            " [ 1.23203889e+01+0.j  1.46828677e+01+0.j -4.67082060e+00+0.j]\n",
            " [-1.00166071e+01+0.j -4.67082060e+00+0.j -1.13686838e-13+0.j]]\n"
          ]
        },
        {
          "data": {
            "application/vnd.plotly.v1+json": {
              "config": {
                "plotlyServerURL": "https://plot.ly"
              },
              "data": [
                {
                  "mode": "markers",
                  "showlegend": false,
                  "type": "scatter3d",
                  "x": [
                    3.822669905954012,
                    3.522991641745252
                  ],
                  "y": [
                    1.3913380611924435,
                    2.034000172714422
                  ],
                  "z": [
                    0,
                    1.2297560733739026
                  ]
                },
                {
                  "mode": "markers",
                  "type": "scatter3d",
                  "x": [
                    0
                  ],
                  "y": [
                    0
                  ],
                  "z": [
                    0
                  ]
                },
                {
                  "line": {
                    "color": "dark blue"
                  },
                  "mode": "lines",
                  "showlegend": false,
                  "type": "scatter3d",
                  "x": [
                    3.822669905954012,
                    3.522991641745252
                  ],
                  "y": [
                    1.3913380611924435,
                    2.034000172714422
                  ],
                  "z": [
                    0,
                    1.2297560733739026
                  ]
                },
                {
                  "line": {
                    "color": "grey"
                  },
                  "mode": "lines",
                  "showlegend": false,
                  "type": "scatter3d",
                  "x": [
                    3.822669905954012,
                    3.822669905954012
                  ],
                  "y": [
                    1.3913380611924435,
                    1.3913380611924435
                  ],
                  "z": [
                    0,
                    1
                  ]
                },
                {
                  "line": {
                    "color": "grey"
                  },
                  "mode": "lines",
                  "showlegend": false,
                  "type": "scatter3d",
                  "x": [
                    3.822669905954012,
                    4.7623625267399206
                  ],
                  "y": [
                    1.3913380611924435,
                    1.7333582045181122
                  ],
                  "z": [
                    0,
                    0
                  ]
                },
                {
                  "line": {
                    "color": "grey"
                  },
                  "mode": "lines",
                  "showlegend": false,
                  "type": "scatter3d",
                  "x": [
                    3.822669905954012,
                    3.4806497626283432
                  ],
                  "y": [
                    1.3913380611924435,
                    2.331030681978352
                  ],
                  "z": [
                    0,
                    0
                  ]
                },
                {
                  "line": {
                    "color": "black"
                  },
                  "mode": "lines",
                  "showlegend": false,
                  "type": "scatter3d",
                  "x": [
                    3.5260966390870627,
                    4.119243172820961
                  ],
                  "y": [
                    2.2061664151232767,
                    0.5765097072616104
                  ],
                  "z": [
                    -0.4980954235989668,
                    0.4980954235989668
                  ]
                },
                {
                  "line": {
                    "color": "magenta"
                  },
                  "mode": "lines",
                  "showlegend": false,
                  "type": "scatter3d",
                  "x": [
                    2.89128506259429,
                    4.754054749313735
                  ],
                  "y": [
                    1.0292647151756857,
                    1.7534114072092013
                  ],
                  "z": [
                    -0.037751366386069296,
                    0.037751366386069296
                  ]
                },
                {
                  "line": {
                    "color": "purple"
                  },
                  "mode": "lines",
                  "showlegend": false,
                  "type": "scatter3d",
                  "x": [
                    4.033777866343125,
                    3.6115619455648993
                  ],
                  "y": [
                    0.938615579163333,
                    1.844060543221554
                  ],
                  "z": [
                    -0.8663000538645663,
                    0.8663000538645663
                  ]
                },
                {
                  "line": {
                    "color": "grey"
                  },
                  "mode": "lines",
                  "showlegend": false,
                  "type": "scatter3d",
                  "x": [
                    3.522991641745252,
                    3.522991641745252
                  ],
                  "y": [
                    2.034000172714422,
                    2.034000172714422
                  ],
                  "z": [
                    1.2297560733739026,
                    2.2297560733739026
                  ]
                },
                {
                  "line": {
                    "color": "grey"
                  },
                  "mode": "lines",
                  "showlegend": false,
                  "type": "scatter3d",
                  "x": [
                    3.522991641745252,
                    4.38901704552969
                  ],
                  "y": [
                    2.034000172714422,
                    2.534000172714422
                  ],
                  "z": [
                    1.2297560733739026,
                    1.2297560733739026
                  ]
                },
                {
                  "line": {
                    "color": "grey"
                  },
                  "mode": "lines",
                  "showlegend": false,
                  "type": "scatter3d",
                  "x": [
                    3.522991641745252,
                    3.022991641745252
                  ],
                  "y": [
                    2.034000172714422,
                    2.900025576498861
                  ],
                  "z": [
                    1.2297560733739026,
                    1.2297560733739026
                  ]
                },
                {
                  "line": {
                    "color": "black"
                  },
                  "mode": "lines",
                  "showlegend": false,
                  "type": "scatter3d",
                  "x": [
                    3.956552753063416,
                    3.0894305304270877
                  ],
                  "y": [
                    1.283050299725336,
                    2.7849500457035083
                  ],
                  "z": [
                    1.7278514969728693,
                    0.7316606497749358
                  ]
                },
                {
                  "line": {
                    "color": "magenta"
                  },
                  "mode": "lines",
                  "showlegend": false,
                  "type": "scatter3d",
                  "x": [
                    2.646944729866152,
                    4.399038553624352
                  ],
                  "y": [
                    1.5532542496707864,
                    2.514746095758058
                  ],
                  "z": [
                    1.267507439759972,
                    1.1920047069878332
                  ]
                },
                {
                  "line": {
                    "color": "purple"
                  },
                  "mode": "lines",
                  "showlegend": false,
                  "type": "scatter3d",
                  "x": [
                    3.311883681356139,
                    3.7340996021343646
                  ],
                  "y": [
                    2.4867226547435326,
                    1.5812776906853119
                  ],
                  "z": [
                    2.096056127238469,
                    0.36345601950933615
                  ]
                }
              ],
              "layout": {
                "template": {
                  "data": {
                    "bar": [
                      {
                        "error_x": {
                          "color": "#2a3f5f"
                        },
                        "error_y": {
                          "color": "#2a3f5f"
                        },
                        "marker": {
                          "line": {
                            "color": "#E5ECF6",
                            "width": 0.5
                          },
                          "pattern": {
                            "fillmode": "overlay",
                            "size": 10,
                            "solidity": 0.2
                          }
                        },
                        "type": "bar"
                      }
                    ],
                    "barpolar": [
                      {
                        "marker": {
                          "line": {
                            "color": "#E5ECF6",
                            "width": 0.5
                          },
                          "pattern": {
                            "fillmode": "overlay",
                            "size": 10,
                            "solidity": 0.2
                          }
                        },
                        "type": "barpolar"
                      }
                    ],
                    "carpet": [
                      {
                        "aaxis": {
                          "endlinecolor": "#2a3f5f",
                          "gridcolor": "white",
                          "linecolor": "white",
                          "minorgridcolor": "white",
                          "startlinecolor": "#2a3f5f"
                        },
                        "baxis": {
                          "endlinecolor": "#2a3f5f",
                          "gridcolor": "white",
                          "linecolor": "white",
                          "minorgridcolor": "white",
                          "startlinecolor": "#2a3f5f"
                        },
                        "type": "carpet"
                      }
                    ],
                    "choropleth": [
                      {
                        "colorbar": {
                          "outlinewidth": 0,
                          "ticks": ""
                        },
                        "type": "choropleth"
                      }
                    ],
                    "contour": [
                      {
                        "colorbar": {
                          "outlinewidth": 0,
                          "ticks": ""
                        },
                        "colorscale": [
                          [
                            0,
                            "#0d0887"
                          ],
                          [
                            0.1111111111111111,
                            "#46039f"
                          ],
                          [
                            0.2222222222222222,
                            "#7201a8"
                          ],
                          [
                            0.3333333333333333,
                            "#9c179e"
                          ],
                          [
                            0.4444444444444444,
                            "#bd3786"
                          ],
                          [
                            0.5555555555555556,
                            "#d8576b"
                          ],
                          [
                            0.6666666666666666,
                            "#ed7953"
                          ],
                          [
                            0.7777777777777778,
                            "#fb9f3a"
                          ],
                          [
                            0.8888888888888888,
                            "#fdca26"
                          ],
                          [
                            1,
                            "#f0f921"
                          ]
                        ],
                        "type": "contour"
                      }
                    ],
                    "contourcarpet": [
                      {
                        "colorbar": {
                          "outlinewidth": 0,
                          "ticks": ""
                        },
                        "type": "contourcarpet"
                      }
                    ],
                    "heatmap": [
                      {
                        "colorbar": {
                          "outlinewidth": 0,
                          "ticks": ""
                        },
                        "colorscale": [
                          [
                            0,
                            "#0d0887"
                          ],
                          [
                            0.1111111111111111,
                            "#46039f"
                          ],
                          [
                            0.2222222222222222,
                            "#7201a8"
                          ],
                          [
                            0.3333333333333333,
                            "#9c179e"
                          ],
                          [
                            0.4444444444444444,
                            "#bd3786"
                          ],
                          [
                            0.5555555555555556,
                            "#d8576b"
                          ],
                          [
                            0.6666666666666666,
                            "#ed7953"
                          ],
                          [
                            0.7777777777777778,
                            "#fb9f3a"
                          ],
                          [
                            0.8888888888888888,
                            "#fdca26"
                          ],
                          [
                            1,
                            "#f0f921"
                          ]
                        ],
                        "type": "heatmap"
                      }
                    ],
                    "heatmapgl": [
                      {
                        "colorbar": {
                          "outlinewidth": 0,
                          "ticks": ""
                        },
                        "colorscale": [
                          [
                            0,
                            "#0d0887"
                          ],
                          [
                            0.1111111111111111,
                            "#46039f"
                          ],
                          [
                            0.2222222222222222,
                            "#7201a8"
                          ],
                          [
                            0.3333333333333333,
                            "#9c179e"
                          ],
                          [
                            0.4444444444444444,
                            "#bd3786"
                          ],
                          [
                            0.5555555555555556,
                            "#d8576b"
                          ],
                          [
                            0.6666666666666666,
                            "#ed7953"
                          ],
                          [
                            0.7777777777777778,
                            "#fb9f3a"
                          ],
                          [
                            0.8888888888888888,
                            "#fdca26"
                          ],
                          [
                            1,
                            "#f0f921"
                          ]
                        ],
                        "type": "heatmapgl"
                      }
                    ],
                    "histogram": [
                      {
                        "marker": {
                          "pattern": {
                            "fillmode": "overlay",
                            "size": 10,
                            "solidity": 0.2
                          }
                        },
                        "type": "histogram"
                      }
                    ],
                    "histogram2d": [
                      {
                        "colorbar": {
                          "outlinewidth": 0,
                          "ticks": ""
                        },
                        "colorscale": [
                          [
                            0,
                            "#0d0887"
                          ],
                          [
                            0.1111111111111111,
                            "#46039f"
                          ],
                          [
                            0.2222222222222222,
                            "#7201a8"
                          ],
                          [
                            0.3333333333333333,
                            "#9c179e"
                          ],
                          [
                            0.4444444444444444,
                            "#bd3786"
                          ],
                          [
                            0.5555555555555556,
                            "#d8576b"
                          ],
                          [
                            0.6666666666666666,
                            "#ed7953"
                          ],
                          [
                            0.7777777777777778,
                            "#fb9f3a"
                          ],
                          [
                            0.8888888888888888,
                            "#fdca26"
                          ],
                          [
                            1,
                            "#f0f921"
                          ]
                        ],
                        "type": "histogram2d"
                      }
                    ],
                    "histogram2dcontour": [
                      {
                        "colorbar": {
                          "outlinewidth": 0,
                          "ticks": ""
                        },
                        "colorscale": [
                          [
                            0,
                            "#0d0887"
                          ],
                          [
                            0.1111111111111111,
                            "#46039f"
                          ],
                          [
                            0.2222222222222222,
                            "#7201a8"
                          ],
                          [
                            0.3333333333333333,
                            "#9c179e"
                          ],
                          [
                            0.4444444444444444,
                            "#bd3786"
                          ],
                          [
                            0.5555555555555556,
                            "#d8576b"
                          ],
                          [
                            0.6666666666666666,
                            "#ed7953"
                          ],
                          [
                            0.7777777777777778,
                            "#fb9f3a"
                          ],
                          [
                            0.8888888888888888,
                            "#fdca26"
                          ],
                          [
                            1,
                            "#f0f921"
                          ]
                        ],
                        "type": "histogram2dcontour"
                      }
                    ],
                    "mesh3d": [
                      {
                        "colorbar": {
                          "outlinewidth": 0,
                          "ticks": ""
                        },
                        "type": "mesh3d"
                      }
                    ],
                    "parcoords": [
                      {
                        "line": {
                          "colorbar": {
                            "outlinewidth": 0,
                            "ticks": ""
                          }
                        },
                        "type": "parcoords"
                      }
                    ],
                    "pie": [
                      {
                        "automargin": true,
                        "type": "pie"
                      }
                    ],
                    "scatter": [
                      {
                        "fillpattern": {
                          "fillmode": "overlay",
                          "size": 10,
                          "solidity": 0.2
                        },
                        "type": "scatter"
                      }
                    ],
                    "scatter3d": [
                      {
                        "line": {
                          "colorbar": {
                            "outlinewidth": 0,
                            "ticks": ""
                          }
                        },
                        "marker": {
                          "colorbar": {
                            "outlinewidth": 0,
                            "ticks": ""
                          }
                        },
                        "type": "scatter3d"
                      }
                    ],
                    "scattercarpet": [
                      {
                        "marker": {
                          "colorbar": {
                            "outlinewidth": 0,
                            "ticks": ""
                          }
                        },
                        "type": "scattercarpet"
                      }
                    ],
                    "scattergeo": [
                      {
                        "marker": {
                          "colorbar": {
                            "outlinewidth": 0,
                            "ticks": ""
                          }
                        },
                        "type": "scattergeo"
                      }
                    ],
                    "scattergl": [
                      {
                        "marker": {
                          "colorbar": {
                            "outlinewidth": 0,
                            "ticks": ""
                          }
                        },
                        "type": "scattergl"
                      }
                    ],
                    "scattermapbox": [
                      {
                        "marker": {
                          "colorbar": {
                            "outlinewidth": 0,
                            "ticks": ""
                          }
                        },
                        "type": "scattermapbox"
                      }
                    ],
                    "scatterpolar": [
                      {
                        "marker": {
                          "colorbar": {
                            "outlinewidth": 0,
                            "ticks": ""
                          }
                        },
                        "type": "scatterpolar"
                      }
                    ],
                    "scatterpolargl": [
                      {
                        "marker": {
                          "colorbar": {
                            "outlinewidth": 0,
                            "ticks": ""
                          }
                        },
                        "type": "scatterpolargl"
                      }
                    ],
                    "scatterternary": [
                      {
                        "marker": {
                          "colorbar": {
                            "outlinewidth": 0,
                            "ticks": ""
                          }
                        },
                        "type": "scatterternary"
                      }
                    ],
                    "surface": [
                      {
                        "colorbar": {
                          "outlinewidth": 0,
                          "ticks": ""
                        },
                        "colorscale": [
                          [
                            0,
                            "#0d0887"
                          ],
                          [
                            0.1111111111111111,
                            "#46039f"
                          ],
                          [
                            0.2222222222222222,
                            "#7201a8"
                          ],
                          [
                            0.3333333333333333,
                            "#9c179e"
                          ],
                          [
                            0.4444444444444444,
                            "#bd3786"
                          ],
                          [
                            0.5555555555555556,
                            "#d8576b"
                          ],
                          [
                            0.6666666666666666,
                            "#ed7953"
                          ],
                          [
                            0.7777777777777778,
                            "#fb9f3a"
                          ],
                          [
                            0.8888888888888888,
                            "#fdca26"
                          ],
                          [
                            1,
                            "#f0f921"
                          ]
                        ],
                        "type": "surface"
                      }
                    ],
                    "table": [
                      {
                        "cells": {
                          "fill": {
                            "color": "#EBF0F8"
                          },
                          "line": {
                            "color": "white"
                          }
                        },
                        "header": {
                          "fill": {
                            "color": "#C8D4E3"
                          },
                          "line": {
                            "color": "white"
                          }
                        },
                        "type": "table"
                      }
                    ]
                  },
                  "layout": {
                    "annotationdefaults": {
                      "arrowcolor": "#2a3f5f",
                      "arrowhead": 0,
                      "arrowwidth": 1
                    },
                    "autotypenumbers": "strict",
                    "coloraxis": {
                      "colorbar": {
                        "outlinewidth": 0,
                        "ticks": ""
                      }
                    },
                    "colorscale": {
                      "diverging": [
                        [
                          0,
                          "#8e0152"
                        ],
                        [
                          0.1,
                          "#c51b7d"
                        ],
                        [
                          0.2,
                          "#de77ae"
                        ],
                        [
                          0.3,
                          "#f1b6da"
                        ],
                        [
                          0.4,
                          "#fde0ef"
                        ],
                        [
                          0.5,
                          "#f7f7f7"
                        ],
                        [
                          0.6,
                          "#e6f5d0"
                        ],
                        [
                          0.7,
                          "#b8e186"
                        ],
                        [
                          0.8,
                          "#7fbc41"
                        ],
                        [
                          0.9,
                          "#4d9221"
                        ],
                        [
                          1,
                          "#276419"
                        ]
                      ],
                      "sequential": [
                        [
                          0,
                          "#0d0887"
                        ],
                        [
                          0.1111111111111111,
                          "#46039f"
                        ],
                        [
                          0.2222222222222222,
                          "#7201a8"
                        ],
                        [
                          0.3333333333333333,
                          "#9c179e"
                        ],
                        [
                          0.4444444444444444,
                          "#bd3786"
                        ],
                        [
                          0.5555555555555556,
                          "#d8576b"
                        ],
                        [
                          0.6666666666666666,
                          "#ed7953"
                        ],
                        [
                          0.7777777777777778,
                          "#fb9f3a"
                        ],
                        [
                          0.8888888888888888,
                          "#fdca26"
                        ],
                        [
                          1,
                          "#f0f921"
                        ]
                      ],
                      "sequentialminus": [
                        [
                          0,
                          "#0d0887"
                        ],
                        [
                          0.1111111111111111,
                          "#46039f"
                        ],
                        [
                          0.2222222222222222,
                          "#7201a8"
                        ],
                        [
                          0.3333333333333333,
                          "#9c179e"
                        ],
                        [
                          0.4444444444444444,
                          "#bd3786"
                        ],
                        [
                          0.5555555555555556,
                          "#d8576b"
                        ],
                        [
                          0.6666666666666666,
                          "#ed7953"
                        ],
                        [
                          0.7777777777777778,
                          "#fb9f3a"
                        ],
                        [
                          0.8888888888888888,
                          "#fdca26"
                        ],
                        [
                          1,
                          "#f0f921"
                        ]
                      ]
                    },
                    "colorway": [
                      "#636efa",
                      "#EF553B",
                      "#00cc96",
                      "#ab63fa",
                      "#FFA15A",
                      "#19d3f3",
                      "#FF6692",
                      "#B6E880",
                      "#FF97FF",
                      "#FECB52"
                    ],
                    "font": {
                      "color": "#2a3f5f"
                    },
                    "geo": {
                      "bgcolor": "white",
                      "lakecolor": "white",
                      "landcolor": "#E5ECF6",
                      "showlakes": true,
                      "showland": true,
                      "subunitcolor": "white"
                    },
                    "hoverlabel": {
                      "align": "left"
                    },
                    "hovermode": "closest",
                    "mapbox": {
                      "style": "light"
                    },
                    "paper_bgcolor": "white",
                    "plot_bgcolor": "#E5ECF6",
                    "polar": {
                      "angularaxis": {
                        "gridcolor": "white",
                        "linecolor": "white",
                        "ticks": ""
                      },
                      "bgcolor": "#E5ECF6",
                      "radialaxis": {
                        "gridcolor": "white",
                        "linecolor": "white",
                        "ticks": ""
                      }
                    },
                    "scene": {
                      "xaxis": {
                        "backgroundcolor": "#E5ECF6",
                        "gridcolor": "white",
                        "gridwidth": 2,
                        "linecolor": "white",
                        "showbackground": true,
                        "ticks": "",
                        "zerolinecolor": "white"
                      },
                      "yaxis": {
                        "backgroundcolor": "#E5ECF6",
                        "gridcolor": "white",
                        "gridwidth": 2,
                        "linecolor": "white",
                        "showbackground": true,
                        "ticks": "",
                        "zerolinecolor": "white"
                      },
                      "zaxis": {
                        "backgroundcolor": "#E5ECF6",
                        "gridcolor": "white",
                        "gridwidth": 2,
                        "linecolor": "white",
                        "showbackground": true,
                        "ticks": "",
                        "zerolinecolor": "white"
                      }
                    },
                    "shapedefaults": {
                      "line": {
                        "color": "#2a3f5f"
                      }
                    },
                    "ternary": {
                      "aaxis": {
                        "gridcolor": "white",
                        "linecolor": "white",
                        "ticks": ""
                      },
                      "baxis": {
                        "gridcolor": "white",
                        "linecolor": "white",
                        "ticks": ""
                      },
                      "bgcolor": "#E5ECF6",
                      "caxis": {
                        "gridcolor": "white",
                        "linecolor": "white",
                        "ticks": ""
                      }
                    },
                    "title": {
                      "x": 0.05
                    },
                    "xaxis": {
                      "automargin": true,
                      "gridcolor": "white",
                      "linecolor": "white",
                      "ticks": "",
                      "title": {
                        "standoff": 15
                      },
                      "zerolinecolor": "white",
                      "zerolinewidth": 2
                    },
                    "yaxis": {
                      "automargin": true,
                      "gridcolor": "white",
                      "linecolor": "white",
                      "ticks": "",
                      "title": {
                        "standoff": 15
                      },
                      "zerolinecolor": "white",
                      "zerolinewidth": 2
                    }
                  }
                }
              }
            }
          },
          "metadata": {},
          "output_type": "display_data"
        },
        {
          "data": {
            "application/vnd.plotly.v1+json": {
              "config": {
                "plotlyServerURL": "https://plot.ly"
              },
              "data": [
                {
                  "line": {
                    "color": "yellow"
                  },
                  "mode": "lines",
                  "showlegend": false,
                  "type": "scatter3d",
                  "x": [
                    0.2996782642087603,
                    -0.2996782642087603
                  ],
                  "y": [
                    -0.6426621115219786,
                    0.6426621115219786
                  ],
                  "z": [
                    -1.2297560733739026,
                    1.2297560733739026
                  ]
                },
                {
                  "line": {
                    "color": "black"
                  },
                  "mode": "lines",
                  "showlegend": false,
                  "type": "scatter3d",
                  "x": [
                    -0.29657326686694935,
                    0.29657326686694935
                  ],
                  "y": [
                    0.8148283539308331,
                    -0.8148283539308331
                  ],
                  "z": [
                    -0.4980954235989668,
                    0.4980954235989668
                  ]
                },
                {
                  "line": {
                    "color": "magenta"
                  },
                  "mode": "lines",
                  "showlegend": false,
                  "type": "scatter3d",
                  "x": [
                    -0.9313848433597222,
                    0.9313848433597222
                  ],
                  "y": [
                    -0.3620733460167577,
                    0.3620733460167577
                  ],
                  "z": [
                    -0.037751366386069296,
                    0.037751366386069296
                  ]
                },
                {
                  "line": {
                    "color": "green"
                  },
                  "mode": "lines",
                  "showlegend": false,
                  "type": "scatter3d",
                  "x": [
                    0.23221875642802417,
                    -0.23221875642802417
                  ],
                  "y": [
                    -0.4979947302320215,
                    0.4979947302320215
                  ],
                  "z": [
                    -0.952930059251023,
                    0.952930059251023
                  ]
                },
                {
                  "line": {
                    "color": "grey"
                  },
                  "mode": "lines",
                  "showlegend": false,
                  "type": "scatter3d",
                  "x": [
                    0.433561111318164,
                    -0.433561111318164
                  ],
                  "y": [
                    -0.7509498729890861,
                    0.7509498729890861
                  ],
                  "z": [
                    0.4980954235989667,
                    -0.4980954235989667
                  ]
                },
                {
                  "line": {
                    "color": "violet"
                  },
                  "mode": "lines",
                  "showlegend": false,
                  "type": "scatter3d",
                  "x": [
                    -0.8760469118790999,
                    0.8760469118790999
                  ],
                  "y": [
                    -0.4807459230436358,
                    0.4807459230436358
                  ],
                  "z": [
                    0.03775136638606932,
                    -0.03775136638606932
                  ]
                },
                {
                  "line": {
                    "color": "palegreen"
                  },
                  "mode": "lines",
                  "showlegend": false,
                  "type": "scatter3d",
                  "x": [
                    -0.2111079603891128,
                    0.2111079603891128
                  ],
                  "y": [
                    0.4527224820291103,
                    -0.4527224820291103
                  ],
                  "z": [
                    0.8663000538645664,
                    -0.8663000538645664
                  ]
                },
                {
                  "line": {
                    "color": "skyblue"
                  },
                  "mode": "lines",
                  "showlegend": false,
                  "type": "scatter3d",
                  "x": [
                    0,
                    0
                  ],
                  "y": [
                    0,
                    0
                  ],
                  "z": [
                    -1,
                    1
                  ]
                },
                {
                  "line": {
                    "color": "darkblue"
                  },
                  "mode": "lines",
                  "showlegend": false,
                  "type": "scatter3d",
                  "x": [
                    -0.9396926207859084,
                    0.9396926207859084
                  ],
                  "y": [
                    -0.3420201433256687,
                    0.3420201433256687
                  ],
                  "z": [
                    0,
                    0
                  ]
                },
                {
                  "line": {
                    "color": "dodgerblue"
                  },
                  "mode": "lines",
                  "showlegend": false,
                  "type": "scatter3d",
                  "x": [
                    0.3420201433256687,
                    -0.3420201433256687
                  ],
                  "y": [
                    -0.9396926207859084,
                    0.9396926207859084
                  ],
                  "z": [
                    0,
                    0
                  ]
                }
              ],
              "layout": {
                "template": {
                  "data": {
                    "bar": [
                      {
                        "error_x": {
                          "color": "#2a3f5f"
                        },
                        "error_y": {
                          "color": "#2a3f5f"
                        },
                        "marker": {
                          "line": {
                            "color": "#E5ECF6",
                            "width": 0.5
                          },
                          "pattern": {
                            "fillmode": "overlay",
                            "size": 10,
                            "solidity": 0.2
                          }
                        },
                        "type": "bar"
                      }
                    ],
                    "barpolar": [
                      {
                        "marker": {
                          "line": {
                            "color": "#E5ECF6",
                            "width": 0.5
                          },
                          "pattern": {
                            "fillmode": "overlay",
                            "size": 10,
                            "solidity": 0.2
                          }
                        },
                        "type": "barpolar"
                      }
                    ],
                    "carpet": [
                      {
                        "aaxis": {
                          "endlinecolor": "#2a3f5f",
                          "gridcolor": "white",
                          "linecolor": "white",
                          "minorgridcolor": "white",
                          "startlinecolor": "#2a3f5f"
                        },
                        "baxis": {
                          "endlinecolor": "#2a3f5f",
                          "gridcolor": "white",
                          "linecolor": "white",
                          "minorgridcolor": "white",
                          "startlinecolor": "#2a3f5f"
                        },
                        "type": "carpet"
                      }
                    ],
                    "choropleth": [
                      {
                        "colorbar": {
                          "outlinewidth": 0,
                          "ticks": ""
                        },
                        "type": "choropleth"
                      }
                    ],
                    "contour": [
                      {
                        "colorbar": {
                          "outlinewidth": 0,
                          "ticks": ""
                        },
                        "colorscale": [
                          [
                            0,
                            "#0d0887"
                          ],
                          [
                            0.1111111111111111,
                            "#46039f"
                          ],
                          [
                            0.2222222222222222,
                            "#7201a8"
                          ],
                          [
                            0.3333333333333333,
                            "#9c179e"
                          ],
                          [
                            0.4444444444444444,
                            "#bd3786"
                          ],
                          [
                            0.5555555555555556,
                            "#d8576b"
                          ],
                          [
                            0.6666666666666666,
                            "#ed7953"
                          ],
                          [
                            0.7777777777777778,
                            "#fb9f3a"
                          ],
                          [
                            0.8888888888888888,
                            "#fdca26"
                          ],
                          [
                            1,
                            "#f0f921"
                          ]
                        ],
                        "type": "contour"
                      }
                    ],
                    "contourcarpet": [
                      {
                        "colorbar": {
                          "outlinewidth": 0,
                          "ticks": ""
                        },
                        "type": "contourcarpet"
                      }
                    ],
                    "heatmap": [
                      {
                        "colorbar": {
                          "outlinewidth": 0,
                          "ticks": ""
                        },
                        "colorscale": [
                          [
                            0,
                            "#0d0887"
                          ],
                          [
                            0.1111111111111111,
                            "#46039f"
                          ],
                          [
                            0.2222222222222222,
                            "#7201a8"
                          ],
                          [
                            0.3333333333333333,
                            "#9c179e"
                          ],
                          [
                            0.4444444444444444,
                            "#bd3786"
                          ],
                          [
                            0.5555555555555556,
                            "#d8576b"
                          ],
                          [
                            0.6666666666666666,
                            "#ed7953"
                          ],
                          [
                            0.7777777777777778,
                            "#fb9f3a"
                          ],
                          [
                            0.8888888888888888,
                            "#fdca26"
                          ],
                          [
                            1,
                            "#f0f921"
                          ]
                        ],
                        "type": "heatmap"
                      }
                    ],
                    "heatmapgl": [
                      {
                        "colorbar": {
                          "outlinewidth": 0,
                          "ticks": ""
                        },
                        "colorscale": [
                          [
                            0,
                            "#0d0887"
                          ],
                          [
                            0.1111111111111111,
                            "#46039f"
                          ],
                          [
                            0.2222222222222222,
                            "#7201a8"
                          ],
                          [
                            0.3333333333333333,
                            "#9c179e"
                          ],
                          [
                            0.4444444444444444,
                            "#bd3786"
                          ],
                          [
                            0.5555555555555556,
                            "#d8576b"
                          ],
                          [
                            0.6666666666666666,
                            "#ed7953"
                          ],
                          [
                            0.7777777777777778,
                            "#fb9f3a"
                          ],
                          [
                            0.8888888888888888,
                            "#fdca26"
                          ],
                          [
                            1,
                            "#f0f921"
                          ]
                        ],
                        "type": "heatmapgl"
                      }
                    ],
                    "histogram": [
                      {
                        "marker": {
                          "pattern": {
                            "fillmode": "overlay",
                            "size": 10,
                            "solidity": 0.2
                          }
                        },
                        "type": "histogram"
                      }
                    ],
                    "histogram2d": [
                      {
                        "colorbar": {
                          "outlinewidth": 0,
                          "ticks": ""
                        },
                        "colorscale": [
                          [
                            0,
                            "#0d0887"
                          ],
                          [
                            0.1111111111111111,
                            "#46039f"
                          ],
                          [
                            0.2222222222222222,
                            "#7201a8"
                          ],
                          [
                            0.3333333333333333,
                            "#9c179e"
                          ],
                          [
                            0.4444444444444444,
                            "#bd3786"
                          ],
                          [
                            0.5555555555555556,
                            "#d8576b"
                          ],
                          [
                            0.6666666666666666,
                            "#ed7953"
                          ],
                          [
                            0.7777777777777778,
                            "#fb9f3a"
                          ],
                          [
                            0.8888888888888888,
                            "#fdca26"
                          ],
                          [
                            1,
                            "#f0f921"
                          ]
                        ],
                        "type": "histogram2d"
                      }
                    ],
                    "histogram2dcontour": [
                      {
                        "colorbar": {
                          "outlinewidth": 0,
                          "ticks": ""
                        },
                        "colorscale": [
                          [
                            0,
                            "#0d0887"
                          ],
                          [
                            0.1111111111111111,
                            "#46039f"
                          ],
                          [
                            0.2222222222222222,
                            "#7201a8"
                          ],
                          [
                            0.3333333333333333,
                            "#9c179e"
                          ],
                          [
                            0.4444444444444444,
                            "#bd3786"
                          ],
                          [
                            0.5555555555555556,
                            "#d8576b"
                          ],
                          [
                            0.6666666666666666,
                            "#ed7953"
                          ],
                          [
                            0.7777777777777778,
                            "#fb9f3a"
                          ],
                          [
                            0.8888888888888888,
                            "#fdca26"
                          ],
                          [
                            1,
                            "#f0f921"
                          ]
                        ],
                        "type": "histogram2dcontour"
                      }
                    ],
                    "mesh3d": [
                      {
                        "colorbar": {
                          "outlinewidth": 0,
                          "ticks": ""
                        },
                        "type": "mesh3d"
                      }
                    ],
                    "parcoords": [
                      {
                        "line": {
                          "colorbar": {
                            "outlinewidth": 0,
                            "ticks": ""
                          }
                        },
                        "type": "parcoords"
                      }
                    ],
                    "pie": [
                      {
                        "automargin": true,
                        "type": "pie"
                      }
                    ],
                    "scatter": [
                      {
                        "fillpattern": {
                          "fillmode": "overlay",
                          "size": 10,
                          "solidity": 0.2
                        },
                        "type": "scatter"
                      }
                    ],
                    "scatter3d": [
                      {
                        "line": {
                          "colorbar": {
                            "outlinewidth": 0,
                            "ticks": ""
                          }
                        },
                        "marker": {
                          "colorbar": {
                            "outlinewidth": 0,
                            "ticks": ""
                          }
                        },
                        "type": "scatter3d"
                      }
                    ],
                    "scattercarpet": [
                      {
                        "marker": {
                          "colorbar": {
                            "outlinewidth": 0,
                            "ticks": ""
                          }
                        },
                        "type": "scattercarpet"
                      }
                    ],
                    "scattergeo": [
                      {
                        "marker": {
                          "colorbar": {
                            "outlinewidth": 0,
                            "ticks": ""
                          }
                        },
                        "type": "scattergeo"
                      }
                    ],
                    "scattergl": [
                      {
                        "marker": {
                          "colorbar": {
                            "outlinewidth": 0,
                            "ticks": ""
                          }
                        },
                        "type": "scattergl"
                      }
                    ],
                    "scattermapbox": [
                      {
                        "marker": {
                          "colorbar": {
                            "outlinewidth": 0,
                            "ticks": ""
                          }
                        },
                        "type": "scattermapbox"
                      }
                    ],
                    "scatterpolar": [
                      {
                        "marker": {
                          "colorbar": {
                            "outlinewidth": 0,
                            "ticks": ""
                          }
                        },
                        "type": "scatterpolar"
                      }
                    ],
                    "scatterpolargl": [
                      {
                        "marker": {
                          "colorbar": {
                            "outlinewidth": 0,
                            "ticks": ""
                          }
                        },
                        "type": "scatterpolargl"
                      }
                    ],
                    "scatterternary": [
                      {
                        "marker": {
                          "colorbar": {
                            "outlinewidth": 0,
                            "ticks": ""
                          }
                        },
                        "type": "scatterternary"
                      }
                    ],
                    "surface": [
                      {
                        "colorbar": {
                          "outlinewidth": 0,
                          "ticks": ""
                        },
                        "colorscale": [
                          [
                            0,
                            "#0d0887"
                          ],
                          [
                            0.1111111111111111,
                            "#46039f"
                          ],
                          [
                            0.2222222222222222,
                            "#7201a8"
                          ],
                          [
                            0.3333333333333333,
                            "#9c179e"
                          ],
                          [
                            0.4444444444444444,
                            "#bd3786"
                          ],
                          [
                            0.5555555555555556,
                            "#d8576b"
                          ],
                          [
                            0.6666666666666666,
                            "#ed7953"
                          ],
                          [
                            0.7777777777777778,
                            "#fb9f3a"
                          ],
                          [
                            0.8888888888888888,
                            "#fdca26"
                          ],
                          [
                            1,
                            "#f0f921"
                          ]
                        ],
                        "type": "surface"
                      }
                    ],
                    "table": [
                      {
                        "cells": {
                          "fill": {
                            "color": "#EBF0F8"
                          },
                          "line": {
                            "color": "white"
                          }
                        },
                        "header": {
                          "fill": {
                            "color": "#C8D4E3"
                          },
                          "line": {
                            "color": "white"
                          }
                        },
                        "type": "table"
                      }
                    ]
                  },
                  "layout": {
                    "annotationdefaults": {
                      "arrowcolor": "#2a3f5f",
                      "arrowhead": 0,
                      "arrowwidth": 1
                    },
                    "autotypenumbers": "strict",
                    "coloraxis": {
                      "colorbar": {
                        "outlinewidth": 0,
                        "ticks": ""
                      }
                    },
                    "colorscale": {
                      "diverging": [
                        [
                          0,
                          "#8e0152"
                        ],
                        [
                          0.1,
                          "#c51b7d"
                        ],
                        [
                          0.2,
                          "#de77ae"
                        ],
                        [
                          0.3,
                          "#f1b6da"
                        ],
                        [
                          0.4,
                          "#fde0ef"
                        ],
                        [
                          0.5,
                          "#f7f7f7"
                        ],
                        [
                          0.6,
                          "#e6f5d0"
                        ],
                        [
                          0.7,
                          "#b8e186"
                        ],
                        [
                          0.8,
                          "#7fbc41"
                        ],
                        [
                          0.9,
                          "#4d9221"
                        ],
                        [
                          1,
                          "#276419"
                        ]
                      ],
                      "sequential": [
                        [
                          0,
                          "#0d0887"
                        ],
                        [
                          0.1111111111111111,
                          "#46039f"
                        ],
                        [
                          0.2222222222222222,
                          "#7201a8"
                        ],
                        [
                          0.3333333333333333,
                          "#9c179e"
                        ],
                        [
                          0.4444444444444444,
                          "#bd3786"
                        ],
                        [
                          0.5555555555555556,
                          "#d8576b"
                        ],
                        [
                          0.6666666666666666,
                          "#ed7953"
                        ],
                        [
                          0.7777777777777778,
                          "#fb9f3a"
                        ],
                        [
                          0.8888888888888888,
                          "#fdca26"
                        ],
                        [
                          1,
                          "#f0f921"
                        ]
                      ],
                      "sequentialminus": [
                        [
                          0,
                          "#0d0887"
                        ],
                        [
                          0.1111111111111111,
                          "#46039f"
                        ],
                        [
                          0.2222222222222222,
                          "#7201a8"
                        ],
                        [
                          0.3333333333333333,
                          "#9c179e"
                        ],
                        [
                          0.4444444444444444,
                          "#bd3786"
                        ],
                        [
                          0.5555555555555556,
                          "#d8576b"
                        ],
                        [
                          0.6666666666666666,
                          "#ed7953"
                        ],
                        [
                          0.7777777777777778,
                          "#fb9f3a"
                        ],
                        [
                          0.8888888888888888,
                          "#fdca26"
                        ],
                        [
                          1,
                          "#f0f921"
                        ]
                      ]
                    },
                    "colorway": [
                      "#636efa",
                      "#EF553B",
                      "#00cc96",
                      "#ab63fa",
                      "#FFA15A",
                      "#19d3f3",
                      "#FF6692",
                      "#B6E880",
                      "#FF97FF",
                      "#FECB52"
                    ],
                    "font": {
                      "color": "#2a3f5f"
                    },
                    "geo": {
                      "bgcolor": "white",
                      "lakecolor": "white",
                      "landcolor": "#E5ECF6",
                      "showlakes": true,
                      "showland": true,
                      "subunitcolor": "white"
                    },
                    "hoverlabel": {
                      "align": "left"
                    },
                    "hovermode": "closest",
                    "mapbox": {
                      "style": "light"
                    },
                    "paper_bgcolor": "white",
                    "plot_bgcolor": "#E5ECF6",
                    "polar": {
                      "angularaxis": {
                        "gridcolor": "white",
                        "linecolor": "white",
                        "ticks": ""
                      },
                      "bgcolor": "#E5ECF6",
                      "radialaxis": {
                        "gridcolor": "white",
                        "linecolor": "white",
                        "ticks": ""
                      }
                    },
                    "scene": {
                      "xaxis": {
                        "backgroundcolor": "#E5ECF6",
                        "gridcolor": "white",
                        "gridwidth": 2,
                        "linecolor": "white",
                        "showbackground": true,
                        "ticks": "",
                        "zerolinecolor": "white"
                      },
                      "yaxis": {
                        "backgroundcolor": "#E5ECF6",
                        "gridcolor": "white",
                        "gridwidth": 2,
                        "linecolor": "white",
                        "showbackground": true,
                        "ticks": "",
                        "zerolinecolor": "white"
                      },
                      "zaxis": {
                        "backgroundcolor": "#E5ECF6",
                        "gridcolor": "white",
                        "gridwidth": 2,
                        "linecolor": "white",
                        "showbackground": true,
                        "ticks": "",
                        "zerolinecolor": "white"
                      }
                    },
                    "shapedefaults": {
                      "line": {
                        "color": "#2a3f5f"
                      }
                    },
                    "ternary": {
                      "aaxis": {
                        "gridcolor": "white",
                        "linecolor": "white",
                        "ticks": ""
                      },
                      "baxis": {
                        "gridcolor": "white",
                        "linecolor": "white",
                        "ticks": ""
                      },
                      "bgcolor": "#E5ECF6",
                      "caxis": {
                        "gridcolor": "white",
                        "linecolor": "white",
                        "ticks": ""
                      }
                    },
                    "title": {
                      "x": 0.05
                    },
                    "xaxis": {
                      "automargin": true,
                      "gridcolor": "white",
                      "linecolor": "white",
                      "ticks": "",
                      "title": {
                        "standoff": 15
                      },
                      "zerolinecolor": "white",
                      "zerolinewidth": 2
                    },
                    "yaxis": {
                      "automargin": true,
                      "gridcolor": "white",
                      "linecolor": "white",
                      "ticks": "",
                      "title": {
                        "standoff": 15
                      },
                      "zerolinecolor": "white",
                      "zerolinewidth": 2
                    }
                  }
                }
              }
            }
          },
          "metadata": {},
          "output_type": "display_data"
        },
        {
          "data": {
            "application/vnd.plotly.v1+json": {
              "config": {
                "plotlyServerURL": "https://plot.ly"
              },
              "data": [
                {
                  "line": {
                    "color": "yellow"
                  },
                  "mode": "lines",
                  "showlegend": false,
                  "type": "scatter3d",
                  "x": [
                    0.2996782642087603,
                    -0.2996782642087603
                  ],
                  "y": [
                    -0.6426621115219786,
                    0.6426621115219786
                  ],
                  "z": [
                    -1.2297560733739026,
                    1.2297560733739026
                  ]
                },
                {
                  "line": {
                    "color": "black"
                  },
                  "mode": "lines",
                  "showlegend": false,
                  "type": "scatter3d",
                  "x": [
                    -0.29657326686694935,
                    0.29657326686694935
                  ],
                  "y": [
                    0.8148283539308331,
                    -0.8148283539308331
                  ],
                  "z": [
                    -0.4980954235989668,
                    0.4980954235989668
                  ]
                },
                {
                  "line": {
                    "color": "magenta"
                  },
                  "mode": "lines",
                  "showlegend": false,
                  "type": "scatter3d",
                  "x": [
                    -0.9313848433597222,
                    0.9313848433597222
                  ],
                  "y": [
                    -0.3620733460167577,
                    0.3620733460167577
                  ],
                  "z": [
                    -0.037751366386069296,
                    0.037751366386069296
                  ]
                },
                {
                  "line": {
                    "color": "green"
                  },
                  "mode": "lines",
                  "showlegend": false,
                  "type": "scatter3d",
                  "x": [
                    0.23221875642802417,
                    -0.23221875642802417
                  ],
                  "y": [
                    -0.4979947302320215,
                    0.4979947302320215
                  ],
                  "z": [
                    -0.952930059251023,
                    0.952930059251023
                  ]
                },
                {
                  "line": {
                    "color": "grey"
                  },
                  "mode": "lines",
                  "showlegend": false,
                  "type": "scatter3d",
                  "x": [
                    0.433561111318164,
                    -0.433561111318164
                  ],
                  "y": [
                    -0.7509498729890861,
                    0.7509498729890861
                  ],
                  "z": [
                    0.4980954235989667,
                    -0.4980954235989667
                  ]
                },
                {
                  "line": {
                    "color": "violet"
                  },
                  "mode": "lines",
                  "showlegend": false,
                  "type": "scatter3d",
                  "x": [
                    -0.8760469118790999,
                    0.8760469118790999
                  ],
                  "y": [
                    -0.4807459230436358,
                    0.4807459230436358
                  ],
                  "z": [
                    0.03775136638606932,
                    -0.03775136638606932
                  ]
                },
                {
                  "line": {
                    "color": "palegreen"
                  },
                  "mode": "lines",
                  "showlegend": false,
                  "type": "scatter3d",
                  "x": [
                    -0.2111079603891128,
                    0.2111079603891128
                  ],
                  "y": [
                    0.4527224820291103,
                    -0.4527224820291103
                  ],
                  "z": [
                    0.8663000538645664,
                    -0.8663000538645664
                  ]
                },
                {
                  "line": {
                    "color": "skyblue"
                  },
                  "mode": "lines",
                  "showlegend": false,
                  "type": "scatter3d",
                  "x": [
                    0,
                    0
                  ],
                  "y": [
                    0,
                    0
                  ],
                  "z": [
                    -1,
                    1
                  ]
                },
                {
                  "line": {
                    "color": "darkblue"
                  },
                  "mode": "lines",
                  "showlegend": false,
                  "type": "scatter3d",
                  "x": [
                    -0.8660254037844387,
                    0.8660254037844387
                  ],
                  "y": [
                    -0.4999999999999999,
                    0.4999999999999999
                  ],
                  "z": [
                    0,
                    0
                  ]
                },
                {
                  "line": {
                    "color": "dodgerblue"
                  },
                  "mode": "lines",
                  "showlegend": false,
                  "type": "scatter3d",
                  "x": [
                    0.4999999999999999,
                    -0.4999999999999999
                  ],
                  "y": [
                    -0.8660254037844387,
                    0.8660254037844387
                  ],
                  "z": [
                    0,
                    0
                  ]
                }
              ],
              "layout": {
                "template": {
                  "data": {
                    "bar": [
                      {
                        "error_x": {
                          "color": "#2a3f5f"
                        },
                        "error_y": {
                          "color": "#2a3f5f"
                        },
                        "marker": {
                          "line": {
                            "color": "#E5ECF6",
                            "width": 0.5
                          },
                          "pattern": {
                            "fillmode": "overlay",
                            "size": 10,
                            "solidity": 0.2
                          }
                        },
                        "type": "bar"
                      }
                    ],
                    "barpolar": [
                      {
                        "marker": {
                          "line": {
                            "color": "#E5ECF6",
                            "width": 0.5
                          },
                          "pattern": {
                            "fillmode": "overlay",
                            "size": 10,
                            "solidity": 0.2
                          }
                        },
                        "type": "barpolar"
                      }
                    ],
                    "carpet": [
                      {
                        "aaxis": {
                          "endlinecolor": "#2a3f5f",
                          "gridcolor": "white",
                          "linecolor": "white",
                          "minorgridcolor": "white",
                          "startlinecolor": "#2a3f5f"
                        },
                        "baxis": {
                          "endlinecolor": "#2a3f5f",
                          "gridcolor": "white",
                          "linecolor": "white",
                          "minorgridcolor": "white",
                          "startlinecolor": "#2a3f5f"
                        },
                        "type": "carpet"
                      }
                    ],
                    "choropleth": [
                      {
                        "colorbar": {
                          "outlinewidth": 0,
                          "ticks": ""
                        },
                        "type": "choropleth"
                      }
                    ],
                    "contour": [
                      {
                        "colorbar": {
                          "outlinewidth": 0,
                          "ticks": ""
                        },
                        "colorscale": [
                          [
                            0,
                            "#0d0887"
                          ],
                          [
                            0.1111111111111111,
                            "#46039f"
                          ],
                          [
                            0.2222222222222222,
                            "#7201a8"
                          ],
                          [
                            0.3333333333333333,
                            "#9c179e"
                          ],
                          [
                            0.4444444444444444,
                            "#bd3786"
                          ],
                          [
                            0.5555555555555556,
                            "#d8576b"
                          ],
                          [
                            0.6666666666666666,
                            "#ed7953"
                          ],
                          [
                            0.7777777777777778,
                            "#fb9f3a"
                          ],
                          [
                            0.8888888888888888,
                            "#fdca26"
                          ],
                          [
                            1,
                            "#f0f921"
                          ]
                        ],
                        "type": "contour"
                      }
                    ],
                    "contourcarpet": [
                      {
                        "colorbar": {
                          "outlinewidth": 0,
                          "ticks": ""
                        },
                        "type": "contourcarpet"
                      }
                    ],
                    "heatmap": [
                      {
                        "colorbar": {
                          "outlinewidth": 0,
                          "ticks": ""
                        },
                        "colorscale": [
                          [
                            0,
                            "#0d0887"
                          ],
                          [
                            0.1111111111111111,
                            "#46039f"
                          ],
                          [
                            0.2222222222222222,
                            "#7201a8"
                          ],
                          [
                            0.3333333333333333,
                            "#9c179e"
                          ],
                          [
                            0.4444444444444444,
                            "#bd3786"
                          ],
                          [
                            0.5555555555555556,
                            "#d8576b"
                          ],
                          [
                            0.6666666666666666,
                            "#ed7953"
                          ],
                          [
                            0.7777777777777778,
                            "#fb9f3a"
                          ],
                          [
                            0.8888888888888888,
                            "#fdca26"
                          ],
                          [
                            1,
                            "#f0f921"
                          ]
                        ],
                        "type": "heatmap"
                      }
                    ],
                    "heatmapgl": [
                      {
                        "colorbar": {
                          "outlinewidth": 0,
                          "ticks": ""
                        },
                        "colorscale": [
                          [
                            0,
                            "#0d0887"
                          ],
                          [
                            0.1111111111111111,
                            "#46039f"
                          ],
                          [
                            0.2222222222222222,
                            "#7201a8"
                          ],
                          [
                            0.3333333333333333,
                            "#9c179e"
                          ],
                          [
                            0.4444444444444444,
                            "#bd3786"
                          ],
                          [
                            0.5555555555555556,
                            "#d8576b"
                          ],
                          [
                            0.6666666666666666,
                            "#ed7953"
                          ],
                          [
                            0.7777777777777778,
                            "#fb9f3a"
                          ],
                          [
                            0.8888888888888888,
                            "#fdca26"
                          ],
                          [
                            1,
                            "#f0f921"
                          ]
                        ],
                        "type": "heatmapgl"
                      }
                    ],
                    "histogram": [
                      {
                        "marker": {
                          "pattern": {
                            "fillmode": "overlay",
                            "size": 10,
                            "solidity": 0.2
                          }
                        },
                        "type": "histogram"
                      }
                    ],
                    "histogram2d": [
                      {
                        "colorbar": {
                          "outlinewidth": 0,
                          "ticks": ""
                        },
                        "colorscale": [
                          [
                            0,
                            "#0d0887"
                          ],
                          [
                            0.1111111111111111,
                            "#46039f"
                          ],
                          [
                            0.2222222222222222,
                            "#7201a8"
                          ],
                          [
                            0.3333333333333333,
                            "#9c179e"
                          ],
                          [
                            0.4444444444444444,
                            "#bd3786"
                          ],
                          [
                            0.5555555555555556,
                            "#d8576b"
                          ],
                          [
                            0.6666666666666666,
                            "#ed7953"
                          ],
                          [
                            0.7777777777777778,
                            "#fb9f3a"
                          ],
                          [
                            0.8888888888888888,
                            "#fdca26"
                          ],
                          [
                            1,
                            "#f0f921"
                          ]
                        ],
                        "type": "histogram2d"
                      }
                    ],
                    "histogram2dcontour": [
                      {
                        "colorbar": {
                          "outlinewidth": 0,
                          "ticks": ""
                        },
                        "colorscale": [
                          [
                            0,
                            "#0d0887"
                          ],
                          [
                            0.1111111111111111,
                            "#46039f"
                          ],
                          [
                            0.2222222222222222,
                            "#7201a8"
                          ],
                          [
                            0.3333333333333333,
                            "#9c179e"
                          ],
                          [
                            0.4444444444444444,
                            "#bd3786"
                          ],
                          [
                            0.5555555555555556,
                            "#d8576b"
                          ],
                          [
                            0.6666666666666666,
                            "#ed7953"
                          ],
                          [
                            0.7777777777777778,
                            "#fb9f3a"
                          ],
                          [
                            0.8888888888888888,
                            "#fdca26"
                          ],
                          [
                            1,
                            "#f0f921"
                          ]
                        ],
                        "type": "histogram2dcontour"
                      }
                    ],
                    "mesh3d": [
                      {
                        "colorbar": {
                          "outlinewidth": 0,
                          "ticks": ""
                        },
                        "type": "mesh3d"
                      }
                    ],
                    "parcoords": [
                      {
                        "line": {
                          "colorbar": {
                            "outlinewidth": 0,
                            "ticks": ""
                          }
                        },
                        "type": "parcoords"
                      }
                    ],
                    "pie": [
                      {
                        "automargin": true,
                        "type": "pie"
                      }
                    ],
                    "scatter": [
                      {
                        "fillpattern": {
                          "fillmode": "overlay",
                          "size": 10,
                          "solidity": 0.2
                        },
                        "type": "scatter"
                      }
                    ],
                    "scatter3d": [
                      {
                        "line": {
                          "colorbar": {
                            "outlinewidth": 0,
                            "ticks": ""
                          }
                        },
                        "marker": {
                          "colorbar": {
                            "outlinewidth": 0,
                            "ticks": ""
                          }
                        },
                        "type": "scatter3d"
                      }
                    ],
                    "scattercarpet": [
                      {
                        "marker": {
                          "colorbar": {
                            "outlinewidth": 0,
                            "ticks": ""
                          }
                        },
                        "type": "scattercarpet"
                      }
                    ],
                    "scattergeo": [
                      {
                        "marker": {
                          "colorbar": {
                            "outlinewidth": 0,
                            "ticks": ""
                          }
                        },
                        "type": "scattergeo"
                      }
                    ],
                    "scattergl": [
                      {
                        "marker": {
                          "colorbar": {
                            "outlinewidth": 0,
                            "ticks": ""
                          }
                        },
                        "type": "scattergl"
                      }
                    ],
                    "scattermapbox": [
                      {
                        "marker": {
                          "colorbar": {
                            "outlinewidth": 0,
                            "ticks": ""
                          }
                        },
                        "type": "scattermapbox"
                      }
                    ],
                    "scatterpolar": [
                      {
                        "marker": {
                          "colorbar": {
                            "outlinewidth": 0,
                            "ticks": ""
                          }
                        },
                        "type": "scatterpolar"
                      }
                    ],
                    "scatterpolargl": [
                      {
                        "marker": {
                          "colorbar": {
                            "outlinewidth": 0,
                            "ticks": ""
                          }
                        },
                        "type": "scatterpolargl"
                      }
                    ],
                    "scatterternary": [
                      {
                        "marker": {
                          "colorbar": {
                            "outlinewidth": 0,
                            "ticks": ""
                          }
                        },
                        "type": "scatterternary"
                      }
                    ],
                    "surface": [
                      {
                        "colorbar": {
                          "outlinewidth": 0,
                          "ticks": ""
                        },
                        "colorscale": [
                          [
                            0,
                            "#0d0887"
                          ],
                          [
                            0.1111111111111111,
                            "#46039f"
                          ],
                          [
                            0.2222222222222222,
                            "#7201a8"
                          ],
                          [
                            0.3333333333333333,
                            "#9c179e"
                          ],
                          [
                            0.4444444444444444,
                            "#bd3786"
                          ],
                          [
                            0.5555555555555556,
                            "#d8576b"
                          ],
                          [
                            0.6666666666666666,
                            "#ed7953"
                          ],
                          [
                            0.7777777777777778,
                            "#fb9f3a"
                          ],
                          [
                            0.8888888888888888,
                            "#fdca26"
                          ],
                          [
                            1,
                            "#f0f921"
                          ]
                        ],
                        "type": "surface"
                      }
                    ],
                    "table": [
                      {
                        "cells": {
                          "fill": {
                            "color": "#EBF0F8"
                          },
                          "line": {
                            "color": "white"
                          }
                        },
                        "header": {
                          "fill": {
                            "color": "#C8D4E3"
                          },
                          "line": {
                            "color": "white"
                          }
                        },
                        "type": "table"
                      }
                    ]
                  },
                  "layout": {
                    "annotationdefaults": {
                      "arrowcolor": "#2a3f5f",
                      "arrowhead": 0,
                      "arrowwidth": 1
                    },
                    "autotypenumbers": "strict",
                    "coloraxis": {
                      "colorbar": {
                        "outlinewidth": 0,
                        "ticks": ""
                      }
                    },
                    "colorscale": {
                      "diverging": [
                        [
                          0,
                          "#8e0152"
                        ],
                        [
                          0.1,
                          "#c51b7d"
                        ],
                        [
                          0.2,
                          "#de77ae"
                        ],
                        [
                          0.3,
                          "#f1b6da"
                        ],
                        [
                          0.4,
                          "#fde0ef"
                        ],
                        [
                          0.5,
                          "#f7f7f7"
                        ],
                        [
                          0.6,
                          "#e6f5d0"
                        ],
                        [
                          0.7,
                          "#b8e186"
                        ],
                        [
                          0.8,
                          "#7fbc41"
                        ],
                        [
                          0.9,
                          "#4d9221"
                        ],
                        [
                          1,
                          "#276419"
                        ]
                      ],
                      "sequential": [
                        [
                          0,
                          "#0d0887"
                        ],
                        [
                          0.1111111111111111,
                          "#46039f"
                        ],
                        [
                          0.2222222222222222,
                          "#7201a8"
                        ],
                        [
                          0.3333333333333333,
                          "#9c179e"
                        ],
                        [
                          0.4444444444444444,
                          "#bd3786"
                        ],
                        [
                          0.5555555555555556,
                          "#d8576b"
                        ],
                        [
                          0.6666666666666666,
                          "#ed7953"
                        ],
                        [
                          0.7777777777777778,
                          "#fb9f3a"
                        ],
                        [
                          0.8888888888888888,
                          "#fdca26"
                        ],
                        [
                          1,
                          "#f0f921"
                        ]
                      ],
                      "sequentialminus": [
                        [
                          0,
                          "#0d0887"
                        ],
                        [
                          0.1111111111111111,
                          "#46039f"
                        ],
                        [
                          0.2222222222222222,
                          "#7201a8"
                        ],
                        [
                          0.3333333333333333,
                          "#9c179e"
                        ],
                        [
                          0.4444444444444444,
                          "#bd3786"
                        ],
                        [
                          0.5555555555555556,
                          "#d8576b"
                        ],
                        [
                          0.6666666666666666,
                          "#ed7953"
                        ],
                        [
                          0.7777777777777778,
                          "#fb9f3a"
                        ],
                        [
                          0.8888888888888888,
                          "#fdca26"
                        ],
                        [
                          1,
                          "#f0f921"
                        ]
                      ]
                    },
                    "colorway": [
                      "#636efa",
                      "#EF553B",
                      "#00cc96",
                      "#ab63fa",
                      "#FFA15A",
                      "#19d3f3",
                      "#FF6692",
                      "#B6E880",
                      "#FF97FF",
                      "#FECB52"
                    ],
                    "font": {
                      "color": "#2a3f5f"
                    },
                    "geo": {
                      "bgcolor": "white",
                      "lakecolor": "white",
                      "landcolor": "#E5ECF6",
                      "showlakes": true,
                      "showland": true,
                      "subunitcolor": "white"
                    },
                    "hoverlabel": {
                      "align": "left"
                    },
                    "hovermode": "closest",
                    "mapbox": {
                      "style": "light"
                    },
                    "paper_bgcolor": "white",
                    "plot_bgcolor": "#E5ECF6",
                    "polar": {
                      "angularaxis": {
                        "gridcolor": "white",
                        "linecolor": "white",
                        "ticks": ""
                      },
                      "bgcolor": "#E5ECF6",
                      "radialaxis": {
                        "gridcolor": "white",
                        "linecolor": "white",
                        "ticks": ""
                      }
                    },
                    "scene": {
                      "xaxis": {
                        "backgroundcolor": "#E5ECF6",
                        "gridcolor": "white",
                        "gridwidth": 2,
                        "linecolor": "white",
                        "showbackground": true,
                        "ticks": "",
                        "zerolinecolor": "white"
                      },
                      "yaxis": {
                        "backgroundcolor": "#E5ECF6",
                        "gridcolor": "white",
                        "gridwidth": 2,
                        "linecolor": "white",
                        "showbackground": true,
                        "ticks": "",
                        "zerolinecolor": "white"
                      },
                      "zaxis": {
                        "backgroundcolor": "#E5ECF6",
                        "gridcolor": "white",
                        "gridwidth": 2,
                        "linecolor": "white",
                        "showbackground": true,
                        "ticks": "",
                        "zerolinecolor": "white"
                      }
                    },
                    "shapedefaults": {
                      "line": {
                        "color": "#2a3f5f"
                      }
                    },
                    "ternary": {
                      "aaxis": {
                        "gridcolor": "white",
                        "linecolor": "white",
                        "ticks": ""
                      },
                      "baxis": {
                        "gridcolor": "white",
                        "linecolor": "white",
                        "ticks": ""
                      },
                      "bgcolor": "#E5ECF6",
                      "caxis": {
                        "gridcolor": "white",
                        "linecolor": "white",
                        "ticks": ""
                      }
                    },
                    "title": {
                      "x": 0.05
                    },
                    "xaxis": {
                      "automargin": true,
                      "gridcolor": "white",
                      "linecolor": "white",
                      "ticks": "",
                      "title": {
                        "standoff": 15
                      },
                      "zerolinecolor": "white",
                      "zerolinewidth": 2
                    },
                    "yaxis": {
                      "automargin": true,
                      "gridcolor": "white",
                      "linecolor": "white",
                      "ticks": "",
                      "title": {
                        "standoff": 15
                      },
                      "zerolinecolor": "white",
                      "zerolinewidth": 2
                    }
                  }
                }
              }
            }
          },
          "metadata": {},
          "output_type": "display_data"
        }
      ],
      "source": [
        "Prueba(r[1],r[2])"
      ]
    },
    {
      "cell_type": "code",
      "execution_count": 165,
      "metadata": {},
      "outputs": [],
      "source": [
        "def Prueba(r1,r2):\n",
        "\n",
        "    # Parte correspondiente al c\n",
        "\n",
        "    X = array([r1[0],r2[0]])\n",
        "    Y = array([r1[1],r2[1]])\n",
        "    Z = array([r1[2],r2[2]])\n",
        "\n",
        "    x1,y1,z1 = r1[0],r1[1],r1[2]\n",
        "    x2,y2,z2 = r2[0],r2[1],r2[2]\n",
        "\n",
        "    x12 = x2 - x1\n",
        "    y12 = y2 - y1\n",
        "    z12 = z2 - z1\n",
        "\n",
        "    # --------------------------------------------------------------------------------------------\n",
        "    \n",
        "    # Parte correspondiente al cálculo de la matriz de resortes de 1. \n",
        "\n",
        "    rij1 = array([x12,y12,z12])\n",
        "\n",
        "    zhat = [0,0,1]\n",
        "\n",
        "    ρhat1 = [x1,y1,0]/LA.norm([x1,y1,0])\n",
        "    θhat1 = np.cross(zhat,ρhat1)\n",
        "\n",
        "    M1 = array([θhat1,zhat,ρhat1]).T #Matriz de cambio de base\n",
        "\n",
        "    φ1 = arcsin(dot(rij1,ρhat1)/LA.norm(rij1))  #Angulo que hace Kx con el plano perpendicular a rho.\n",
        "\n",
        "    T1 = array([[cos(φ1) ,0.  ,-sin(φ1)],\n",
        "                    [0.     ,1.  ,0],\n",
        "                    [sin(φ1),0.  ,cos(φ1)]],dtype = complex)\n",
        "\n",
        "    w1 = rij1 - dot(rij1,ρhat1)*ρhat1 #Componente del vector dentro del plano\n",
        "\n",
        "    xi1 = dot(rij1,θhat1)\n",
        "    yi1 = dot(rij1,zhat)\n",
        "\n",
        "    θ1 = sign(yi1)*arccos(xi1/sqrt(xi1**2 + yi1**2))\n",
        "\n",
        "    U1 = array([[cos(θ1),-sin(θ1),0],\n",
        "                [sin(θ1),cos(θ1),0],\n",
        "                [       0,      0,1]],dtype = complex)\n",
        "    \n",
        "    θhatrot1 = real(dot(M1,dot(U1,dot(T1,[1,0,0]))))\n",
        "    zhatrot1 = real(dot(M1,dot(U1,dot(T1,[0,1,0]))))\n",
        "    ρhatrot1 = real(dot(M1,dot(U1,dot(T1,[0,0,1]))))\n",
        "\n",
        "    print(LA.norm(cross(rij1,θhatrot1)))\n",
        "\n",
        "    #print(sign(dot(rij1,θhat1)))\n",
        "    # --------------------------------------------------------------------------------------------\n",
        "    \n",
        "    # Parte correspondiente al cálculo de la matriz de resortes de 1. \n",
        "\n",
        "    rij2 = -1*rij1\n",
        "\n",
        "    ρhat2 = [x2,y2,0]/LA.norm([x2,y2,0])\n",
        "    θhat2 = np.cross(zhat,ρhat2)\n",
        "\n",
        "    M2 = array([θhat2,zhat,ρhat2]).T #Matriz de cambio de base\n",
        "\n",
        "\n",
        "    φ2 = (arcsin(dot(rij2,ρhat2)/LA.norm(rij2))) #Angulo que hace Kx con el plano perpendicular a rho.\n",
        "\n",
        "\n",
        "    T2 = array([[cos(φ2) ,0.  ,-sin(φ2)],\n",
        "                    [0.     ,1.  ,0],\n",
        "                    [sin(φ2),0.  ,cos(φ2)]],dtype = complex)\n",
        "\n",
        "    w2 = rij2 - dot(rij2,ρhat2)*ρhat2 #Componente del vector dentro del plano\n",
        "\n",
        "    xi2 = dot(rij2,θhat2)\n",
        "    yi2 = dot(rij2,zhat)\n",
        "\n",
        "    θ2 = sign(yi2)*arccos(xi2/sqrt(xi2**2 + yi2**2))\n",
        "\n",
        "    U2 = array([[cos(θ2),-sin(θ2),0],\n",
        "                [sin(θ2),cos(θ2),0],\n",
        "                [       0,      0,1]],dtype = complex)\n",
        "    \n",
        "    θhatrot2 = real(dot(M2,dot(U2,dot(T2,[1,0,0]))))\n",
        "    zhatrot2 = real(dot(M2,dot(U2,dot(T2,[0,1,0]))))\n",
        "    ρhatrot2 = real(dot(M2,dot(U2,dot(T2,[0,0,1]))))\n",
        "\n",
        "    print(LA.norm(cross(rij2,θhatrot2)))\n",
        "\n",
        "    #---------------------------------------------------------------------------------------------\n",
        "    # Comparación de tensores\n",
        "\n",
        "    Krotplano1 = dot(T1,dot(Kbase,inv(T1)))\n",
        "    Krotpolar1 = dot(U1,dot(Krotplano1,inv(U1)))\n",
        "    K1 = dot(M1,dot(Krotpolar1,inv(M1)))\n",
        "\n",
        "    Krotplano2 = dot(T2,dot(Kbase,inv(T2)))\n",
        "    Krotpolar2 = dot(U2,dot(Krotplano2,inv(U2)))\n",
        "    K2 = dot(M2,dot(Krotpolar2,inv(M2)))\n",
        "\n",
        "    print(K1 - K2)\n",
        "\n",
        "\n",
        "    # --------------------------------------------------------------------------------------------\n",
        "    \n",
        "    # Parte correspondiente a la graficación de vectores base y vectores base rotado visto desde el origen. \n",
        "\n",
        "    DATAPrueba = [go.Scatter3d(x=X, y=Y, z=Z,mode='markers',showlegend=False)]\n",
        "    DATAPrueba.append( go.Scatter3d(x=[0], y=[0], z=[Z[0]],mode='markers'))\n",
        "    DATAPrueba.append( go.Scatter3d(x=[X[0],X[1]], y=[Y[0],Y[1]], z=[Z[0],Z[1]],mode='lines',line=dict(color='dark blue'),showlegend=False))\n",
        "\n",
        "    # Se dibuja la base de la base asociada al punto r1. \n",
        "    DATAPrueba.append( go.Scatter3d(x=[X[0],X[0]], y=[Y[0],Y[0]], z=[Z[0],Z[0] + 1],mode='lines',line=dict(color='grey'),showlegend=False))\n",
        "    DATAPrueba.append( go.Scatter3d(x=[X[0],X[0] + ρhat1[0]], y=[Y[0],Y[0] + ρhat1[1]], z=[Z[0],Z[0] + ρhat1[2]],mode='lines',line=dict(color='grey'),showlegend=False))\n",
        "    DATAPrueba.append( go.Scatter3d(x=[X[0],X[0] + θhat1[0]], y=[Y[0],Y[0] + θhat1[1]], z=[Z[0],Z[0] + θhat1[2]],mode='lines',line=dict(color='grey'),showlegend=False))\n",
        "\n",
        "    DATAPrueba.append( go.Scatter3d(x=[X[0] - zhatrot1[0],X[0] + zhatrot1[0]], y=[Y[0] - zhatrot1[1],Y[0] + zhatrot1[1]], z=[Z[0] - zhatrot1[2],Z[0] + zhatrot1[2]],mode='lines',line=dict(color='black'),showlegend=False))\n",
        "    DATAPrueba.append( go.Scatter3d(x=[X[0] - ρhatrot1[0],X[0] + ρhatrot1[0]], y=[Y[0] - ρhatrot1[1],Y[0] + ρhatrot1[1]], z=[Z[0] - ρhatrot1[2],Z[0] + ρhatrot1[2]],mode='lines',line=dict(color='magenta'),showlegend=False))\n",
        "    DATAPrueba.append( go.Scatter3d(x=[X[0] - θhatrot1[0],X[0] + θhatrot1[0]], y=[Y[0] - θhatrot1[1],Y[0] + θhatrot1[1]], z=[Z[0] - θhatrot1[2],Z[0] + θhatrot1[2]],mode='lines',line=dict(color='purple'),showlegend=False))\n",
        "\n",
        "    # Se dibuja la base de la base asociada al punto r2. \n",
        "    DATAPrueba.append( go.Scatter3d(x=[X[1],X[1]], y=[Y[1],Y[1]], z=[Z[1],Z[1] + 1],mode='lines',line=dict(color='grey'),showlegend=False))\n",
        "    DATAPrueba.append( go.Scatter3d(x=[X[1],X[1] + ρhat2[0]], y=[Y[1],Y[1] + ρhat2[1]], z=[Z[1],Z[1] + ρhat2[2]],mode='lines',line=dict(color='grey'),showlegend=False))\n",
        "    DATAPrueba.append( go.Scatter3d(x=[X[1],X[1] + θhat2[0]], y=[Y[1],Y[1] + θhat2[1]], z=[Z[1],Z[1] + θhat2[2]],mode='lines',line=dict(color='grey'),showlegend=False))\n",
        "\n",
        "    DATAPrueba.append( go.Scatter3d(x=[X[1] - zhatrot2[0],X[1] + zhatrot2[0]], y=[Y[1] - zhatrot2[1],Y[1] + zhatrot2[1]], z=[Z[1] - zhatrot2[2],Z[1] + zhatrot2[2]],mode='lines',line=dict(color='black'),showlegend=False))\n",
        "    DATAPrueba.append( go.Scatter3d(x=[X[1] - ρhatrot2[0],X[1] + ρhatrot2[0]], y=[Y[1] - ρhatrot2[1],Y[1] + ρhatrot2[1]], z=[Z[1] - ρhatrot2[2],Z[1] + ρhatrot2[2]],mode='lines',line=dict(color='magenta'),showlegend=False))\n",
        "    DATAPrueba.append( go.Scatter3d(x=[X[1] - θhatrot2[0],X[1] + θhatrot2[0]], y=[Y[1] - θhatrot2[1],Y[1] + θhatrot2[1]], z=[Z[1] - θhatrot2[2],Z[1] + θhatrot2[2]],mode='lines',line=dict(color='purple'),showlegend=False))\n",
        "    \n",
        "    \n",
        "    fig = go.Figure(data=DATAPrueba)\n",
        "    fig.show()\n",
        "\n",
        "    # --------------------------------------------------------------------------------------------\n",
        "    \n",
        "    # Parte correspondiente la comparación de vectores base visto desde el mismo punto\n",
        "\n",
        "    CompTens = [ go.Scatter3d(x=[- rij1[0],rij1[0]], y=[-rij1[1],rij1[1]], z=[-rij1[2],rij1[2]],mode='lines',line=dict(color='yellow'),showlegend=False)]\n",
        "\n",
        "    CompTens.append( go.Scatter3d(x=[- zhatrot1[0],zhatrot1[0]], y=[-zhatrot1[1],zhatrot1[1]], z=[-zhatrot1[2],zhatrot1[2]],mode='lines',line=dict(color='black'),showlegend=False))\n",
        "    CompTens.append( go.Scatter3d(x=[- ρhatrot1[0],ρhatrot1[0]], y=[-ρhatrot1[1],ρhatrot1[1]], z=[-ρhatrot1[2],ρhatrot1[2]],mode='lines',line=dict(color='magenta'),showlegend=False))\n",
        "    CompTens.append( go.Scatter3d(x=[- 1.1*θhatrot1[0],1.1*θhatrot1[0]], y=[-1.1*θhatrot1[1],1.1*θhatrot1[1]], z=[-1.1*θhatrot1[2],1.1*θhatrot1[2]],mode='lines',line=dict(color='green'),showlegend=False))\n",
        "\n",
        "    CompTens.append( go.Scatter3d(x=[- zhatrot2[0],zhatrot2[0]], y=[-zhatrot2[1],zhatrot2[1]], z=[-zhatrot2[2],zhatrot2[2]],mode='lines',line=dict(color='grey'),showlegend=False))\n",
        "    CompTens.append( go.Scatter3d(x=[- ρhatrot2[0],ρhatrot2[0]], y=[-ρhatrot2[1],ρhatrot2[1]], z=[-ρhatrot2[2],ρhatrot2[2]],mode='lines',line=dict(color='violet'),showlegend=False))\n",
        "    CompTens.append( go.Scatter3d(x=[- θhatrot2[0],θhatrot2[0]], y=[-θhatrot2[1],θhatrot2[1]], z=[-θhatrot2[2],θhatrot2[2]],mode='lines',line=dict(color='palegreen'),showlegend=False))\n",
        "\n",
        "    CompTens.append(go.Scatter3d(x=[- zhat[0],zhat[0]], y=[-zhat[1],zhat[1]], z=[-zhat[2],zhat[2]],mode='lines',line=dict(color='skyblue'),showlegend=False))\n",
        "    CompTens.append( go.Scatter3d(x=[- ρhat1[0],ρhat1[0]], y=[-ρhat1[1],ρhat1[1]], z=[-ρhat1[2],ρhat1[2]],mode='lines',line=dict(color='darkblue'),showlegend=False))\n",
        "    CompTens.append( go.Scatter3d(x=[- θhat1[0],θhat1[0]], y=[-θhat1[1],θhat1[1]], z=[-θhat1[2],θhat1[2]],mode='lines',line=dict(color='dodgerblue'),showlegend=False))\n",
        "\n",
        "    fig2 = go.Figure(data=CompTens)\n",
        "    fig2.show()\n",
        "\n",
        "    CompTens2 = [ go.Scatter3d(x=[- rij1[0],rij1[0]], y=[-rij1[1],rij1[1]], z=[-rij1[2],rij1[2]],mode='lines',line=dict(color='yellow'),showlegend=False)]\n",
        "\n",
        "    CompTens2.append( go.Scatter3d(x=[- zhatrot1[0],zhatrot1[0]], y=[-zhatrot1[1],zhatrot1[1]], z=[-zhatrot1[2],zhatrot1[2]],mode='lines',line=dict(color='black'),showlegend=False))\n",
        "    CompTens2.append( go.Scatter3d(x=[- ρhatrot1[0],ρhatrot1[0]], y=[-ρhatrot1[1],ρhatrot1[1]], z=[-ρhatrot1[2],ρhatrot1[2]],mode='lines',line=dict(color='magenta'),showlegend=False))\n",
        "    CompTens2.append( go.Scatter3d(x=[- 1.1*θhatrot1[0],1.1*θhatrot1[0]], y=[-1.1*θhatrot1[1],1.1*θhatrot1[1]], z=[-1.1*θhatrot1[2],1.1*θhatrot1[2]],mode='lines',line=dict(color='green'),showlegend=False))\n",
        "\n",
        "    CompTens2.append( go.Scatter3d(x=[- zhatrot2[0],zhatrot2[0]], y=[-zhatrot2[1],zhatrot2[1]], z=[-zhatrot2[2],zhatrot2[2]],mode='lines',line=dict(color='grey'),showlegend=False))\n",
        "    CompTens2.append( go.Scatter3d(x=[- ρhatrot2[0],ρhatrot2[0]], y=[-ρhatrot2[1],ρhatrot2[1]], z=[-ρhatrot2[2],ρhatrot2[2]],mode='lines',line=dict(color='violet'),showlegend=False))\n",
        "    CompTens2.append( go.Scatter3d(x=[- θhatrot2[0],θhatrot2[0]], y=[-θhatrot2[1],θhatrot2[1]], z=[-θhatrot2[2],θhatrot2[2]],mode='lines',line=dict(color='palegreen'),showlegend=False))\n",
        "\n",
        "    CompTens2.append( go.Scatter3d(x=[- zhat[0],zhat[0]], y=[-zhat[1],zhat[1]], z=[-zhat[2],zhat[2]],mode='lines',line=dict(color='skyblue'),showlegend=False))\n",
        "    CompTens2.append( go.Scatter3d(x=[- ρhat2[0],ρhat2[0]], y=[-ρhat2[1],ρhat2[1]], z=[-ρhat2[2],ρhat2[2]],mode='lines',line=dict(color='darkblue'),showlegend=False))\n",
        "    CompTens2.append( go.Scatter3d(x=[- θhat2[0],θhat2[0]], y=[-θhat2[1],θhat2[1]], z=[-θhat2[2],θhat2[2]],mode='lines',line=dict(color='dodgerblue'),showlegend=False))\n",
        "\n",
        "    fig3 = go.Figure(data=CompTens2)\n",
        "    fig3.show()"
      ]
    },
    {
      "cell_type": "code",
      "execution_count": 60,
      "metadata": {},
      "outputs": [],
      "source": [
        "def RotBasisVec(r1,r2,B = False):\n",
        "    X = array([r1[0],r2[0]])\n",
        "    Y = array([r1[1],r2[1]])\n",
        "    Z = array([r1[2],r2[2]])\n",
        "\n",
        "    x1,y1,z1 = r1[0],r1[1],r1[2]\n",
        "    x2,y2,z2 = r2[0],r2[1],r2[2]\n",
        "\n",
        "    x12 = x2 - x1\n",
        "    y12 = y2 - y1\n",
        "    z12 = z2 - z1\n",
        "\n",
        "    # --------------------------------------------------------------------------------------------\n",
        "    \n",
        "    # Parte correspondiente al cálculo de la matriz de resortes de 1. \n",
        "\n",
        "    rij1 = array([x12,y12,z12])\n",
        "\n",
        "    zhat = [0,0,1]\n",
        "\n",
        "    ρhat1 = [x1,y1,0]/LA.norm([x1,y1,0])\n",
        "    θhat1 = np.cross(zhat,ρhat1)\n",
        "\n",
        "    M1 = array([θhat1,zhat,ρhat1]).T #Matriz de cambio de base\n",
        "\n",
        "    φ1 = arcsin(dot(rij1,ρhat1)/LA.norm(rij1))  #Angulo que hace Kx con el plano perpendicular a rho.\n",
        "\n",
        "    T1 = array([[cos(φ1) ,0.  ,-sin(φ1)],\n",
        "                    [0.     ,1.  ,0],\n",
        "                    [sin(φ1),0.  ,cos(φ1)]],dtype = complex)\n",
        "\n",
        "    w1 = rij1 - dot(rij1,ρhat1)*ρhat1 #Componente del vector dentro del plano\n",
        "\n",
        "    xi1 = dot(rij1,θhat1)\n",
        "    yi1 = dot(rij1,zhat)\n",
        "\n",
        "    θ1 = sign(yi1)*arccos(xi1/sqrt(xi1**2 + yi1**2))\n",
        "\n",
        "    U1 = array([[cos(θ1),-sin(θ1),0],\n",
        "                [sin(θ1),cos(θ1),0],\n",
        "                [       0,      0,1]],dtype = complex)\n",
        "    \n",
        "    θhatrot1 = real(dot(M1,dot(U1,dot(T1,[1,0,0]))))\n",
        "    zhatrot1 = real(dot(M1,dot(U1,dot(T1,[0,1,0]))))\n",
        "    ρhatrot1 = real(dot(M1,dot(U1,dot(T1,[0,0,1]))))\n",
        "\n",
        "    \n",
        "\n",
        "    Basis = [zhat,ρhat1,θhat1]\n",
        "\n",
        "    RotBasis = [θhatrot1,zhatrot1,ρhatrot1]\n",
        "\n",
        "    return Basis,RotBasis"
      ]
    },
    {
      "cell_type": "code",
      "execution_count": 61,
      "metadata": {},
      "outputs": [],
      "source": [
        "DATA = [go.Scatter3d(x=X, y=Y, z=Z,mode='markers',showlegend=False)]\n",
        "\n",
        "for key in nn: # para cada sitio\n",
        "    for n in nn[key]: # para cada vecino\n",
        "        VecBasis,VecRot = RotBasisVec(r[key],r[n])\n",
        "\n",
        "        DATA.append( go.Scatter3d(x=[X[key],X[n]], y=[Y[key],Y[n]], z=[Z[key],Z[n]],mode='lines',line=dict(color='blue'),showlegend=False))\n",
        "\n",
        "        for vec in VecBasis:\n",
        "            DATA.append(go.Scatter3d(x=[X[key],X[key] + vec[0]], y=[Y[key] ,Y[key] + vec[1]], z=[Z[key],Z[key] + vec[2]],mode='lines',line=dict(color='black'),showlegend=False))\n",
        "\n",
        "        for vec in VecRot:\n",
        "            DATA.append(go.Scatter3d(x=[X[key],X[key] + vec[0]], y=[Y[key] ,Y[key] + vec[1]], z=[Z[key],Z[key] + vec[2]],mode='lines',line=dict(color='green'),showlegend=False))\n",
        "\n",
        "for key in nn_minus_a3: # para cada sitio\n",
        "    for n in nn_minus_a3[key]: # para cada vecino\n",
        "        DATA.append( go.Scatter3d(x=[X[key]+a3[0],X[n]], y=[Y[key]+a3[1],Y[n]], z=[Z[key]+a3[2],Z[n]],mode='lines',line=dict(color='red'),showlegend=False) )\n",
        "\n",
        "for key in nn_plus_a3: # para cada sitio\n",
        "    for n in nn_plus_a3[key]: # para cada vecino\n",
        "        DATA.append( go.Scatter3d(x=[X[key]-a3[0],X[n]], y=[Y[key]-a3[1],Y[n]], z=[Z[key]-a3[2],Z[n]],mode='lines',line=dict(color='red'),showlegend=False) )"
      ]
    },
    {
      "cell_type": "code",
      "execution_count": 62,
      "metadata": {},
      "outputs": [
        {
          "data": {
            "application/vnd.plotly.v1+json": {
              "config": {
                "plotlyServerURL": "https://plot.ly"
              },
              "data": [
                {
                  "mode": "markers",
                  "showlegend": false,
                  "type": "scatter3d",
                  "x": [
                    2.7120002302858963,
                    2.3486610944968342,
                    1.917673753414636,
                    0.7019173099204127,
                    1.660621200653254e-16,
                    -1.3560001151429475,
                    -1.9176737534146355,
                    -2.6195910633350477,
                    -2.7120002302858963,
                    -2.3486610944968342,
                    -1.9176737534146362,
                    -0.7019173099204117,
                    -4.981863601959761e-16,
                    1.3560001151429484,
                    1.9176737534146353,
                    2.619591063335048
                  ],
                  "y": [
                    0,
                    1.356000115142948,
                    1.9176737534146355,
                    2.6195910633350477,
                    2.7120002302858963,
                    2.3486610944968342,
                    1.917673753414636,
                    0.7019173099204128,
                    3.321242401306508e-16,
                    -1.3560001151429475,
                    -1.9176737534146355,
                    -2.619591063335048,
                    -2.7120002302858963,
                    -2.348661094496834,
                    -1.9176737534146362,
                    -0.7019173099204119
                  ],
                  "z": [
                    0,
                    0,
                    1.2297560733739026,
                    1.2297560733739026,
                    -4.440892098500626e-16,
                    2.459512146747805,
                    1.2297560733739024,
                    1.2297560733739024,
                    -8.881784197001252e-16,
                    2.4595121467478047,
                    1.2297560733739015,
                    1.2297560733739015,
                    -8.881784197001252e-16,
                    2.4595121467478047,
                    1.2297560733739015,
                    1.2297560733739015
                  ]
                },
                {
                  "line": {
                    "color": "blue"
                  },
                  "mode": "lines",
                  "showlegend": false,
                  "type": "scatter3d",
                  "x": [
                    2.7120002302858963,
                    2.3486610944968342
                  ],
                  "y": [
                    0,
                    1.356000115142948
                  ],
                  "z": [
                    0,
                    0
                  ]
                },
                {
                  "line": {
                    "color": "black"
                  },
                  "mode": "lines",
                  "showlegend": false,
                  "type": "scatter3d",
                  "x": [
                    2.7120002302858963,
                    2.7120002302858963
                  ],
                  "y": [
                    0,
                    0
                  ],
                  "z": [
                    0,
                    1
                  ]
                },
                {
                  "line": {
                    "color": "black"
                  },
                  "mode": "lines",
                  "showlegend": false,
                  "type": "scatter3d",
                  "x": [
                    2.7120002302858963,
                    3.7120002302858963
                  ],
                  "y": [
                    0,
                    0
                  ],
                  "z": [
                    0,
                    0
                  ]
                },
                {
                  "line": {
                    "color": "black"
                  },
                  "mode": "lines",
                  "showlegend": false,
                  "type": "scatter3d",
                  "x": [
                    2.7120002302858963,
                    2.7120002302858963
                  ],
                  "y": [
                    0,
                    1
                  ],
                  "z": [
                    0,
                    0
                  ]
                },
                {
                  "line": {
                    "color": "green"
                  },
                  "mode": "lines",
                  "showlegend": false,
                  "type": "scatter3d",
                  "x": [
                    2.7120002302858963,
                    2.4531811851833756
                  ],
                  "y": [
                    0,
                    0.9659258262890683
                  ],
                  "z": [
                    0,
                    0
                  ]
                },
                {
                  "line": {
                    "color": "green"
                  },
                  "mode": "lines",
                  "showlegend": false,
                  "type": "scatter3d",
                  "x": [
                    2.7120002302858963,
                    2.7120002302858963
                  ],
                  "y": [
                    0,
                    0
                  ],
                  "z": [
                    0,
                    1
                  ]
                },
                {
                  "line": {
                    "color": "green"
                  },
                  "mode": "lines",
                  "showlegend": false,
                  "type": "scatter3d",
                  "x": [
                    2.7120002302858963,
                    3.6779260565749645
                  ],
                  "y": [
                    0,
                    0.25881904510252063
                  ],
                  "z": [
                    0,
                    0
                  ]
                },
                {
                  "line": {
                    "color": "blue"
                  },
                  "mode": "lines",
                  "showlegend": false,
                  "type": "scatter3d",
                  "x": [
                    2.7120002302858963,
                    2.619591063335048
                  ],
                  "y": [
                    0,
                    -0.7019173099204119
                  ],
                  "z": [
                    0,
                    1.2297560733739015
                  ]
                },
                {
                  "line": {
                    "color": "black"
                  },
                  "mode": "lines",
                  "showlegend": false,
                  "type": "scatter3d",
                  "x": [
                    2.7120002302858963,
                    2.7120002302858963
                  ],
                  "y": [
                    0,
                    0
                  ],
                  "z": [
                    0,
                    1
                  ]
                },
                {
                  "line": {
                    "color": "black"
                  },
                  "mode": "lines",
                  "showlegend": false,
                  "type": "scatter3d",
                  "x": [
                    2.7120002302858963,
                    3.7120002302858963
                  ],
                  "y": [
                    0,
                    0
                  ],
                  "z": [
                    0,
                    0
                  ]
                },
                {
                  "line": {
                    "color": "black"
                  },
                  "mode": "lines",
                  "showlegend": false,
                  "type": "scatter3d",
                  "x": [
                    2.7120002302858963,
                    2.7120002302858963
                  ],
                  "y": [
                    0,
                    1
                  ],
                  "z": [
                    0,
                    0
                  ]
                },
                {
                  "line": {
                    "color": "green"
                  },
                  "mode": "lines",
                  "showlegend": false,
                  "type": "scatter3d",
                  "x": [
                    2.7120002302858963,
                    2.646876947133378
                  ],
                  "y": [
                    0,
                    -0.49466044583990537
                  ],
                  "z": [
                    0,
                    0.8666429491508617
                  ]
                },
                {
                  "line": {
                    "color": "green"
                  },
                  "mode": "lines",
                  "showlegend": false,
                  "type": "scatter3d",
                  "x": [
                    2.7120002302858963,
                    2.7120002302858963
                  ],
                  "y": [
                    0,
                    -0.8684865498957978
                  ],
                  "z": [
                    0,
                    -0.4957127319830447
                  ]
                },
                {
                  "line": {
                    "color": "green"
                  },
                  "mode": "lines",
                  "showlegend": false,
                  "type": "scatter3d",
                  "x": [
                    2.7120002302858963,
                    3.709877456196698
                  ],
                  "y": [
                    0,
                    -0.03228244060724015
                  ],
                  "z": [
                    0,
                    0.0565586955030176
                  ]
                },
                {
                  "line": {
                    "color": "blue"
                  },
                  "mode": "lines",
                  "showlegend": false,
                  "type": "scatter3d",
                  "x": [
                    2.3486610944968342,
                    2.7120002302858963
                  ],
                  "y": [
                    1.356000115142948,
                    0
                  ],
                  "z": [
                    0,
                    0
                  ]
                },
                {
                  "line": {
                    "color": "black"
                  },
                  "mode": "lines",
                  "showlegend": false,
                  "type": "scatter3d",
                  "x": [
                    2.3486610944968342,
                    2.3486610944968342
                  ],
                  "y": [
                    1.356000115142948,
                    1.356000115142948
                  ],
                  "z": [
                    0,
                    1
                  ]
                },
                {
                  "line": {
                    "color": "black"
                  },
                  "mode": "lines",
                  "showlegend": false,
                  "type": "scatter3d",
                  "x": [
                    2.3486610944968342,
                    3.214686498281273
                  ],
                  "y": [
                    1.356000115142948,
                    1.856000115142948
                  ],
                  "z": [
                    0,
                    0
                  ]
                },
                {
                  "line": {
                    "color": "black"
                  },
                  "mode": "lines",
                  "showlegend": false,
                  "type": "scatter3d",
                  "x": [
                    2.3486610944968342,
                    1.8486610944968342
                  ],
                  "y": [
                    1.356000115142948,
                    2.2220255189273868
                  ],
                  "z": [
                    0,
                    0
                  ]
                },
                {
                  "line": {
                    "color": "green"
                  },
                  "mode": "lines",
                  "showlegend": false,
                  "type": "scatter3d",
                  "x": [
                    2.3486610944968342,
                    1.6415543133102868
                  ],
                  "y": [
                    1.356000115142948,
                    2.0631068963294954
                  ],
                  "z": [
                    0,
                    0
                  ]
                },
                {
                  "line": {
                    "color": "green"
                  },
                  "mode": "lines",
                  "showlegend": false,
                  "type": "scatter3d",
                  "x": [
                    2.3486610944968342,
                    2.3486610944968342
                  ],
                  "y": [
                    1.356000115142948,
                    1.356000115142948
                  ],
                  "z": [
                    0,
                    1
                  ]
                },
                {
                  "line": {
                    "color": "green"
                  },
                  "mode": "lines",
                  "showlegend": false,
                  "type": "scatter3d",
                  "x": [
                    2.3486610944968342,
                    3.0557678756833817
                  ],
                  "y": [
                    1.356000115142948,
                    2.0631068963294954
                  ],
                  "z": [
                    0,
                    0
                  ]
                },
                {
                  "line": {
                    "color": "blue"
                  },
                  "mode": "lines",
                  "showlegend": false,
                  "type": "scatter3d",
                  "x": [
                    2.3486610944968342,
                    1.917673753414636
                  ],
                  "y": [
                    1.356000115142948,
                    1.9176737534146355
                  ],
                  "z": [
                    0,
                    1.2297560733739026
                  ]
                },
                {
                  "line": {
                    "color": "black"
                  },
                  "mode": "lines",
                  "showlegend": false,
                  "type": "scatter3d",
                  "x": [
                    2.3486610944968342,
                    2.3486610944968342
                  ],
                  "y": [
                    1.356000115142948,
                    1.356000115142948
                  ],
                  "z": [
                    0,
                    1
                  ]
                },
                {
                  "line": {
                    "color": "black"
                  },
                  "mode": "lines",
                  "showlegend": false,
                  "type": "scatter3d",
                  "x": [
                    2.3486610944968342,
                    3.214686498281273
                  ],
                  "y": [
                    1.356000115142948,
                    1.856000115142948
                  ],
                  "z": [
                    0,
                    0
                  ]
                },
                {
                  "line": {
                    "color": "black"
                  },
                  "mode": "lines",
                  "showlegend": false,
                  "type": "scatter3d",
                  "x": [
                    2.3486610944968342,
                    1.8486610944968342
                  ],
                  "y": [
                    1.356000115142948,
                    2.2220255189273868
                  ],
                  "z": [
                    0,
                    0
                  ]
                },
                {
                  "line": {
                    "color": "green"
                  },
                  "mode": "lines",
                  "showlegend": false,
                  "type": "scatter3d",
                  "x": [
                    2.3486610944968342,
                    2.0449324539889537
                  ],
                  "y": [
                    1.356000115142948,
                    1.751826985911383
                  ],
                  "z": [
                    0,
                    0.8666429491508618
                  ]
                },
                {
                  "line": {
                    "color": "green"
                  },
                  "mode": "lines",
                  "showlegend": false,
                  "type": "scatter3d",
                  "x": [
                    2.3486610944968342,
                    2.7829043694447333
                  ],
                  "y": [
                    1.356000115142948,
                    0.6038687000880855
                  ],
                  "z": [
                    0,
                    0.49571273198304444
                  ]
                },
                {
                  "line": {
                    "color": "green"
                  },
                  "mode": "lines",
                  "showlegend": false,
                  "type": "scatter3d",
                  "x": [
                    2.3486610944968342,
                    3.1967069016899115
                  ],
                  "y": [
                    1.356000115142948,
                    1.882896141760381
                  ],
                  "z": [
                    0,
                    0.05655869550301782
                  ]
                },
                {
                  "line": {
                    "color": "blue"
                  },
                  "mode": "lines",
                  "showlegend": false,
                  "type": "scatter3d",
                  "x": [
                    1.917673753414636,
                    2.3486610944968342
                  ],
                  "y": [
                    1.9176737534146355,
                    1.356000115142948
                  ],
                  "z": [
                    1.2297560733739026,
                    0
                  ]
                },
                {
                  "line": {
                    "color": "black"
                  },
                  "mode": "lines",
                  "showlegend": false,
                  "type": "scatter3d",
                  "x": [
                    1.917673753414636,
                    1.917673753414636
                  ],
                  "y": [
                    1.9176737534146355,
                    1.9176737534146355
                  ],
                  "z": [
                    1.2297560733739026,
                    2.2297560733739026
                  ]
                },
                {
                  "line": {
                    "color": "black"
                  },
                  "mode": "lines",
                  "showlegend": false,
                  "type": "scatter3d",
                  "x": [
                    1.917673753414636,
                    2.6247805346011837
                  ],
                  "y": [
                    1.9176737534146355,
                    2.624780534601183
                  ],
                  "z": [
                    1.2297560733739026,
                    1.2297560733739026
                  ]
                },
                {
                  "line": {
                    "color": "black"
                  },
                  "mode": "lines",
                  "showlegend": false,
                  "type": "scatter3d",
                  "x": [
                    1.917673753414636,
                    1.2105669722280885
                  ],
                  "y": [
                    1.9176737534146355,
                    2.624780534601183
                  ],
                  "z": [
                    1.2297560733739026,
                    1.2297560733739026
                  ]
                },
                {
                  "line": {
                    "color": "green"
                  },
                  "mode": "lines",
                  "showlegend": false,
                  "type": "scatter3d",
                  "x": [
                    1.917673753414636,
                    2.2214023939225163
                  ],
                  "y": [
                    1.9176737534146355,
                    1.5218468826462006
                  ],
                  "z": [
                    1.2297560733739026,
                    0.36311312422304065
                  ]
                },
                {
                  "line": {
                    "color": "green"
                  },
                  "mode": "lines",
                  "showlegend": false,
                  "type": "scatter3d",
                  "x": [
                    1.917673753414636,
                    1.3035610246140084
                  ],
                  "y": [
                    1.9176737534146355,
                    2.531786482215263
                  ],
                  "z": [
                    1.2297560733739026,
                    0.7340433413908583
                  ]
                },
                {
                  "line": {
                    "color": "green"
                  },
                  "mode": "lines",
                  "showlegend": false,
                  "type": "scatter3d",
                  "x": [
                    1.917673753414636,
                    2.6461066393144157
                  ],
                  "y": [
                    1.9176737534146355,
                    2.6004523739811525
                  ],
                  "z": [
                    1.2297560733739026,
                    1.1731973778708848
                  ]
                },
                {
                  "line": {
                    "color": "blue"
                  },
                  "mode": "lines",
                  "showlegend": false,
                  "type": "scatter3d",
                  "x": [
                    1.917673753414636,
                    0.7019173099204127
                  ],
                  "y": [
                    1.9176737534146355,
                    2.6195910633350477
                  ],
                  "z": [
                    1.2297560733739026,
                    1.2297560733739026
                  ]
                },
                {
                  "line": {
                    "color": "black"
                  },
                  "mode": "lines",
                  "showlegend": false,
                  "type": "scatter3d",
                  "x": [
                    1.917673753414636,
                    1.917673753414636
                  ],
                  "y": [
                    1.9176737534146355,
                    1.9176737534146355
                  ],
                  "z": [
                    1.2297560733739026,
                    2.2297560733739026
                  ]
                },
                {
                  "line": {
                    "color": "black"
                  },
                  "mode": "lines",
                  "showlegend": false,
                  "type": "scatter3d",
                  "x": [
                    1.917673753414636,
                    2.6247805346011837
                  ],
                  "y": [
                    1.9176737534146355,
                    2.624780534601183
                  ],
                  "z": [
                    1.2297560733739026,
                    1.2297560733739026
                  ]
                },
                {
                  "line": {
                    "color": "black"
                  },
                  "mode": "lines",
                  "showlegend": false,
                  "type": "scatter3d",
                  "x": [
                    1.917673753414636,
                    1.2105669722280885
                  ],
                  "y": [
                    1.9176737534146355,
                    2.624780534601183
                  ],
                  "z": [
                    1.2297560733739026,
                    1.2297560733739026
                  ]
                },
                {
                  "line": {
                    "color": "green"
                  },
                  "mode": "lines",
                  "showlegend": false,
                  "type": "scatter3d",
                  "x": [
                    1.917673753414636,
                    1.0516483496301974
                  ],
                  "y": [
                    1.9176737534146355,
                    2.4176737534146358
                  ],
                  "z": [
                    1.2297560733739026,
                    1.2297560733739026
                  ]
                },
                {
                  "line": {
                    "color": "green"
                  },
                  "mode": "lines",
                  "showlegend": false,
                  "type": "scatter3d",
                  "x": [
                    1.917673753414636,
                    1.917673753414636
                  ],
                  "y": [
                    1.9176737534146355,
                    1.9176737534146355
                  ],
                  "z": [
                    1.2297560733739026,
                    2.2297560733739026
                  ]
                },
                {
                  "line": {
                    "color": "green"
                  },
                  "mode": "lines",
                  "showlegend": false,
                  "type": "scatter3d",
                  "x": [
                    1.917673753414636,
                    2.417673753414636
                  ],
                  "y": [
                    1.9176737534146355,
                    2.783699157199074
                  ],
                  "z": [
                    1.2297560733739026,
                    1.2297560733739026
                  ]
                },
                {
                  "line": {
                    "color": "blue"
                  },
                  "mode": "lines",
                  "showlegend": false,
                  "type": "scatter3d",
                  "x": [
                    0.7019173099204127,
                    1.917673753414636
                  ],
                  "y": [
                    2.6195910633350477,
                    1.9176737534146355
                  ],
                  "z": [
                    1.2297560733739026,
                    1.2297560733739026
                  ]
                },
                {
                  "line": {
                    "color": "black"
                  },
                  "mode": "lines",
                  "showlegend": false,
                  "type": "scatter3d",
                  "x": [
                    0.7019173099204127,
                    0.7019173099204127
                  ],
                  "y": [
                    2.6195910633350477,
                    2.6195910633350477
                  ],
                  "z": [
                    1.2297560733739026,
                    2.2297560733739026
                  ]
                },
                {
                  "line": {
                    "color": "black"
                  },
                  "mode": "lines",
                  "showlegend": false,
                  "type": "scatter3d",
                  "x": [
                    0.7019173099204127,
                    0.9607363550229336
                  ],
                  "y": [
                    2.6195910633350477,
                    3.585516889624116
                  ],
                  "z": [
                    1.2297560733739026,
                    1.2297560733739026
                  ]
                },
                {
                  "line": {
                    "color": "black"
                  },
                  "mode": "lines",
                  "showlegend": false,
                  "type": "scatter3d",
                  "x": [
                    0.7019173099204127,
                    -0.2640085163686555
                  ],
                  "y": [
                    2.6195910633350477,
                    2.878410108437569
                  ],
                  "z": [
                    1.2297560733739026,
                    1.2297560733739026
                  ]
                },
                {
                  "line": {
                    "color": "green"
                  },
                  "mode": "lines",
                  "showlegend": false,
                  "type": "scatter3d",
                  "x": [
                    0.7019173099204127,
                    -0.2980826900795873
                  ],
                  "y": [
                    2.6195910633350477,
                    2.619591063335048
                  ],
                  "z": [
                    1.2297560733739026,
                    1.2297560733739026
                  ]
                },
                {
                  "line": {
                    "color": "green"
                  },
                  "mode": "lines",
                  "showlegend": false,
                  "type": "scatter3d",
                  "x": [
                    0.7019173099204127,
                    0.7019173099204127
                  ],
                  "y": [
                    2.6195910633350477,
                    2.6195910633350477
                  ],
                  "z": [
                    1.2297560733739026,
                    2.2297560733739026
                  ]
                },
                {
                  "line": {
                    "color": "green"
                  },
                  "mode": "lines",
                  "showlegend": false,
                  "type": "scatter3d",
                  "x": [
                    0.7019173099204127,
                    0.701917309920413
                  ],
                  "y": [
                    2.6195910633350477,
                    3.6195910633350477
                  ],
                  "z": [
                    1.2297560733739026,
                    1.2297560733739026
                  ]
                },
                {
                  "line": {
                    "color": "blue"
                  },
                  "mode": "lines",
                  "showlegend": false,
                  "type": "scatter3d",
                  "x": [
                    0.7019173099204127,
                    1.660621200653254e-16
                  ],
                  "y": [
                    2.6195910633350477,
                    2.7120002302858963
                  ],
                  "z": [
                    1.2297560733739026,
                    -4.440892098500626e-16
                  ]
                },
                {
                  "line": {
                    "color": "black"
                  },
                  "mode": "lines",
                  "showlegend": false,
                  "type": "scatter3d",
                  "x": [
                    0.7019173099204127,
                    0.7019173099204127
                  ],
                  "y": [
                    2.6195910633350477,
                    2.6195910633350477
                  ],
                  "z": [
                    1.2297560733739026,
                    2.2297560733739026
                  ]
                },
                {
                  "line": {
                    "color": "black"
                  },
                  "mode": "lines",
                  "showlegend": false,
                  "type": "scatter3d",
                  "x": [
                    0.7019173099204127,
                    0.9607363550229336
                  ],
                  "y": [
                    2.6195910633350477,
                    3.585516889624116
                  ],
                  "z": [
                    1.2297560733739026,
                    1.2297560733739026
                  ]
                },
                {
                  "line": {
                    "color": "black"
                  },
                  "mode": "lines",
                  "showlegend": false,
                  "type": "scatter3d",
                  "x": [
                    0.7019173099204127,
                    -0.2640085163686555
                  ],
                  "y": [
                    2.6195910633350477,
                    2.878410108437569
                  ],
                  "z": [
                    1.2297560733739026,
                    1.2297560733739026
                  ]
                },
                {
                  "line": {
                    "color": "green"
                  },
                  "mode": "lines",
                  "showlegend": false,
                  "type": "scatter3d",
                  "x": [
                    0.7019173099204127,
                    0.20725686408050764
                  ],
                  "y": [
                    2.6195910633350477,
                    2.6847143464875662
                  ],
                  "z": [
                    1.2297560733739026,
                    0.36311312422304065
                  ]
                },
                {
                  "line": {
                    "color": "green"
                  },
                  "mode": "lines",
                  "showlegend": false,
                  "type": "scatter3d",
                  "x": [
                    0.7019173099204127,
                    -0.13697627840862803
                  ],
                  "y": [
                    2.6195910633350477,
                    2.844371922863461
                  ],
                  "z": [
                    1.2297560733739026,
                    1.7254688053569471
                  ]
                },
                {
                  "line": {
                    "color": "green"
                  },
                  "mode": "lines",
                  "showlegend": false,
                  "type": "scatter3d",
                  "x": [
                    0.7019173099204127,
                    0.9290044975420226
                  ],
                  "y": [
                    2.6195910633350477,
                    3.5918217577595266
                  ],
                  "z": [
                    1.2297560733739026,
                    1.1731973778708848
                  ]
                },
                {
                  "line": {
                    "color": "blue"
                  },
                  "mode": "lines",
                  "showlegend": false,
                  "type": "scatter3d",
                  "x": [
                    1.660621200653254e-16,
                    0.7019173099204127
                  ],
                  "y": [
                    2.7120002302858963,
                    2.6195910633350477
                  ],
                  "z": [
                    -4.440892098500626e-16,
                    1.2297560733739026
                  ]
                },
                {
                  "line": {
                    "color": "black"
                  },
                  "mode": "lines",
                  "showlegend": false,
                  "type": "scatter3d",
                  "x": [
                    1.660621200653254e-16,
                    1.660621200653254e-16
                  ],
                  "y": [
                    2.7120002302858963,
                    2.7120002302858963
                  ],
                  "z": [
                    -4.440892098500626e-16,
                    0.9999999999999996
                  ]
                },
                {
                  "line": {
                    "color": "black"
                  },
                  "mode": "lines",
                  "showlegend": false,
                  "type": "scatter3d",
                  "x": [
                    1.660621200653254e-16,
                    2.2729446002269304e-16
                  ],
                  "y": [
                    2.7120002302858963,
                    3.7120002302858963
                  ],
                  "z": [
                    -4.440892098500626e-16,
                    -4.440892098500626e-16
                  ]
                },
                {
                  "line": {
                    "color": "black"
                  },
                  "mode": "lines",
                  "showlegend": false,
                  "type": "scatter3d",
                  "x": [
                    1.660621200653254e-16,
                    -0.9999999999999999
                  ],
                  "y": [
                    2.7120002302858963,
                    2.7120002302858963
                  ],
                  "z": [
                    -4.440892098500626e-16,
                    -4.440892098500626e-16
                  ]
                },
                {
                  "line": {
                    "color": "green"
                  },
                  "mode": "lines",
                  "showlegend": false,
                  "type": "scatter3d",
                  "x": [
                    1.660621200653254e-16,
                    0.4946604458399051
                  ],
                  "y": [
                    2.7120002302858963,
                    2.6468769471333777
                  ],
                  "z": [
                    -4.440892098500626e-16,
                    0.8666429491508614
                  ]
                },
                {
                  "line": {
                    "color": "green"
                  },
                  "mode": "lines",
                  "showlegend": false,
                  "type": "scatter3d",
                  "x": [
                    1.660621200653254e-16,
                    0.8684865498957981
                  ],
                  "y": [
                    2.7120002302858963,
                    2.7120002302858963
                  ],
                  "z": [
                    -4.440892098500626e-16,
                    -0.4957127319830448
                  ]
                },
                {
                  "line": {
                    "color": "green"
                  },
                  "mode": "lines",
                  "showlegend": false,
                  "type": "scatter3d",
                  "x": [
                    1.660621200653254e-16,
                    0.032282440607240455
                  ],
                  "y": [
                    2.7120002302858963,
                    3.709877456196698
                  ],
                  "z": [
                    -4.440892098500626e-16,
                    0.05655869550301735
                  ]
                },
                {
                  "line": {
                    "color": "blue"
                  },
                  "mode": "lines",
                  "showlegend": false,
                  "type": "scatter3d",
                  "x": [
                    -1.3560001151429475,
                    -1.9176737534146355
                  ],
                  "y": [
                    2.3486610944968342,
                    1.917673753414636
                  ],
                  "z": [
                    2.459512146747805,
                    1.2297560733739024
                  ]
                },
                {
                  "line": {
                    "color": "black"
                  },
                  "mode": "lines",
                  "showlegend": false,
                  "type": "scatter3d",
                  "x": [
                    -1.3560001151429475,
                    -1.3560001151429475
                  ],
                  "y": [
                    2.3486610944968342,
                    2.3486610944968342
                  ],
                  "z": [
                    2.459512146747805,
                    3.459512146747805
                  ]
                },
                {
                  "line": {
                    "color": "black"
                  },
                  "mode": "lines",
                  "showlegend": false,
                  "type": "scatter3d",
                  "x": [
                    -1.3560001151429475,
                    -1.8560001151429473
                  ],
                  "y": [
                    2.3486610944968342,
                    3.214686498281273
                  ],
                  "z": [
                    2.459512146747805,
                    2.459512146747805
                  ]
                },
                {
                  "line": {
                    "color": "black"
                  },
                  "mode": "lines",
                  "showlegend": false,
                  "type": "scatter3d",
                  "x": [
                    -1.3560001151429475,
                    -2.2220255189273863
                  ],
                  "y": [
                    2.3486610944968342,
                    1.8486610944968345
                  ],
                  "z": [
                    2.459512146747805,
                    2.459512146747805
                  ]
                },
                {
                  "line": {
                    "color": "green"
                  },
                  "mode": "lines",
                  "showlegend": false,
                  "type": "scatter3d",
                  "x": [
                    -1.3560001151429475,
                    -1.7518269859113826
                  ],
                  "y": [
                    2.3486610944968342,
                    2.0449324539889537
                  ],
                  "z": [
                    2.459512146747805,
                    1.5928691975969431
                  ]
                },
                {
                  "line": {
                    "color": "green"
                  },
                  "mode": "lines",
                  "showlegend": false,
                  "type": "scatter3d",
                  "x": [
                    -1.3560001151429475,
                    -2.10813153019781
                  ],
                  "y": [
                    2.3486610944968342,
                    1.9144178195489354
                  ],
                  "z": [
                    2.459512146747805,
                    2.9552248787308497
                  ]
                },
                {
                  "line": {
                    "color": "green"
                  },
                  "mode": "lines",
                  "showlegend": false,
                  "type": "scatter3d",
                  "x": [
                    -1.3560001151429475,
                    -1.8828961417603804
                  ],
                  "y": [
                    2.3486610944968342,
                    3.196706901689912
                  ],
                  "z": [
                    2.459512146747805,
                    2.4029534512447874
                  ]
                },
                {
                  "line": {
                    "color": "blue"
                  },
                  "mode": "lines",
                  "showlegend": false,
                  "type": "scatter3d",
                  "x": [
                    -1.9176737534146355,
                    -1.3560001151429475
                  ],
                  "y": [
                    1.917673753414636,
                    2.3486610944968342
                  ],
                  "z": [
                    1.2297560733739024,
                    2.459512146747805
                  ]
                },
                {
                  "line": {
                    "color": "black"
                  },
                  "mode": "lines",
                  "showlegend": false,
                  "type": "scatter3d",
                  "x": [
                    -1.9176737534146355,
                    -1.9176737534146355
                  ],
                  "y": [
                    1.917673753414636,
                    1.917673753414636
                  ],
                  "z": [
                    1.2297560733739024,
                    2.2297560733739026
                  ]
                },
                {
                  "line": {
                    "color": "black"
                  },
                  "mode": "lines",
                  "showlegend": false,
                  "type": "scatter3d",
                  "x": [
                    -1.9176737534146355,
                    -2.624780534601183
                  ],
                  "y": [
                    1.917673753414636,
                    2.6247805346011837
                  ],
                  "z": [
                    1.2297560733739024,
                    1.2297560733739024
                  ]
                },
                {
                  "line": {
                    "color": "black"
                  },
                  "mode": "lines",
                  "showlegend": false,
                  "type": "scatter3d",
                  "x": [
                    -1.9176737534146355,
                    -2.624780534601183
                  ],
                  "y": [
                    1.917673753414636,
                    1.2105669722280885
                  ],
                  "z": [
                    1.2297560733739024,
                    1.2297560733739024
                  ]
                },
                {
                  "line": {
                    "color": "green"
                  },
                  "mode": "lines",
                  "showlegend": false,
                  "type": "scatter3d",
                  "x": [
                    -1.9176737534146355,
                    -1.5218468826462004
                  ],
                  "y": [
                    1.917673753414636,
                    2.2214023939225163
                  ],
                  "z": [
                    1.2297560733739024,
                    2.096399022524764
                  ]
                },
                {
                  "line": {
                    "color": "green"
                  },
                  "mode": "lines",
                  "showlegend": false,
                  "type": "scatter3d",
                  "x": [
                    -1.9176737534146355,
                    -1.303561024614008
                  ],
                  "y": [
                    1.917673753414636,
                    2.5317864822152636
                  ],
                  "z": [
                    1.2297560733739024,
                    0.734043341390858
                  ]
                },
                {
                  "line": {
                    "color": "green"
                  },
                  "mode": "lines",
                  "showlegend": false,
                  "type": "scatter3d",
                  "x": [
                    -1.9176737534146355,
                    -2.600452373981152
                  ],
                  "y": [
                    1.917673753414636,
                    2.6461066393144157
                  ],
                  "z": [
                    1.2297560733739024,
                    1.28631476887692
                  ]
                },
                {
                  "line": {
                    "color": "blue"
                  },
                  "mode": "lines",
                  "showlegend": false,
                  "type": "scatter3d",
                  "x": [
                    -1.9176737534146355,
                    -2.6195910633350477
                  ],
                  "y": [
                    1.917673753414636,
                    0.7019173099204128
                  ],
                  "z": [
                    1.2297560733739024,
                    1.2297560733739024
                  ]
                },
                {
                  "line": {
                    "color": "black"
                  },
                  "mode": "lines",
                  "showlegend": false,
                  "type": "scatter3d",
                  "x": [
                    -1.9176737534146355,
                    -1.9176737534146355
                  ],
                  "y": [
                    1.917673753414636,
                    1.917673753414636
                  ],
                  "z": [
                    1.2297560733739024,
                    2.2297560733739026
                  ]
                },
                {
                  "line": {
                    "color": "black"
                  },
                  "mode": "lines",
                  "showlegend": false,
                  "type": "scatter3d",
                  "x": [
                    -1.9176737534146355,
                    -2.624780534601183
                  ],
                  "y": [
                    1.917673753414636,
                    2.6247805346011837
                  ],
                  "z": [
                    1.2297560733739024,
                    1.2297560733739024
                  ]
                },
                {
                  "line": {
                    "color": "black"
                  },
                  "mode": "lines",
                  "showlegend": false,
                  "type": "scatter3d",
                  "x": [
                    -1.9176737534146355,
                    -2.624780534601183
                  ],
                  "y": [
                    1.917673753414636,
                    1.2105669722280885
                  ],
                  "z": [
                    1.2297560733739024,
                    1.2297560733739024
                  ]
                },
                {
                  "line": {
                    "color": "green"
                  },
                  "mode": "lines",
                  "showlegend": false,
                  "type": "scatter3d",
                  "x": [
                    -1.9176737534146355,
                    -2.4176737534146358
                  ],
                  "y": [
                    1.917673753414636,
                    1.0516483496301974
                  ],
                  "z": [
                    1.2297560733739024,
                    1.2297560733739024
                  ]
                },
                {
                  "line": {
                    "color": "green"
                  },
                  "mode": "lines",
                  "showlegend": false,
                  "type": "scatter3d",
                  "x": [
                    -1.9176737534146355,
                    -1.9176737534146355
                  ],
                  "y": [
                    1.917673753414636,
                    1.917673753414636
                  ],
                  "z": [
                    1.2297560733739024,
                    2.2297560733739026
                  ]
                },
                {
                  "line": {
                    "color": "green"
                  },
                  "mode": "lines",
                  "showlegend": false,
                  "type": "scatter3d",
                  "x": [
                    -1.9176737534146355,
                    -2.783699157199074
                  ],
                  "y": [
                    1.917673753414636,
                    2.417673753414636
                  ],
                  "z": [
                    1.2297560733739024,
                    1.2297560733739024
                  ]
                },
                {
                  "line": {
                    "color": "blue"
                  },
                  "mode": "lines",
                  "showlegend": false,
                  "type": "scatter3d",
                  "x": [
                    -2.6195910633350477,
                    -1.9176737534146355
                  ],
                  "y": [
                    0.7019173099204128,
                    1.917673753414636
                  ],
                  "z": [
                    1.2297560733739024,
                    1.2297560733739024
                  ]
                },
                {
                  "line": {
                    "color": "black"
                  },
                  "mode": "lines",
                  "showlegend": false,
                  "type": "scatter3d",
                  "x": [
                    -2.6195910633350477,
                    -2.6195910633350477
                  ],
                  "y": [
                    0.7019173099204128,
                    0.7019173099204128
                  ],
                  "z": [
                    1.2297560733739024,
                    2.2297560733739026
                  ]
                },
                {
                  "line": {
                    "color": "black"
                  },
                  "mode": "lines",
                  "showlegend": false,
                  "type": "scatter3d",
                  "x": [
                    -2.6195910633350477,
                    -3.585516889624116
                  ],
                  "y": [
                    0.7019173099204128,
                    0.9607363550229338
                  ],
                  "z": [
                    1.2297560733739024,
                    1.2297560733739024
                  ]
                },
                {
                  "line": {
                    "color": "black"
                  },
                  "mode": "lines",
                  "showlegend": false,
                  "type": "scatter3d",
                  "x": [
                    -2.6195910633350477,
                    -2.878410108437569
                  ],
                  "y": [
                    0.7019173099204128,
                    -0.2640085163686554
                  ],
                  "z": [
                    1.2297560733739024,
                    1.2297560733739024
                  ]
                },
                {
                  "line": {
                    "color": "green"
                  },
                  "mode": "lines",
                  "showlegend": false,
                  "type": "scatter3d",
                  "x": [
                    -2.6195910633350477,
                    -2.619591063335048
                  ],
                  "y": [
                    0.7019173099204128,
                    -0.2980826900795872
                  ],
                  "z": [
                    1.2297560733739024,
                    1.2297560733739024
                  ]
                },
                {
                  "line": {
                    "color": "green"
                  },
                  "mode": "lines",
                  "showlegend": false,
                  "type": "scatter3d",
                  "x": [
                    -2.6195910633350477,
                    -2.6195910633350477
                  ],
                  "y": [
                    0.7019173099204128,
                    0.7019173099204128
                  ],
                  "z": [
                    1.2297560733739024,
                    2.2297560733739026
                  ]
                },
                {
                  "line": {
                    "color": "green"
                  },
                  "mode": "lines",
                  "showlegend": false,
                  "type": "scatter3d",
                  "x": [
                    -2.6195910633350477,
                    -3.6195910633350477
                  ],
                  "y": [
                    0.7019173099204128,
                    0.7019173099204132
                  ],
                  "z": [
                    1.2297560733739024,
                    1.2297560733739024
                  ]
                },
                {
                  "line": {
                    "color": "blue"
                  },
                  "mode": "lines",
                  "showlegend": false,
                  "type": "scatter3d",
                  "x": [
                    -2.6195910633350477,
                    -2.7120002302858963
                  ],
                  "y": [
                    0.7019173099204128,
                    3.321242401306508e-16
                  ],
                  "z": [
                    1.2297560733739024,
                    -8.881784197001252e-16
                  ]
                },
                {
                  "line": {
                    "color": "black"
                  },
                  "mode": "lines",
                  "showlegend": false,
                  "type": "scatter3d",
                  "x": [
                    -2.6195910633350477,
                    -2.6195910633350477
                  ],
                  "y": [
                    0.7019173099204128,
                    0.7019173099204128
                  ],
                  "z": [
                    1.2297560733739024,
                    2.2297560733739026
                  ]
                },
                {
                  "line": {
                    "color": "black"
                  },
                  "mode": "lines",
                  "showlegend": false,
                  "type": "scatter3d",
                  "x": [
                    -2.6195910633350477,
                    -3.585516889624116
                  ],
                  "y": [
                    0.7019173099204128,
                    0.9607363550229338
                  ],
                  "z": [
                    1.2297560733739024,
                    1.2297560733739024
                  ]
                },
                {
                  "line": {
                    "color": "black"
                  },
                  "mode": "lines",
                  "showlegend": false,
                  "type": "scatter3d",
                  "x": [
                    -2.6195910633350477,
                    -2.878410108437569
                  ],
                  "y": [
                    0.7019173099204128,
                    -0.2640085163686554
                  ],
                  "z": [
                    1.2297560733739024,
                    1.2297560733739024
                  ]
                },
                {
                  "line": {
                    "color": "green"
                  },
                  "mode": "lines",
                  "showlegend": false,
                  "type": "scatter3d",
                  "x": [
                    -2.6195910633350477,
                    -2.6847143464875662
                  ],
                  "y": [
                    0.7019173099204128,
                    0.20725686408050775
                  ],
                  "z": [
                    1.2297560733739024,
                    0.36311312422304043
                  ]
                },
                {
                  "line": {
                    "color": "green"
                  },
                  "mode": "lines",
                  "showlegend": false,
                  "type": "scatter3d",
                  "x": [
                    -2.6195910633350477,
                    -2.844371922863461
                  ],
                  "y": [
                    0.7019173099204128,
                    -0.13697627840862792
                  ],
                  "z": [
                    1.2297560733739024,
                    1.7254688053569467
                  ]
                },
                {
                  "line": {
                    "color": "green"
                  },
                  "mode": "lines",
                  "showlegend": false,
                  "type": "scatter3d",
                  "x": [
                    -2.6195910633350477,
                    -3.5918217577595266
                  ],
                  "y": [
                    0.7019173099204128,
                    0.9290044975420229
                  ],
                  "z": [
                    1.2297560733739024,
                    1.1731973778708846
                  ]
                },
                {
                  "line": {
                    "color": "blue"
                  },
                  "mode": "lines",
                  "showlegend": false,
                  "type": "scatter3d",
                  "x": [
                    -2.7120002302858963,
                    -2.6195910633350477
                  ],
                  "y": [
                    3.321242401306508e-16,
                    0.7019173099204128
                  ],
                  "z": [
                    -8.881784197001252e-16,
                    1.2297560733739024
                  ]
                },
                {
                  "line": {
                    "color": "black"
                  },
                  "mode": "lines",
                  "showlegend": false,
                  "type": "scatter3d",
                  "x": [
                    -2.7120002302858963,
                    -2.7120002302858963
                  ],
                  "y": [
                    3.321242401306508e-16,
                    3.321242401306508e-16
                  ],
                  "z": [
                    -8.881784197001252e-16,
                    0.9999999999999991
                  ]
                },
                {
                  "line": {
                    "color": "black"
                  },
                  "mode": "lines",
                  "showlegend": false,
                  "type": "scatter3d",
                  "x": [
                    -2.7120002302858963,
                    -3.7120002302858963
                  ],
                  "y": [
                    3.321242401306508e-16,
                    4.545889200453861e-16
                  ],
                  "z": [
                    -8.881784197001252e-16,
                    -8.881784197001252e-16
                  ]
                },
                {
                  "line": {
                    "color": "black"
                  },
                  "mode": "lines",
                  "showlegend": false,
                  "type": "scatter3d",
                  "x": [
                    -2.7120002302858963,
                    -2.7120002302858963
                  ],
                  "y": [
                    3.321242401306508e-16,
                    -0.9999999999999997
                  ],
                  "z": [
                    -8.881784197001252e-16,
                    -8.881784197001252e-16
                  ]
                },
                {
                  "line": {
                    "color": "green"
                  },
                  "mode": "lines",
                  "showlegend": false,
                  "type": "scatter3d",
                  "x": [
                    -2.7120002302858963,
                    -2.6468769471333777
                  ],
                  "y": [
                    3.321242401306508e-16,
                    0.49466044583990526
                  ],
                  "z": [
                    -8.881784197001252e-16,
                    0.8666429491508609
                  ]
                },
                {
                  "line": {
                    "color": "green"
                  },
                  "mode": "lines",
                  "showlegend": false,
                  "type": "scatter3d",
                  "x": [
                    -2.7120002302858963,
                    -2.7120002302858963
                  ],
                  "y": [
                    3.321242401306508e-16,
                    0.8684865498957983
                  ],
                  "z": [
                    -8.881784197001252e-16,
                    -0.4957127319830452
                  ]
                },
                {
                  "line": {
                    "color": "green"
                  },
                  "mode": "lines",
                  "showlegend": false,
                  "type": "scatter3d",
                  "x": [
                    -2.7120002302858963,
                    -3.709877456196698
                  ],
                  "y": [
                    3.321242401306508e-16,
                    0.03228244060724067
                  ],
                  "z": [
                    -8.881784197001252e-16,
                    0.056558695503016884
                  ]
                },
                {
                  "line": {
                    "color": "blue"
                  },
                  "mode": "lines",
                  "showlegend": false,
                  "type": "scatter3d",
                  "x": [
                    -2.3486610944968342,
                    -1.9176737534146362
                  ],
                  "y": [
                    -1.3560001151429475,
                    -1.9176737534146355
                  ],
                  "z": [
                    2.4595121467478047,
                    1.2297560733739015
                  ]
                },
                {
                  "line": {
                    "color": "black"
                  },
                  "mode": "lines",
                  "showlegend": false,
                  "type": "scatter3d",
                  "x": [
                    -2.3486610944968342,
                    -2.3486610944968342
                  ],
                  "y": [
                    -1.3560001151429475,
                    -1.3560001151429475
                  ],
                  "z": [
                    2.4595121467478047,
                    3.4595121467478047
                  ]
                },
                {
                  "line": {
                    "color": "black"
                  },
                  "mode": "lines",
                  "showlegend": false,
                  "type": "scatter3d",
                  "x": [
                    -2.3486610944968342,
                    -3.214686498281273
                  ],
                  "y": [
                    -1.3560001151429475,
                    -1.8560001151429473
                  ],
                  "z": [
                    2.4595121467478047,
                    2.4595121467478047
                  ]
                },
                {
                  "line": {
                    "color": "black"
                  },
                  "mode": "lines",
                  "showlegend": false,
                  "type": "scatter3d",
                  "x": [
                    -2.3486610944968342,
                    -1.8486610944968345
                  ],
                  "y": [
                    -1.3560001151429475,
                    -2.2220255189273863
                  ],
                  "z": [
                    2.4595121467478047,
                    2.4595121467478047
                  ]
                },
                {
                  "line": {
                    "color": "green"
                  },
                  "mode": "lines",
                  "showlegend": false,
                  "type": "scatter3d",
                  "x": [
                    -2.3486610944968342,
                    -2.044932453988954
                  ],
                  "y": [
                    -1.3560001151429475,
                    -1.7518269859113826
                  ],
                  "z": [
                    2.4595121467478047,
                    1.5928691975969427
                  ]
                },
                {
                  "line": {
                    "color": "green"
                  },
                  "mode": "lines",
                  "showlegend": false,
                  "type": "scatter3d",
                  "x": [
                    -2.3486610944968342,
                    -1.9144178195489354
                  ],
                  "y": [
                    -1.3560001151429475,
                    -2.1081315301978103
                  ],
                  "z": [
                    2.4595121467478047,
                    2.955224878730849
                  ]
                },
                {
                  "line": {
                    "color": "green"
                  },
                  "mode": "lines",
                  "showlegend": false,
                  "type": "scatter3d",
                  "x": [
                    -2.3486610944968342,
                    -3.196706901689912
                  ],
                  "y": [
                    -1.3560001151429475,
                    -1.8828961417603804
                  ],
                  "z": [
                    2.4595121467478047,
                    2.402953451244787
                  ]
                },
                {
                  "line": {
                    "color": "blue"
                  },
                  "mode": "lines",
                  "showlegend": false,
                  "type": "scatter3d",
                  "x": [
                    -1.9176737534146362,
                    -2.3486610944968342
                  ],
                  "y": [
                    -1.9176737534146355,
                    -1.3560001151429475
                  ],
                  "z": [
                    1.2297560733739015,
                    2.4595121467478047
                  ]
                },
                {
                  "line": {
                    "color": "black"
                  },
                  "mode": "lines",
                  "showlegend": false,
                  "type": "scatter3d",
                  "x": [
                    -1.9176737534146362,
                    -1.9176737534146362
                  ],
                  "y": [
                    -1.9176737534146355,
                    -1.9176737534146355
                  ],
                  "z": [
                    1.2297560733739015,
                    2.2297560733739017
                  ]
                },
                {
                  "line": {
                    "color": "black"
                  },
                  "mode": "lines",
                  "showlegend": false,
                  "type": "scatter3d",
                  "x": [
                    -1.9176737534146362,
                    -2.624780534601184
                  ],
                  "y": [
                    -1.9176737534146355,
                    -2.624780534601183
                  ],
                  "z": [
                    1.2297560733739015,
                    1.2297560733739015
                  ]
                },
                {
                  "line": {
                    "color": "black"
                  },
                  "mode": "lines",
                  "showlegend": false,
                  "type": "scatter3d",
                  "x": [
                    -1.9176737534146362,
                    -1.2105669722280887
                  ],
                  "y": [
                    -1.9176737534146355,
                    -2.624780534601183
                  ],
                  "z": [
                    1.2297560733739015,
                    1.2297560733739015
                  ]
                },
                {
                  "line": {
                    "color": "green"
                  },
                  "mode": "lines",
                  "showlegend": false,
                  "type": "scatter3d",
                  "x": [
                    -1.9176737534146362,
                    -2.2214023939225163
                  ],
                  "y": [
                    -1.9176737534146355,
                    -1.5218468826462004
                  ],
                  "z": [
                    1.2297560733739015,
                    2.0963990225247633
                  ]
                },
                {
                  "line": {
                    "color": "green"
                  },
                  "mode": "lines",
                  "showlegend": false,
                  "type": "scatter3d",
                  "x": [
                    -1.9176737534146362,
                    -2.5317864822152636
                  ],
                  "y": [
                    -1.9176737534146355,
                    -1.303561024614008
                  ],
                  "z": [
                    1.2297560733739015,
                    0.7340433413908571
                  ]
                },
                {
                  "line": {
                    "color": "green"
                  },
                  "mode": "lines",
                  "showlegend": false,
                  "type": "scatter3d",
                  "x": [
                    -1.9176737534146362,
                    -2.646106639314416
                  ],
                  "y": [
                    -1.9176737534146355,
                    -2.600452373981152
                  ],
                  "z": [
                    1.2297560733739015,
                    1.2863147688769194
                  ]
                },
                {
                  "line": {
                    "color": "blue"
                  },
                  "mode": "lines",
                  "showlegend": false,
                  "type": "scatter3d",
                  "x": [
                    -1.9176737534146362,
                    -0.7019173099204117
                  ],
                  "y": [
                    -1.9176737534146355,
                    -2.619591063335048
                  ],
                  "z": [
                    1.2297560733739015,
                    1.2297560733739015
                  ]
                },
                {
                  "line": {
                    "color": "black"
                  },
                  "mode": "lines",
                  "showlegend": false,
                  "type": "scatter3d",
                  "x": [
                    -1.9176737534146362,
                    -1.9176737534146362
                  ],
                  "y": [
                    -1.9176737534146355,
                    -1.9176737534146355
                  ],
                  "z": [
                    1.2297560733739015,
                    2.2297560733739017
                  ]
                },
                {
                  "line": {
                    "color": "black"
                  },
                  "mode": "lines",
                  "showlegend": false,
                  "type": "scatter3d",
                  "x": [
                    -1.9176737534146362,
                    -2.624780534601184
                  ],
                  "y": [
                    -1.9176737534146355,
                    -2.624780534601183
                  ],
                  "z": [
                    1.2297560733739015,
                    1.2297560733739015
                  ]
                },
                {
                  "line": {
                    "color": "black"
                  },
                  "mode": "lines",
                  "showlegend": false,
                  "type": "scatter3d",
                  "x": [
                    -1.9176737534146362,
                    -1.2105669722280887
                  ],
                  "y": [
                    -1.9176737534146355,
                    -2.624780534601183
                  ],
                  "z": [
                    1.2297560733739015,
                    1.2297560733739015
                  ]
                },
                {
                  "line": {
                    "color": "green"
                  },
                  "mode": "lines",
                  "showlegend": false,
                  "type": "scatter3d",
                  "x": [
                    -1.9176737534146362,
                    -1.0516483496301976
                  ],
                  "y": [
                    -1.9176737534146355,
                    -2.4176737534146353
                  ],
                  "z": [
                    1.2297560733739015,
                    1.2297560733739015
                  ]
                },
                {
                  "line": {
                    "color": "green"
                  },
                  "mode": "lines",
                  "showlegend": false,
                  "type": "scatter3d",
                  "x": [
                    -1.9176737534146362,
                    -1.9176737534146362
                  ],
                  "y": [
                    -1.9176737534146355,
                    -1.9176737534146355
                  ],
                  "z": [
                    1.2297560733739015,
                    2.2297560733739017
                  ]
                },
                {
                  "line": {
                    "color": "green"
                  },
                  "mode": "lines",
                  "showlegend": false,
                  "type": "scatter3d",
                  "x": [
                    -1.9176737534146362,
                    -2.417673753414636
                  ],
                  "y": [
                    -1.9176737534146355,
                    -2.783699157199074
                  ],
                  "z": [
                    1.2297560733739015,
                    1.2297560733739015
                  ]
                },
                {
                  "line": {
                    "color": "blue"
                  },
                  "mode": "lines",
                  "showlegend": false,
                  "type": "scatter3d",
                  "x": [
                    -0.7019173099204117,
                    -1.9176737534146362
                  ],
                  "y": [
                    -2.619591063335048,
                    -1.9176737534146355
                  ],
                  "z": [
                    1.2297560733739015,
                    1.2297560733739015
                  ]
                },
                {
                  "line": {
                    "color": "black"
                  },
                  "mode": "lines",
                  "showlegend": false,
                  "type": "scatter3d",
                  "x": [
                    -0.7019173099204117,
                    -0.7019173099204117
                  ],
                  "y": [
                    -2.619591063335048,
                    -2.619591063335048
                  ],
                  "z": [
                    1.2297560733739015,
                    2.2297560733739017
                  ]
                },
                {
                  "line": {
                    "color": "black"
                  },
                  "mode": "lines",
                  "showlegend": false,
                  "type": "scatter3d",
                  "x": [
                    -0.7019173099204117,
                    -0.9607363550229323
                  ],
                  "y": [
                    -2.619591063335048,
                    -3.5855168896241167
                  ],
                  "z": [
                    1.2297560733739015,
                    1.2297560733739015
                  ]
                },
                {
                  "line": {
                    "color": "black"
                  },
                  "mode": "lines",
                  "showlegend": false,
                  "type": "scatter3d",
                  "x": [
                    -0.7019173099204117,
                    0.26400851636865674
                  ],
                  "y": [
                    -2.619591063335048,
                    -2.878410108437569
                  ],
                  "z": [
                    1.2297560733739015,
                    1.2297560733739015
                  ]
                },
                {
                  "line": {
                    "color": "green"
                  },
                  "mode": "lines",
                  "showlegend": false,
                  "type": "scatter3d",
                  "x": [
                    -0.7019173099204117,
                    0.2980826900795883
                  ],
                  "y": [
                    -2.619591063335048,
                    -2.6195910633350477
                  ],
                  "z": [
                    1.2297560733739015,
                    1.2297560733739015
                  ]
                },
                {
                  "line": {
                    "color": "green"
                  },
                  "mode": "lines",
                  "showlegend": false,
                  "type": "scatter3d",
                  "x": [
                    -0.7019173099204117,
                    -0.7019173099204117
                  ],
                  "y": [
                    -2.619591063335048,
                    -2.619591063335048
                  ],
                  "z": [
                    1.2297560733739015,
                    2.2297560733739017
                  ]
                },
                {
                  "line": {
                    "color": "green"
                  },
                  "mode": "lines",
                  "showlegend": false,
                  "type": "scatter3d",
                  "x": [
                    -0.7019173099204117,
                    -0.7019173099204113
                  ],
                  "y": [
                    -2.619591063335048,
                    -3.619591063335048
                  ],
                  "z": [
                    1.2297560733739015,
                    1.2297560733739015
                  ]
                },
                {
                  "line": {
                    "color": "blue"
                  },
                  "mode": "lines",
                  "showlegend": false,
                  "type": "scatter3d",
                  "x": [
                    -0.7019173099204117,
                    -4.981863601959761e-16
                  ],
                  "y": [
                    -2.619591063335048,
                    -2.7120002302858963
                  ],
                  "z": [
                    1.2297560733739015,
                    -8.881784197001252e-16
                  ]
                },
                {
                  "line": {
                    "color": "black"
                  },
                  "mode": "lines",
                  "showlegend": false,
                  "type": "scatter3d",
                  "x": [
                    -0.7019173099204117,
                    -0.7019173099204117
                  ],
                  "y": [
                    -2.619591063335048,
                    -2.619591063335048
                  ],
                  "z": [
                    1.2297560733739015,
                    2.2297560733739017
                  ]
                },
                {
                  "line": {
                    "color": "black"
                  },
                  "mode": "lines",
                  "showlegend": false,
                  "type": "scatter3d",
                  "x": [
                    -0.7019173099204117,
                    -0.9607363550229323
                  ],
                  "y": [
                    -2.619591063335048,
                    -3.5855168896241167
                  ],
                  "z": [
                    1.2297560733739015,
                    1.2297560733739015
                  ]
                },
                {
                  "line": {
                    "color": "black"
                  },
                  "mode": "lines",
                  "showlegend": false,
                  "type": "scatter3d",
                  "x": [
                    -0.7019173099204117,
                    0.26400851636865674
                  ],
                  "y": [
                    -2.619591063335048,
                    -2.878410108437569
                  ],
                  "z": [
                    1.2297560733739015,
                    1.2297560733739015
                  ]
                },
                {
                  "line": {
                    "color": "green"
                  },
                  "mode": "lines",
                  "showlegend": false,
                  "type": "scatter3d",
                  "x": [
                    -0.7019173099204117,
                    -0.20725686408050692
                  ],
                  "y": [
                    -2.619591063335048,
                    -2.6847143464875662
                  ],
                  "z": [
                    1.2297560733739015,
                    0.3631131242230393
                  ]
                },
                {
                  "line": {
                    "color": "green"
                  },
                  "mode": "lines",
                  "showlegend": false,
                  "type": "scatter3d",
                  "x": [
                    -0.7019173099204117,
                    0.13697627840862947
                  ],
                  "y": [
                    -2.619591063335048,
                    -2.8443719228634614
                  ],
                  "z": [
                    1.2297560733739015,
                    1.7254688053569456
                  ]
                },
                {
                  "line": {
                    "color": "green"
                  },
                  "mode": "lines",
                  "showlegend": false,
                  "type": "scatter3d",
                  "x": [
                    -0.7019173099204117,
                    -0.9290044975420214
                  ],
                  "y": [
                    -2.619591063335048,
                    -3.5918217577595275
                  ],
                  "z": [
                    1.2297560733739015,
                    1.1731973778708837
                  ]
                },
                {
                  "line": {
                    "color": "blue"
                  },
                  "mode": "lines",
                  "showlegend": false,
                  "type": "scatter3d",
                  "x": [
                    -4.981863601959761e-16,
                    -0.7019173099204117
                  ],
                  "y": [
                    -2.7120002302858963,
                    -2.619591063335048
                  ],
                  "z": [
                    -8.881784197001252e-16,
                    1.2297560733739015
                  ]
                },
                {
                  "line": {
                    "color": "black"
                  },
                  "mode": "lines",
                  "showlegend": false,
                  "type": "scatter3d",
                  "x": [
                    -4.981863601959761e-16,
                    -4.981863601959761e-16
                  ],
                  "y": [
                    -2.7120002302858963,
                    -2.7120002302858963
                  ],
                  "z": [
                    -8.881784197001252e-16,
                    0.9999999999999991
                  ]
                },
                {
                  "line": {
                    "color": "black"
                  },
                  "mode": "lines",
                  "showlegend": false,
                  "type": "scatter3d",
                  "x": [
                    -4.981863601959761e-16,
                    -6.81883380068079e-16
                  ],
                  "y": [
                    -2.7120002302858963,
                    -3.7120002302858963
                  ],
                  "z": [
                    -8.881784197001252e-16,
                    -8.881784197001252e-16
                  ]
                },
                {
                  "line": {
                    "color": "black"
                  },
                  "mode": "lines",
                  "showlegend": false,
                  "type": "scatter3d",
                  "x": [
                    -4.981863601959761e-16,
                    0.9999999999999996
                  ],
                  "y": [
                    -2.7120002302858963,
                    -2.7120002302858963
                  ],
                  "z": [
                    -8.881784197001252e-16,
                    -8.881784197001252e-16
                  ]
                },
                {
                  "line": {
                    "color": "green"
                  },
                  "mode": "lines",
                  "showlegend": false,
                  "type": "scatter3d",
                  "x": [
                    -4.981863601959761e-16,
                    -0.4946604458399051
                  ],
                  "y": [
                    -2.7120002302858963,
                    -2.646876947133378
                  ],
                  "z": [
                    -8.881784197001252e-16,
                    0.8666429491508613
                  ]
                },
                {
                  "line": {
                    "color": "green"
                  },
                  "mode": "lines",
                  "showlegend": false,
                  "type": "scatter3d",
                  "x": [
                    -4.981863601959761e-16,
                    -0.8684865498957987
                  ],
                  "y": [
                    -2.7120002302858963,
                    -2.7120002302858963
                  ],
                  "z": [
                    -8.881784197001252e-16,
                    -0.49571273198304483
                  ]
                },
                {
                  "line": {
                    "color": "green"
                  },
                  "mode": "lines",
                  "showlegend": false,
                  "type": "scatter3d",
                  "x": [
                    -4.981863601959761e-16,
                    -0.032282440607240726
                  ],
                  "y": [
                    -2.7120002302858963,
                    -3.709877456196698
                  ],
                  "z": [
                    -8.881784197001252e-16,
                    0.05655869550301664
                  ]
                },
                {
                  "line": {
                    "color": "blue"
                  },
                  "mode": "lines",
                  "showlegend": false,
                  "type": "scatter3d",
                  "x": [
                    1.3560001151429484,
                    1.9176737534146353
                  ],
                  "y": [
                    -2.348661094496834,
                    -1.9176737534146362
                  ],
                  "z": [
                    2.4595121467478047,
                    1.2297560733739015
                  ]
                },
                {
                  "line": {
                    "color": "black"
                  },
                  "mode": "lines",
                  "showlegend": false,
                  "type": "scatter3d",
                  "x": [
                    1.3560001151429484,
                    1.3560001151429484
                  ],
                  "y": [
                    -2.348661094496834,
                    -2.348661094496834
                  ],
                  "z": [
                    2.4595121467478047,
                    3.4595121467478047
                  ]
                },
                {
                  "line": {
                    "color": "black"
                  },
                  "mode": "lines",
                  "showlegend": false,
                  "type": "scatter3d",
                  "x": [
                    1.3560001151429484,
                    1.8560001151429484
                  ],
                  "y": [
                    -2.348661094496834,
                    -3.2146864982812726
                  ],
                  "z": [
                    2.4595121467478047,
                    2.4595121467478047
                  ]
                },
                {
                  "line": {
                    "color": "black"
                  },
                  "mode": "lines",
                  "showlegend": false,
                  "type": "scatter3d",
                  "x": [
                    1.3560001151429484,
                    2.2220255189273868
                  ],
                  "y": [
                    -2.348661094496834,
                    -1.8486610944968338
                  ],
                  "z": [
                    2.4595121467478047,
                    2.4595121467478047
                  ]
                },
                {
                  "line": {
                    "color": "green"
                  },
                  "mode": "lines",
                  "showlegend": false,
                  "type": "scatter3d",
                  "x": [
                    1.3560001151429484,
                    1.7518269859113829
                  ],
                  "y": [
                    -2.348661094496834,
                    -2.0449324539889537
                  ],
                  "z": [
                    2.4595121467478047,
                    1.5928691975969422
                  ]
                },
                {
                  "line": {
                    "color": "green"
                  },
                  "mode": "lines",
                  "showlegend": false,
                  "type": "scatter3d",
                  "x": [
                    1.3560001151429484,
                    2.108131530197811
                  ],
                  "y": [
                    -2.348661094496834,
                    -1.9144178195489345
                  ],
                  "z": [
                    2.4595121467478047,
                    2.9552248787308484
                  ]
                },
                {
                  "line": {
                    "color": "green"
                  },
                  "mode": "lines",
                  "showlegend": false,
                  "type": "scatter3d",
                  "x": [
                    1.3560001151429484,
                    1.8828961417603816
                  ],
                  "y": [
                    -2.348661094496834,
                    -3.196706901689911
                  ],
                  "z": [
                    2.4595121467478047,
                    2.402953451244787
                  ]
                },
                {
                  "line": {
                    "color": "blue"
                  },
                  "mode": "lines",
                  "showlegend": false,
                  "type": "scatter3d",
                  "x": [
                    1.9176737534146353,
                    1.3560001151429484
                  ],
                  "y": [
                    -1.9176737534146362,
                    -2.348661094496834
                  ],
                  "z": [
                    1.2297560733739015,
                    2.4595121467478047
                  ]
                },
                {
                  "line": {
                    "color": "black"
                  },
                  "mode": "lines",
                  "showlegend": false,
                  "type": "scatter3d",
                  "x": [
                    1.9176737534146353,
                    1.9176737534146353
                  ],
                  "y": [
                    -1.9176737534146362,
                    -1.9176737534146362
                  ],
                  "z": [
                    1.2297560733739015,
                    2.2297560733739017
                  ]
                },
                {
                  "line": {
                    "color": "black"
                  },
                  "mode": "lines",
                  "showlegend": false,
                  "type": "scatter3d",
                  "x": [
                    1.9176737534146353,
                    2.6247805346011828
                  ],
                  "y": [
                    -1.9176737534146362,
                    -2.624780534601184
                  ],
                  "z": [
                    1.2297560733739015,
                    1.2297560733739015
                  ]
                },
                {
                  "line": {
                    "color": "black"
                  },
                  "mode": "lines",
                  "showlegend": false,
                  "type": "scatter3d",
                  "x": [
                    1.9176737534146353,
                    2.624780534601183
                  ],
                  "y": [
                    -1.9176737534146362,
                    -1.2105669722280887
                  ],
                  "z": [
                    1.2297560733739015,
                    1.2297560733739015
                  ]
                },
                {
                  "line": {
                    "color": "green"
                  },
                  "mode": "lines",
                  "showlegend": false,
                  "type": "scatter3d",
                  "x": [
                    1.9176737534146353,
                    1.5218468826462008
                  ],
                  "y": [
                    -1.9176737534146362,
                    -2.2214023939225163
                  ],
                  "z": [
                    1.2297560733739015,
                    2.0963990225247637
                  ]
                },
                {
                  "line": {
                    "color": "green"
                  },
                  "mode": "lines",
                  "showlegend": false,
                  "type": "scatter3d",
                  "x": [
                    1.9176737534146353,
                    1.3035610246140072
                  ],
                  "y": [
                    -1.9176737534146362,
                    -2.531786482215264
                  ],
                  "z": [
                    1.2297560733739015,
                    0.7340433413908579
                  ]
                },
                {
                  "line": {
                    "color": "green"
                  },
                  "mode": "lines",
                  "showlegend": false,
                  "type": "scatter3d",
                  "x": [
                    1.9176737534146353,
                    2.600452373981152
                  ],
                  "y": [
                    -1.9176737534146362,
                    -2.646106639314416
                  ],
                  "z": [
                    1.2297560733739015,
                    1.286314768876919
                  ]
                },
                {
                  "line": {
                    "color": "blue"
                  },
                  "mode": "lines",
                  "showlegend": false,
                  "type": "scatter3d",
                  "x": [
                    1.9176737534146353,
                    2.619591063335048
                  ],
                  "y": [
                    -1.9176737534146362,
                    -0.7019173099204119
                  ],
                  "z": [
                    1.2297560733739015,
                    1.2297560733739015
                  ]
                },
                {
                  "line": {
                    "color": "black"
                  },
                  "mode": "lines",
                  "showlegend": false,
                  "type": "scatter3d",
                  "x": [
                    1.9176737534146353,
                    1.9176737534146353
                  ],
                  "y": [
                    -1.9176737534146362,
                    -1.9176737534146362
                  ],
                  "z": [
                    1.2297560733739015,
                    2.2297560733739017
                  ]
                },
                {
                  "line": {
                    "color": "black"
                  },
                  "mode": "lines",
                  "showlegend": false,
                  "type": "scatter3d",
                  "x": [
                    1.9176737534146353,
                    2.6247805346011828
                  ],
                  "y": [
                    -1.9176737534146362,
                    -2.624780534601184
                  ],
                  "z": [
                    1.2297560733739015,
                    1.2297560733739015
                  ]
                },
                {
                  "line": {
                    "color": "black"
                  },
                  "mode": "lines",
                  "showlegend": false,
                  "type": "scatter3d",
                  "x": [
                    1.9176737534146353,
                    2.624780534601183
                  ],
                  "y": [
                    -1.9176737534146362,
                    -1.2105669722280887
                  ],
                  "z": [
                    1.2297560733739015,
                    1.2297560733739015
                  ]
                },
                {
                  "line": {
                    "color": "green"
                  },
                  "mode": "lines",
                  "showlegend": false,
                  "type": "scatter3d",
                  "x": [
                    1.9176737534146353,
                    2.4176737534146353
                  ],
                  "y": [
                    -1.9176737534146362,
                    -1.0516483496301976
                  ],
                  "z": [
                    1.2297560733739015,
                    1.2297560733739015
                  ]
                },
                {
                  "line": {
                    "color": "green"
                  },
                  "mode": "lines",
                  "showlegend": false,
                  "type": "scatter3d",
                  "x": [
                    1.9176737534146353,
                    1.9176737534146353
                  ],
                  "y": [
                    -1.9176737534146362,
                    -1.9176737534146362
                  ],
                  "z": [
                    1.2297560733739015,
                    2.2297560733739017
                  ]
                },
                {
                  "line": {
                    "color": "green"
                  },
                  "mode": "lines",
                  "showlegend": false,
                  "type": "scatter3d",
                  "x": [
                    1.9176737534146353,
                    2.7836991571990737
                  ],
                  "y": [
                    -1.9176737534146362,
                    -2.417673753414636
                  ],
                  "z": [
                    1.2297560733739015,
                    1.2297560733739015
                  ]
                },
                {
                  "line": {
                    "color": "blue"
                  },
                  "mode": "lines",
                  "showlegend": false,
                  "type": "scatter3d",
                  "x": [
                    2.619591063335048,
                    2.7120002302858963
                  ],
                  "y": [
                    -0.7019173099204119,
                    0
                  ],
                  "z": [
                    1.2297560733739015,
                    0
                  ]
                },
                {
                  "line": {
                    "color": "black"
                  },
                  "mode": "lines",
                  "showlegend": false,
                  "type": "scatter3d",
                  "x": [
                    2.619591063335048,
                    2.619591063335048
                  ],
                  "y": [
                    -0.7019173099204119,
                    -0.7019173099204119
                  ],
                  "z": [
                    1.2297560733739015,
                    2.2297560733739017
                  ]
                },
                {
                  "line": {
                    "color": "black"
                  },
                  "mode": "lines",
                  "showlegend": false,
                  "type": "scatter3d",
                  "x": [
                    2.619591063335048,
                    3.5855168896241167
                  ],
                  "y": [
                    -0.7019173099204119,
                    -0.9607363550229326
                  ],
                  "z": [
                    1.2297560733739015,
                    1.2297560733739015
                  ]
                },
                {
                  "line": {
                    "color": "black"
                  },
                  "mode": "lines",
                  "showlegend": false,
                  "type": "scatter3d",
                  "x": [
                    2.619591063335048,
                    2.878410108437569
                  ],
                  "y": [
                    -0.7019173099204119,
                    0.2640085163686565
                  ],
                  "z": [
                    1.2297560733739015,
                    1.2297560733739015
                  ]
                },
                {
                  "line": {
                    "color": "green"
                  },
                  "mode": "lines",
                  "showlegend": false,
                  "type": "scatter3d",
                  "x": [
                    2.619591063335048,
                    2.6847143464875662
                  ],
                  "y": [
                    -0.7019173099204119,
                    -0.20725686408050664
                  ],
                  "z": [
                    1.2297560733739015,
                    0.36311312422303976
                  ]
                },
                {
                  "line": {
                    "color": "green"
                  },
                  "mode": "lines",
                  "showlegend": false,
                  "type": "scatter3d",
                  "x": [
                    2.619591063335048,
                    2.844371922863461
                  ],
                  "y": [
                    -0.7019173099204119,
                    0.13697627840862892
                  ],
                  "z": [
                    1.2297560733739015,
                    1.725468805356946
                  ]
                },
                {
                  "line": {
                    "color": "green"
                  },
                  "mode": "lines",
                  "showlegend": false,
                  "type": "scatter3d",
                  "x": [
                    2.619591063335048,
                    3.5918217577595275
                  ],
                  "y": [
                    -0.7019173099204119,
                    -0.9290044975420215
                  ],
                  "z": [
                    1.2297560733739015,
                    1.1731973778708837
                  ]
                },
                {
                  "line": {
                    "color": "blue"
                  },
                  "mode": "lines",
                  "showlegend": false,
                  "type": "scatter3d",
                  "x": [
                    2.619591063335048,
                    1.9176737534146353
                  ],
                  "y": [
                    -0.7019173099204119,
                    -1.9176737534146362
                  ],
                  "z": [
                    1.2297560733739015,
                    1.2297560733739015
                  ]
                },
                {
                  "line": {
                    "color": "black"
                  },
                  "mode": "lines",
                  "showlegend": false,
                  "type": "scatter3d",
                  "x": [
                    2.619591063335048,
                    2.619591063335048
                  ],
                  "y": [
                    -0.7019173099204119,
                    -0.7019173099204119
                  ],
                  "z": [
                    1.2297560733739015,
                    2.2297560733739017
                  ]
                },
                {
                  "line": {
                    "color": "black"
                  },
                  "mode": "lines",
                  "showlegend": false,
                  "type": "scatter3d",
                  "x": [
                    2.619591063335048,
                    3.5855168896241167
                  ],
                  "y": [
                    -0.7019173099204119,
                    -0.9607363550229326
                  ],
                  "z": [
                    1.2297560733739015,
                    1.2297560733739015
                  ]
                },
                {
                  "line": {
                    "color": "black"
                  },
                  "mode": "lines",
                  "showlegend": false,
                  "type": "scatter3d",
                  "x": [
                    2.619591063335048,
                    2.878410108437569
                  ],
                  "y": [
                    -0.7019173099204119,
                    0.2640085163686565
                  ],
                  "z": [
                    1.2297560733739015,
                    1.2297560733739015
                  ]
                },
                {
                  "line": {
                    "color": "green"
                  },
                  "mode": "lines",
                  "showlegend": false,
                  "type": "scatter3d",
                  "x": [
                    2.619591063335048,
                    2.6195910633350477
                  ],
                  "y": [
                    -0.7019173099204119,
                    0.2980826900795883
                  ],
                  "z": [
                    1.2297560733739015,
                    1.2297560733739015
                  ]
                },
                {
                  "line": {
                    "color": "green"
                  },
                  "mode": "lines",
                  "showlegend": false,
                  "type": "scatter3d",
                  "x": [
                    2.619591063335048,
                    2.619591063335048
                  ],
                  "y": [
                    -0.7019173099204119,
                    -0.7019173099204119
                  ],
                  "z": [
                    1.2297560733739015,
                    2.2297560733739017
                  ]
                },
                {
                  "line": {
                    "color": "green"
                  },
                  "mode": "lines",
                  "showlegend": false,
                  "type": "scatter3d",
                  "x": [
                    2.619591063335048,
                    3.619591063335048
                  ],
                  "y": [
                    -0.7019173099204119,
                    -0.7019173099204115
                  ],
                  "z": [
                    1.2297560733739015,
                    1.2297560733739015
                  ]
                },
                {
                  "line": {
                    "color": "red"
                  },
                  "mode": "lines",
                  "showlegend": false,
                  "type": "scatter3d",
                  "x": [
                    2.7120002302858963,
                    2.619591063335048
                  ],
                  "y": [
                    0,
                    -0.7019173099204119
                  ],
                  "z": [
                    2.4595121467478056,
                    1.2297560733739015
                  ]
                },
                {
                  "line": {
                    "color": "red"
                  },
                  "mode": "lines",
                  "showlegend": false,
                  "type": "scatter3d",
                  "x": [
                    2.3486610944968342,
                    1.917673753414636
                  ],
                  "y": [
                    1.356000115142948,
                    1.9176737534146355
                  ],
                  "z": [
                    2.4595121467478056,
                    1.2297560733739026
                  ]
                },
                {
                  "line": {
                    "color": "red"
                  },
                  "mode": "lines",
                  "showlegend": false,
                  "type": "scatter3d",
                  "x": [
                    1.660621200653254e-16,
                    0.7019173099204127
                  ],
                  "y": [
                    2.7120002302858963,
                    2.6195910633350477
                  ],
                  "z": [
                    2.459512146747805,
                    1.2297560733739026
                  ]
                },
                {
                  "line": {
                    "color": "red"
                  },
                  "mode": "lines",
                  "showlegend": false,
                  "type": "scatter3d",
                  "x": [
                    1.660621200653254e-16,
                    -1.3560001151429475
                  ],
                  "y": [
                    2.7120002302858963,
                    2.3486610944968342
                  ],
                  "z": [
                    2.459512146747805,
                    2.459512146747805
                  ]
                },
                {
                  "line": {
                    "color": "red"
                  },
                  "mode": "lines",
                  "showlegend": false,
                  "type": "scatter3d",
                  "x": [
                    -1.9176737534146355,
                    -1.3560001151429475
                  ],
                  "y": [
                    1.917673753414636,
                    2.3486610944968342
                  ],
                  "z": [
                    3.6892682201217077,
                    2.459512146747805
                  ]
                },
                {
                  "line": {
                    "color": "red"
                  },
                  "mode": "lines",
                  "showlegend": false,
                  "type": "scatter3d",
                  "x": [
                    -2.7120002302858963,
                    -2.6195910633350477
                  ],
                  "y": [
                    3.321242401306508e-16,
                    0.7019173099204128
                  ],
                  "z": [
                    2.4595121467478047,
                    1.2297560733739024
                  ]
                },
                {
                  "line": {
                    "color": "red"
                  },
                  "mode": "lines",
                  "showlegend": false,
                  "type": "scatter3d",
                  "x": [
                    -2.7120002302858963,
                    -2.3486610944968342
                  ],
                  "y": [
                    3.321242401306508e-16,
                    -1.3560001151429475
                  ],
                  "z": [
                    2.4595121467478047,
                    2.4595121467478047
                  ]
                },
                {
                  "line": {
                    "color": "red"
                  },
                  "mode": "lines",
                  "showlegend": false,
                  "type": "scatter3d",
                  "x": [
                    -1.9176737534146362,
                    -2.3486610944968342
                  ],
                  "y": [
                    -1.9176737534146355,
                    -1.3560001151429475
                  ],
                  "z": [
                    3.689268220121707,
                    2.4595121467478047
                  ]
                },
                {
                  "line": {
                    "color": "red"
                  },
                  "mode": "lines",
                  "showlegend": false,
                  "type": "scatter3d",
                  "x": [
                    -4.981863601959761e-16,
                    -0.7019173099204117
                  ],
                  "y": [
                    -2.7120002302858963,
                    -2.619591063335048
                  ],
                  "z": [
                    2.4595121467478047,
                    1.2297560733739015
                  ]
                },
                {
                  "line": {
                    "color": "red"
                  },
                  "mode": "lines",
                  "showlegend": false,
                  "type": "scatter3d",
                  "x": [
                    -4.981863601959761e-16,
                    1.3560001151429484
                  ],
                  "y": [
                    -2.7120002302858963,
                    -2.348661094496834
                  ],
                  "z": [
                    2.4595121467478047,
                    2.4595121467478047
                  ]
                },
                {
                  "line": {
                    "color": "red"
                  },
                  "mode": "lines",
                  "showlegend": false,
                  "type": "scatter3d",
                  "x": [
                    1.9176737534146353,
                    1.3560001151429484
                  ],
                  "y": [
                    -1.9176737534146362,
                    -2.348661094496834
                  ],
                  "z": [
                    3.689268220121707,
                    2.4595121467478047
                  ]
                },
                {
                  "line": {
                    "color": "red"
                  },
                  "mode": "lines",
                  "showlegend": false,
                  "type": "scatter3d",
                  "x": [
                    1.917673753414636,
                    2.3486610944968342
                  ],
                  "y": [
                    1.9176737534146355,
                    1.356000115142948
                  ],
                  "z": [
                    -1.229756073373903,
                    0
                  ]
                },
                {
                  "line": {
                    "color": "red"
                  },
                  "mode": "lines",
                  "showlegend": false,
                  "type": "scatter3d",
                  "x": [
                    0.7019173099204127,
                    1.660621200653254e-16
                  ],
                  "y": [
                    2.6195910633350477,
                    2.7120002302858963
                  ],
                  "z": [
                    -1.229756073373903,
                    -4.440892098500626e-16
                  ]
                },
                {
                  "line": {
                    "color": "red"
                  },
                  "mode": "lines",
                  "showlegend": false,
                  "type": "scatter3d",
                  "x": [
                    -1.3560001151429475,
                    1.660621200653254e-16
                  ],
                  "y": [
                    2.3486610944968342,
                    2.7120002302858963
                  ],
                  "z": [
                    -4.440892098500626e-16,
                    -4.440892098500626e-16
                  ]
                },
                {
                  "line": {
                    "color": "red"
                  },
                  "mode": "lines",
                  "showlegend": false,
                  "type": "scatter3d",
                  "x": [
                    -1.3560001151429475,
                    -1.9176737534146355
                  ],
                  "y": [
                    2.3486610944968342,
                    1.917673753414636
                  ],
                  "z": [
                    -4.440892098500626e-16,
                    1.2297560733739024
                  ]
                },
                {
                  "line": {
                    "color": "red"
                  },
                  "mode": "lines",
                  "showlegend": false,
                  "type": "scatter3d",
                  "x": [
                    -2.6195910633350477,
                    -2.7120002302858963
                  ],
                  "y": [
                    0.7019173099204128,
                    3.321242401306508e-16
                  ],
                  "z": [
                    -1.2297560733739032,
                    -8.881784197001252e-16
                  ]
                },
                {
                  "line": {
                    "color": "red"
                  },
                  "mode": "lines",
                  "showlegend": false,
                  "type": "scatter3d",
                  "x": [
                    -2.3486610944968342,
                    -2.7120002302858963
                  ],
                  "y": [
                    -1.3560001151429475,
                    3.321242401306508e-16
                  ],
                  "z": [
                    -8.881784197001252e-16,
                    -8.881784197001252e-16
                  ]
                },
                {
                  "line": {
                    "color": "red"
                  },
                  "mode": "lines",
                  "showlegend": false,
                  "type": "scatter3d",
                  "x": [
                    -2.3486610944968342,
                    -1.9176737534146362
                  ],
                  "y": [
                    -1.3560001151429475,
                    -1.9176737534146355
                  ],
                  "z": [
                    -8.881784197001252e-16,
                    1.2297560733739015
                  ]
                },
                {
                  "line": {
                    "color": "red"
                  },
                  "mode": "lines",
                  "showlegend": false,
                  "type": "scatter3d",
                  "x": [
                    -0.7019173099204117,
                    -4.981863601959761e-16
                  ],
                  "y": [
                    -2.619591063335048,
                    -2.7120002302858963
                  ],
                  "z": [
                    -1.2297560733739041,
                    -8.881784197001252e-16
                  ]
                },
                {
                  "line": {
                    "color": "red"
                  },
                  "mode": "lines",
                  "showlegend": false,
                  "type": "scatter3d",
                  "x": [
                    1.3560001151429484,
                    -4.981863601959761e-16
                  ],
                  "y": [
                    -2.348661094496834,
                    -2.7120002302858963
                  ],
                  "z": [
                    -8.881784197001252e-16,
                    -8.881784197001252e-16
                  ]
                },
                {
                  "line": {
                    "color": "red"
                  },
                  "mode": "lines",
                  "showlegend": false,
                  "type": "scatter3d",
                  "x": [
                    1.3560001151429484,
                    1.9176737534146353
                  ],
                  "y": [
                    -2.348661094496834,
                    -1.9176737534146362
                  ],
                  "z": [
                    -8.881784197001252e-16,
                    1.2297560733739015
                  ]
                },
                {
                  "line": {
                    "color": "red"
                  },
                  "mode": "lines",
                  "showlegend": false,
                  "type": "scatter3d",
                  "x": [
                    2.619591063335048,
                    2.7120002302858963
                  ],
                  "y": [
                    -0.7019173099204119,
                    0
                  ],
                  "z": [
                    -1.2297560733739041,
                    0
                  ]
                }
              ],
              "layout": {
                "template": {
                  "data": {
                    "bar": [
                      {
                        "error_x": {
                          "color": "#2a3f5f"
                        },
                        "error_y": {
                          "color": "#2a3f5f"
                        },
                        "marker": {
                          "line": {
                            "color": "#E5ECF6",
                            "width": 0.5
                          },
                          "pattern": {
                            "fillmode": "overlay",
                            "size": 10,
                            "solidity": 0.2
                          }
                        },
                        "type": "bar"
                      }
                    ],
                    "barpolar": [
                      {
                        "marker": {
                          "line": {
                            "color": "#E5ECF6",
                            "width": 0.5
                          },
                          "pattern": {
                            "fillmode": "overlay",
                            "size": 10,
                            "solidity": 0.2
                          }
                        },
                        "type": "barpolar"
                      }
                    ],
                    "carpet": [
                      {
                        "aaxis": {
                          "endlinecolor": "#2a3f5f",
                          "gridcolor": "white",
                          "linecolor": "white",
                          "minorgridcolor": "white",
                          "startlinecolor": "#2a3f5f"
                        },
                        "baxis": {
                          "endlinecolor": "#2a3f5f",
                          "gridcolor": "white",
                          "linecolor": "white",
                          "minorgridcolor": "white",
                          "startlinecolor": "#2a3f5f"
                        },
                        "type": "carpet"
                      }
                    ],
                    "choropleth": [
                      {
                        "colorbar": {
                          "outlinewidth": 0,
                          "ticks": ""
                        },
                        "type": "choropleth"
                      }
                    ],
                    "contour": [
                      {
                        "colorbar": {
                          "outlinewidth": 0,
                          "ticks": ""
                        },
                        "colorscale": [
                          [
                            0,
                            "#0d0887"
                          ],
                          [
                            0.1111111111111111,
                            "#46039f"
                          ],
                          [
                            0.2222222222222222,
                            "#7201a8"
                          ],
                          [
                            0.3333333333333333,
                            "#9c179e"
                          ],
                          [
                            0.4444444444444444,
                            "#bd3786"
                          ],
                          [
                            0.5555555555555556,
                            "#d8576b"
                          ],
                          [
                            0.6666666666666666,
                            "#ed7953"
                          ],
                          [
                            0.7777777777777778,
                            "#fb9f3a"
                          ],
                          [
                            0.8888888888888888,
                            "#fdca26"
                          ],
                          [
                            1,
                            "#f0f921"
                          ]
                        ],
                        "type": "contour"
                      }
                    ],
                    "contourcarpet": [
                      {
                        "colorbar": {
                          "outlinewidth": 0,
                          "ticks": ""
                        },
                        "type": "contourcarpet"
                      }
                    ],
                    "heatmap": [
                      {
                        "colorbar": {
                          "outlinewidth": 0,
                          "ticks": ""
                        },
                        "colorscale": [
                          [
                            0,
                            "#0d0887"
                          ],
                          [
                            0.1111111111111111,
                            "#46039f"
                          ],
                          [
                            0.2222222222222222,
                            "#7201a8"
                          ],
                          [
                            0.3333333333333333,
                            "#9c179e"
                          ],
                          [
                            0.4444444444444444,
                            "#bd3786"
                          ],
                          [
                            0.5555555555555556,
                            "#d8576b"
                          ],
                          [
                            0.6666666666666666,
                            "#ed7953"
                          ],
                          [
                            0.7777777777777778,
                            "#fb9f3a"
                          ],
                          [
                            0.8888888888888888,
                            "#fdca26"
                          ],
                          [
                            1,
                            "#f0f921"
                          ]
                        ],
                        "type": "heatmap"
                      }
                    ],
                    "heatmapgl": [
                      {
                        "colorbar": {
                          "outlinewidth": 0,
                          "ticks": ""
                        },
                        "colorscale": [
                          [
                            0,
                            "#0d0887"
                          ],
                          [
                            0.1111111111111111,
                            "#46039f"
                          ],
                          [
                            0.2222222222222222,
                            "#7201a8"
                          ],
                          [
                            0.3333333333333333,
                            "#9c179e"
                          ],
                          [
                            0.4444444444444444,
                            "#bd3786"
                          ],
                          [
                            0.5555555555555556,
                            "#d8576b"
                          ],
                          [
                            0.6666666666666666,
                            "#ed7953"
                          ],
                          [
                            0.7777777777777778,
                            "#fb9f3a"
                          ],
                          [
                            0.8888888888888888,
                            "#fdca26"
                          ],
                          [
                            1,
                            "#f0f921"
                          ]
                        ],
                        "type": "heatmapgl"
                      }
                    ],
                    "histogram": [
                      {
                        "marker": {
                          "pattern": {
                            "fillmode": "overlay",
                            "size": 10,
                            "solidity": 0.2
                          }
                        },
                        "type": "histogram"
                      }
                    ],
                    "histogram2d": [
                      {
                        "colorbar": {
                          "outlinewidth": 0,
                          "ticks": ""
                        },
                        "colorscale": [
                          [
                            0,
                            "#0d0887"
                          ],
                          [
                            0.1111111111111111,
                            "#46039f"
                          ],
                          [
                            0.2222222222222222,
                            "#7201a8"
                          ],
                          [
                            0.3333333333333333,
                            "#9c179e"
                          ],
                          [
                            0.4444444444444444,
                            "#bd3786"
                          ],
                          [
                            0.5555555555555556,
                            "#d8576b"
                          ],
                          [
                            0.6666666666666666,
                            "#ed7953"
                          ],
                          [
                            0.7777777777777778,
                            "#fb9f3a"
                          ],
                          [
                            0.8888888888888888,
                            "#fdca26"
                          ],
                          [
                            1,
                            "#f0f921"
                          ]
                        ],
                        "type": "histogram2d"
                      }
                    ],
                    "histogram2dcontour": [
                      {
                        "colorbar": {
                          "outlinewidth": 0,
                          "ticks": ""
                        },
                        "colorscale": [
                          [
                            0,
                            "#0d0887"
                          ],
                          [
                            0.1111111111111111,
                            "#46039f"
                          ],
                          [
                            0.2222222222222222,
                            "#7201a8"
                          ],
                          [
                            0.3333333333333333,
                            "#9c179e"
                          ],
                          [
                            0.4444444444444444,
                            "#bd3786"
                          ],
                          [
                            0.5555555555555556,
                            "#d8576b"
                          ],
                          [
                            0.6666666666666666,
                            "#ed7953"
                          ],
                          [
                            0.7777777777777778,
                            "#fb9f3a"
                          ],
                          [
                            0.8888888888888888,
                            "#fdca26"
                          ],
                          [
                            1,
                            "#f0f921"
                          ]
                        ],
                        "type": "histogram2dcontour"
                      }
                    ],
                    "mesh3d": [
                      {
                        "colorbar": {
                          "outlinewidth": 0,
                          "ticks": ""
                        },
                        "type": "mesh3d"
                      }
                    ],
                    "parcoords": [
                      {
                        "line": {
                          "colorbar": {
                            "outlinewidth": 0,
                            "ticks": ""
                          }
                        },
                        "type": "parcoords"
                      }
                    ],
                    "pie": [
                      {
                        "automargin": true,
                        "type": "pie"
                      }
                    ],
                    "scatter": [
                      {
                        "fillpattern": {
                          "fillmode": "overlay",
                          "size": 10,
                          "solidity": 0.2
                        },
                        "type": "scatter"
                      }
                    ],
                    "scatter3d": [
                      {
                        "line": {
                          "colorbar": {
                            "outlinewidth": 0,
                            "ticks": ""
                          }
                        },
                        "marker": {
                          "colorbar": {
                            "outlinewidth": 0,
                            "ticks": ""
                          }
                        },
                        "type": "scatter3d"
                      }
                    ],
                    "scattercarpet": [
                      {
                        "marker": {
                          "colorbar": {
                            "outlinewidth": 0,
                            "ticks": ""
                          }
                        },
                        "type": "scattercarpet"
                      }
                    ],
                    "scattergeo": [
                      {
                        "marker": {
                          "colorbar": {
                            "outlinewidth": 0,
                            "ticks": ""
                          }
                        },
                        "type": "scattergeo"
                      }
                    ],
                    "scattergl": [
                      {
                        "marker": {
                          "colorbar": {
                            "outlinewidth": 0,
                            "ticks": ""
                          }
                        },
                        "type": "scattergl"
                      }
                    ],
                    "scattermapbox": [
                      {
                        "marker": {
                          "colorbar": {
                            "outlinewidth": 0,
                            "ticks": ""
                          }
                        },
                        "type": "scattermapbox"
                      }
                    ],
                    "scatterpolar": [
                      {
                        "marker": {
                          "colorbar": {
                            "outlinewidth": 0,
                            "ticks": ""
                          }
                        },
                        "type": "scatterpolar"
                      }
                    ],
                    "scatterpolargl": [
                      {
                        "marker": {
                          "colorbar": {
                            "outlinewidth": 0,
                            "ticks": ""
                          }
                        },
                        "type": "scatterpolargl"
                      }
                    ],
                    "scatterternary": [
                      {
                        "marker": {
                          "colorbar": {
                            "outlinewidth": 0,
                            "ticks": ""
                          }
                        },
                        "type": "scatterternary"
                      }
                    ],
                    "surface": [
                      {
                        "colorbar": {
                          "outlinewidth": 0,
                          "ticks": ""
                        },
                        "colorscale": [
                          [
                            0,
                            "#0d0887"
                          ],
                          [
                            0.1111111111111111,
                            "#46039f"
                          ],
                          [
                            0.2222222222222222,
                            "#7201a8"
                          ],
                          [
                            0.3333333333333333,
                            "#9c179e"
                          ],
                          [
                            0.4444444444444444,
                            "#bd3786"
                          ],
                          [
                            0.5555555555555556,
                            "#d8576b"
                          ],
                          [
                            0.6666666666666666,
                            "#ed7953"
                          ],
                          [
                            0.7777777777777778,
                            "#fb9f3a"
                          ],
                          [
                            0.8888888888888888,
                            "#fdca26"
                          ],
                          [
                            1,
                            "#f0f921"
                          ]
                        ],
                        "type": "surface"
                      }
                    ],
                    "table": [
                      {
                        "cells": {
                          "fill": {
                            "color": "#EBF0F8"
                          },
                          "line": {
                            "color": "white"
                          }
                        },
                        "header": {
                          "fill": {
                            "color": "#C8D4E3"
                          },
                          "line": {
                            "color": "white"
                          }
                        },
                        "type": "table"
                      }
                    ]
                  },
                  "layout": {
                    "annotationdefaults": {
                      "arrowcolor": "#2a3f5f",
                      "arrowhead": 0,
                      "arrowwidth": 1
                    },
                    "autotypenumbers": "strict",
                    "coloraxis": {
                      "colorbar": {
                        "outlinewidth": 0,
                        "ticks": ""
                      }
                    },
                    "colorscale": {
                      "diverging": [
                        [
                          0,
                          "#8e0152"
                        ],
                        [
                          0.1,
                          "#c51b7d"
                        ],
                        [
                          0.2,
                          "#de77ae"
                        ],
                        [
                          0.3,
                          "#f1b6da"
                        ],
                        [
                          0.4,
                          "#fde0ef"
                        ],
                        [
                          0.5,
                          "#f7f7f7"
                        ],
                        [
                          0.6,
                          "#e6f5d0"
                        ],
                        [
                          0.7,
                          "#b8e186"
                        ],
                        [
                          0.8,
                          "#7fbc41"
                        ],
                        [
                          0.9,
                          "#4d9221"
                        ],
                        [
                          1,
                          "#276419"
                        ]
                      ],
                      "sequential": [
                        [
                          0,
                          "#0d0887"
                        ],
                        [
                          0.1111111111111111,
                          "#46039f"
                        ],
                        [
                          0.2222222222222222,
                          "#7201a8"
                        ],
                        [
                          0.3333333333333333,
                          "#9c179e"
                        ],
                        [
                          0.4444444444444444,
                          "#bd3786"
                        ],
                        [
                          0.5555555555555556,
                          "#d8576b"
                        ],
                        [
                          0.6666666666666666,
                          "#ed7953"
                        ],
                        [
                          0.7777777777777778,
                          "#fb9f3a"
                        ],
                        [
                          0.8888888888888888,
                          "#fdca26"
                        ],
                        [
                          1,
                          "#f0f921"
                        ]
                      ],
                      "sequentialminus": [
                        [
                          0,
                          "#0d0887"
                        ],
                        [
                          0.1111111111111111,
                          "#46039f"
                        ],
                        [
                          0.2222222222222222,
                          "#7201a8"
                        ],
                        [
                          0.3333333333333333,
                          "#9c179e"
                        ],
                        [
                          0.4444444444444444,
                          "#bd3786"
                        ],
                        [
                          0.5555555555555556,
                          "#d8576b"
                        ],
                        [
                          0.6666666666666666,
                          "#ed7953"
                        ],
                        [
                          0.7777777777777778,
                          "#fb9f3a"
                        ],
                        [
                          0.8888888888888888,
                          "#fdca26"
                        ],
                        [
                          1,
                          "#f0f921"
                        ]
                      ]
                    },
                    "colorway": [
                      "#636efa",
                      "#EF553B",
                      "#00cc96",
                      "#ab63fa",
                      "#FFA15A",
                      "#19d3f3",
                      "#FF6692",
                      "#B6E880",
                      "#FF97FF",
                      "#FECB52"
                    ],
                    "font": {
                      "color": "#2a3f5f"
                    },
                    "geo": {
                      "bgcolor": "white",
                      "lakecolor": "white",
                      "landcolor": "#E5ECF6",
                      "showlakes": true,
                      "showland": true,
                      "subunitcolor": "white"
                    },
                    "hoverlabel": {
                      "align": "left"
                    },
                    "hovermode": "closest",
                    "mapbox": {
                      "style": "light"
                    },
                    "paper_bgcolor": "white",
                    "plot_bgcolor": "#E5ECF6",
                    "polar": {
                      "angularaxis": {
                        "gridcolor": "white",
                        "linecolor": "white",
                        "ticks": ""
                      },
                      "bgcolor": "#E5ECF6",
                      "radialaxis": {
                        "gridcolor": "white",
                        "linecolor": "white",
                        "ticks": ""
                      }
                    },
                    "scene": {
                      "xaxis": {
                        "backgroundcolor": "#E5ECF6",
                        "gridcolor": "white",
                        "gridwidth": 2,
                        "linecolor": "white",
                        "showbackground": true,
                        "ticks": "",
                        "zerolinecolor": "white"
                      },
                      "yaxis": {
                        "backgroundcolor": "#E5ECF6",
                        "gridcolor": "white",
                        "gridwidth": 2,
                        "linecolor": "white",
                        "showbackground": true,
                        "ticks": "",
                        "zerolinecolor": "white"
                      },
                      "zaxis": {
                        "backgroundcolor": "#E5ECF6",
                        "gridcolor": "white",
                        "gridwidth": 2,
                        "linecolor": "white",
                        "showbackground": true,
                        "ticks": "",
                        "zerolinecolor": "white"
                      }
                    },
                    "shapedefaults": {
                      "line": {
                        "color": "#2a3f5f"
                      }
                    },
                    "ternary": {
                      "aaxis": {
                        "gridcolor": "white",
                        "linecolor": "white",
                        "ticks": ""
                      },
                      "baxis": {
                        "gridcolor": "white",
                        "linecolor": "white",
                        "ticks": ""
                      },
                      "bgcolor": "#E5ECF6",
                      "caxis": {
                        "gridcolor": "white",
                        "linecolor": "white",
                        "ticks": ""
                      }
                    },
                    "title": {
                      "x": 0.05
                    },
                    "xaxis": {
                      "automargin": true,
                      "gridcolor": "white",
                      "linecolor": "white",
                      "ticks": "",
                      "title": {
                        "standoff": 15
                      },
                      "zerolinecolor": "white",
                      "zerolinewidth": 2
                    },
                    "yaxis": {
                      "automargin": true,
                      "gridcolor": "white",
                      "linecolor": "white",
                      "ticks": "",
                      "title": {
                        "standoff": 15
                      },
                      "zerolinecolor": "white",
                      "zerolinewidth": 2
                    }
                  }
                }
              }
            }
          },
          "metadata": {},
          "output_type": "display_data"
        }
      ],
      "source": [
        "fig = go.Figure(data=DATA)\n",
        "fig.show()"
      ]
    },
    {
      "cell_type": "code",
      "execution_count": 48,
      "metadata": {},
      "outputs": [
        {
          "name": "stdout",
          "output_type": "stream",
          "text": [
            "2.3714374201337736e-16\n",
            "1.1443916996305594e-16\n"
          ]
        },
        {
          "data": {
            "application/vnd.plotly.v1+json": {
              "config": {
                "plotlyServerURL": "https://plot.ly"
              },
              "data": [
                {
                  "mode": "markers",
                  "showlegend": false,
                  "type": "scatter3d",
                  "x": [
                    2.3486610944968342,
                    1.917673753414636
                  ],
                  "y": [
                    1.356000115142948,
                    1.9176737534146355
                  ],
                  "z": [
                    0,
                    1.2297560733739026
                  ]
                },
                {
                  "mode": "markers",
                  "type": "scatter3d",
                  "x": [
                    0
                  ],
                  "y": [
                    0
                  ],
                  "z": [
                    0
                  ]
                },
                {
                  "line": {
                    "color": "dark blue"
                  },
                  "mode": "lines",
                  "showlegend": false,
                  "type": "scatter3d",
                  "x": [
                    2.3486610944968342,
                    1.917673753414636
                  ],
                  "y": [
                    1.356000115142948,
                    1.9176737534146355
                  ],
                  "z": [
                    0,
                    1.2297560733739026
                  ]
                },
                {
                  "line": {
                    "color": "green"
                  },
                  "mode": "lines",
                  "showlegend": false,
                  "type": "scatter3d",
                  "x": [
                    2.3486610944968342,
                    2.3486610944968342
                  ],
                  "y": [
                    1.356000115142948,
                    1.356000115142948
                  ],
                  "z": [
                    0,
                    1
                  ]
                },
                {
                  "line": {
                    "color": "orange"
                  },
                  "mode": "lines",
                  "showlegend": false,
                  "type": "scatter3d",
                  "x": [
                    2.3486610944968342,
                    3.214686498281273
                  ],
                  "y": [
                    1.356000115142948,
                    1.856000115142948
                  ],
                  "z": [
                    0,
                    0
                  ]
                },
                {
                  "line": {
                    "color": "red"
                  },
                  "mode": "lines",
                  "showlegend": false,
                  "type": "scatter3d",
                  "x": [
                    2.3486610944968342,
                    1.8486610944968342
                  ],
                  "y": [
                    1.356000115142948,
                    2.2220255189273868
                  ],
                  "z": [
                    0,
                    0
                  ]
                },
                {
                  "line": {
                    "color": "black"
                  },
                  "mode": "lines",
                  "showlegend": false,
                  "type": "scatter3d",
                  "x": [
                    1.9144178195489352,
                    2.7829043694447333
                  ],
                  "y": [
                    2.1081315301978103,
                    0.6038687000880855
                  ],
                  "z": [
                    -0.49571273198304444,
                    0.49571273198304444
                  ]
                },
                {
                  "line": {
                    "color": "magenta"
                  },
                  "mode": "lines",
                  "showlegend": false,
                  "type": "scatter3d",
                  "x": [
                    1.500615287303757,
                    3.1967069016899115
                  ],
                  "y": [
                    0.8291040885255149,
                    1.882896141760381
                  ],
                  "z": [
                    -0.05655869550301782,
                    0.05655869550301782
                  ]
                },
                {
                  "line": {
                    "color": "purple"
                  },
                  "mode": "lines",
                  "showlegend": false,
                  "type": "scatter3d",
                  "x": [
                    2.6523897350047148,
                    2.0449324539889537
                  ],
                  "y": [
                    0.9601732443745129,
                    1.751826985911383
                  ],
                  "z": [
                    -0.8666429491508618,
                    0.8666429491508618
                  ]
                },
                {
                  "line": {
                    "color": "green"
                  },
                  "mode": "lines",
                  "showlegend": false,
                  "type": "scatter3d",
                  "x": [
                    1.917673753414636,
                    1.917673753414636
                  ],
                  "y": [
                    1.9176737534146355,
                    1.9176737534146355
                  ],
                  "z": [
                    1.2297560733739026,
                    2.2297560733739026
                  ]
                },
                {
                  "line": {
                    "color": "orange"
                  },
                  "mode": "lines",
                  "showlegend": false,
                  "type": "scatter3d",
                  "x": [
                    1.917673753414636,
                    2.6247805346011837
                  ],
                  "y": [
                    1.9176737534146355,
                    2.624780534601183
                  ],
                  "z": [
                    1.2297560733739026,
                    1.2297560733739026
                  ]
                },
                {
                  "line": {
                    "color": "red"
                  },
                  "mode": "lines",
                  "showlegend": false,
                  "type": "scatter3d",
                  "x": [
                    1.917673753414636,
                    1.2105669722280885
                  ],
                  "y": [
                    1.9176737534146355,
                    2.624780534601183
                  ],
                  "z": [
                    1.2297560733739026,
                    1.2297560733739026
                  ]
                },
                {
                  "line": {
                    "color": "black"
                  },
                  "mode": "lines",
                  "showlegend": false,
                  "type": "scatter3d",
                  "x": [
                    2.5317864822152636,
                    1.3035610246140084
                  ],
                  "y": [
                    1.303561024614008,
                    2.531786482215263
                  ],
                  "z": [
                    1.725468805356947,
                    0.7340433413908583
                  ]
                },
                {
                  "line": {
                    "color": "magenta"
                  },
                  "mode": "lines",
                  "showlegend": false,
                  "type": "scatter3d",
                  "x": [
                    1.1892408675148562,
                    2.6461066393144157
                  ],
                  "y": [
                    1.2348951328481188,
                    2.6004523739811525
                  ],
                  "z": [
                    1.2863147688769203,
                    1.1731973778708848
                  ]
                },
                {
                  "line": {
                    "color": "purple"
                  },
                  "mode": "lines",
                  "showlegend": false,
                  "type": "scatter3d",
                  "x": [
                    1.6139451129067555,
                    2.2214023939225163
                  ],
                  "y": [
                    2.3135006241830705,
                    1.5218468826462006
                  ],
                  "z": [
                    2.0963990225247646,
                    0.36311312422304065
                  ]
                }
              ],
              "layout": {
                "template": {
                  "data": {
                    "bar": [
                      {
                        "error_x": {
                          "color": "#2a3f5f"
                        },
                        "error_y": {
                          "color": "#2a3f5f"
                        },
                        "marker": {
                          "line": {
                            "color": "#E5ECF6",
                            "width": 0.5
                          },
                          "pattern": {
                            "fillmode": "overlay",
                            "size": 10,
                            "solidity": 0.2
                          }
                        },
                        "type": "bar"
                      }
                    ],
                    "barpolar": [
                      {
                        "marker": {
                          "line": {
                            "color": "#E5ECF6",
                            "width": 0.5
                          },
                          "pattern": {
                            "fillmode": "overlay",
                            "size": 10,
                            "solidity": 0.2
                          }
                        },
                        "type": "barpolar"
                      }
                    ],
                    "carpet": [
                      {
                        "aaxis": {
                          "endlinecolor": "#2a3f5f",
                          "gridcolor": "white",
                          "linecolor": "white",
                          "minorgridcolor": "white",
                          "startlinecolor": "#2a3f5f"
                        },
                        "baxis": {
                          "endlinecolor": "#2a3f5f",
                          "gridcolor": "white",
                          "linecolor": "white",
                          "minorgridcolor": "white",
                          "startlinecolor": "#2a3f5f"
                        },
                        "type": "carpet"
                      }
                    ],
                    "choropleth": [
                      {
                        "colorbar": {
                          "outlinewidth": 0,
                          "ticks": ""
                        },
                        "type": "choropleth"
                      }
                    ],
                    "contour": [
                      {
                        "colorbar": {
                          "outlinewidth": 0,
                          "ticks": ""
                        },
                        "colorscale": [
                          [
                            0,
                            "#0d0887"
                          ],
                          [
                            0.1111111111111111,
                            "#46039f"
                          ],
                          [
                            0.2222222222222222,
                            "#7201a8"
                          ],
                          [
                            0.3333333333333333,
                            "#9c179e"
                          ],
                          [
                            0.4444444444444444,
                            "#bd3786"
                          ],
                          [
                            0.5555555555555556,
                            "#d8576b"
                          ],
                          [
                            0.6666666666666666,
                            "#ed7953"
                          ],
                          [
                            0.7777777777777778,
                            "#fb9f3a"
                          ],
                          [
                            0.8888888888888888,
                            "#fdca26"
                          ],
                          [
                            1,
                            "#f0f921"
                          ]
                        ],
                        "type": "contour"
                      }
                    ],
                    "contourcarpet": [
                      {
                        "colorbar": {
                          "outlinewidth": 0,
                          "ticks": ""
                        },
                        "type": "contourcarpet"
                      }
                    ],
                    "heatmap": [
                      {
                        "colorbar": {
                          "outlinewidth": 0,
                          "ticks": ""
                        },
                        "colorscale": [
                          [
                            0,
                            "#0d0887"
                          ],
                          [
                            0.1111111111111111,
                            "#46039f"
                          ],
                          [
                            0.2222222222222222,
                            "#7201a8"
                          ],
                          [
                            0.3333333333333333,
                            "#9c179e"
                          ],
                          [
                            0.4444444444444444,
                            "#bd3786"
                          ],
                          [
                            0.5555555555555556,
                            "#d8576b"
                          ],
                          [
                            0.6666666666666666,
                            "#ed7953"
                          ],
                          [
                            0.7777777777777778,
                            "#fb9f3a"
                          ],
                          [
                            0.8888888888888888,
                            "#fdca26"
                          ],
                          [
                            1,
                            "#f0f921"
                          ]
                        ],
                        "type": "heatmap"
                      }
                    ],
                    "heatmapgl": [
                      {
                        "colorbar": {
                          "outlinewidth": 0,
                          "ticks": ""
                        },
                        "colorscale": [
                          [
                            0,
                            "#0d0887"
                          ],
                          [
                            0.1111111111111111,
                            "#46039f"
                          ],
                          [
                            0.2222222222222222,
                            "#7201a8"
                          ],
                          [
                            0.3333333333333333,
                            "#9c179e"
                          ],
                          [
                            0.4444444444444444,
                            "#bd3786"
                          ],
                          [
                            0.5555555555555556,
                            "#d8576b"
                          ],
                          [
                            0.6666666666666666,
                            "#ed7953"
                          ],
                          [
                            0.7777777777777778,
                            "#fb9f3a"
                          ],
                          [
                            0.8888888888888888,
                            "#fdca26"
                          ],
                          [
                            1,
                            "#f0f921"
                          ]
                        ],
                        "type": "heatmapgl"
                      }
                    ],
                    "histogram": [
                      {
                        "marker": {
                          "pattern": {
                            "fillmode": "overlay",
                            "size": 10,
                            "solidity": 0.2
                          }
                        },
                        "type": "histogram"
                      }
                    ],
                    "histogram2d": [
                      {
                        "colorbar": {
                          "outlinewidth": 0,
                          "ticks": ""
                        },
                        "colorscale": [
                          [
                            0,
                            "#0d0887"
                          ],
                          [
                            0.1111111111111111,
                            "#46039f"
                          ],
                          [
                            0.2222222222222222,
                            "#7201a8"
                          ],
                          [
                            0.3333333333333333,
                            "#9c179e"
                          ],
                          [
                            0.4444444444444444,
                            "#bd3786"
                          ],
                          [
                            0.5555555555555556,
                            "#d8576b"
                          ],
                          [
                            0.6666666666666666,
                            "#ed7953"
                          ],
                          [
                            0.7777777777777778,
                            "#fb9f3a"
                          ],
                          [
                            0.8888888888888888,
                            "#fdca26"
                          ],
                          [
                            1,
                            "#f0f921"
                          ]
                        ],
                        "type": "histogram2d"
                      }
                    ],
                    "histogram2dcontour": [
                      {
                        "colorbar": {
                          "outlinewidth": 0,
                          "ticks": ""
                        },
                        "colorscale": [
                          [
                            0,
                            "#0d0887"
                          ],
                          [
                            0.1111111111111111,
                            "#46039f"
                          ],
                          [
                            0.2222222222222222,
                            "#7201a8"
                          ],
                          [
                            0.3333333333333333,
                            "#9c179e"
                          ],
                          [
                            0.4444444444444444,
                            "#bd3786"
                          ],
                          [
                            0.5555555555555556,
                            "#d8576b"
                          ],
                          [
                            0.6666666666666666,
                            "#ed7953"
                          ],
                          [
                            0.7777777777777778,
                            "#fb9f3a"
                          ],
                          [
                            0.8888888888888888,
                            "#fdca26"
                          ],
                          [
                            1,
                            "#f0f921"
                          ]
                        ],
                        "type": "histogram2dcontour"
                      }
                    ],
                    "mesh3d": [
                      {
                        "colorbar": {
                          "outlinewidth": 0,
                          "ticks": ""
                        },
                        "type": "mesh3d"
                      }
                    ],
                    "parcoords": [
                      {
                        "line": {
                          "colorbar": {
                            "outlinewidth": 0,
                            "ticks": ""
                          }
                        },
                        "type": "parcoords"
                      }
                    ],
                    "pie": [
                      {
                        "automargin": true,
                        "type": "pie"
                      }
                    ],
                    "scatter": [
                      {
                        "fillpattern": {
                          "fillmode": "overlay",
                          "size": 10,
                          "solidity": 0.2
                        },
                        "type": "scatter"
                      }
                    ],
                    "scatter3d": [
                      {
                        "line": {
                          "colorbar": {
                            "outlinewidth": 0,
                            "ticks": ""
                          }
                        },
                        "marker": {
                          "colorbar": {
                            "outlinewidth": 0,
                            "ticks": ""
                          }
                        },
                        "type": "scatter3d"
                      }
                    ],
                    "scattercarpet": [
                      {
                        "marker": {
                          "colorbar": {
                            "outlinewidth": 0,
                            "ticks": ""
                          }
                        },
                        "type": "scattercarpet"
                      }
                    ],
                    "scattergeo": [
                      {
                        "marker": {
                          "colorbar": {
                            "outlinewidth": 0,
                            "ticks": ""
                          }
                        },
                        "type": "scattergeo"
                      }
                    ],
                    "scattergl": [
                      {
                        "marker": {
                          "colorbar": {
                            "outlinewidth": 0,
                            "ticks": ""
                          }
                        },
                        "type": "scattergl"
                      }
                    ],
                    "scattermapbox": [
                      {
                        "marker": {
                          "colorbar": {
                            "outlinewidth": 0,
                            "ticks": ""
                          }
                        },
                        "type": "scattermapbox"
                      }
                    ],
                    "scatterpolar": [
                      {
                        "marker": {
                          "colorbar": {
                            "outlinewidth": 0,
                            "ticks": ""
                          }
                        },
                        "type": "scatterpolar"
                      }
                    ],
                    "scatterpolargl": [
                      {
                        "marker": {
                          "colorbar": {
                            "outlinewidth": 0,
                            "ticks": ""
                          }
                        },
                        "type": "scatterpolargl"
                      }
                    ],
                    "scatterternary": [
                      {
                        "marker": {
                          "colorbar": {
                            "outlinewidth": 0,
                            "ticks": ""
                          }
                        },
                        "type": "scatterternary"
                      }
                    ],
                    "surface": [
                      {
                        "colorbar": {
                          "outlinewidth": 0,
                          "ticks": ""
                        },
                        "colorscale": [
                          [
                            0,
                            "#0d0887"
                          ],
                          [
                            0.1111111111111111,
                            "#46039f"
                          ],
                          [
                            0.2222222222222222,
                            "#7201a8"
                          ],
                          [
                            0.3333333333333333,
                            "#9c179e"
                          ],
                          [
                            0.4444444444444444,
                            "#bd3786"
                          ],
                          [
                            0.5555555555555556,
                            "#d8576b"
                          ],
                          [
                            0.6666666666666666,
                            "#ed7953"
                          ],
                          [
                            0.7777777777777778,
                            "#fb9f3a"
                          ],
                          [
                            0.8888888888888888,
                            "#fdca26"
                          ],
                          [
                            1,
                            "#f0f921"
                          ]
                        ],
                        "type": "surface"
                      }
                    ],
                    "table": [
                      {
                        "cells": {
                          "fill": {
                            "color": "#EBF0F8"
                          },
                          "line": {
                            "color": "white"
                          }
                        },
                        "header": {
                          "fill": {
                            "color": "#C8D4E3"
                          },
                          "line": {
                            "color": "white"
                          }
                        },
                        "type": "table"
                      }
                    ]
                  },
                  "layout": {
                    "annotationdefaults": {
                      "arrowcolor": "#2a3f5f",
                      "arrowhead": 0,
                      "arrowwidth": 1
                    },
                    "autotypenumbers": "strict",
                    "coloraxis": {
                      "colorbar": {
                        "outlinewidth": 0,
                        "ticks": ""
                      }
                    },
                    "colorscale": {
                      "diverging": [
                        [
                          0,
                          "#8e0152"
                        ],
                        [
                          0.1,
                          "#c51b7d"
                        ],
                        [
                          0.2,
                          "#de77ae"
                        ],
                        [
                          0.3,
                          "#f1b6da"
                        ],
                        [
                          0.4,
                          "#fde0ef"
                        ],
                        [
                          0.5,
                          "#f7f7f7"
                        ],
                        [
                          0.6,
                          "#e6f5d0"
                        ],
                        [
                          0.7,
                          "#b8e186"
                        ],
                        [
                          0.8,
                          "#7fbc41"
                        ],
                        [
                          0.9,
                          "#4d9221"
                        ],
                        [
                          1,
                          "#276419"
                        ]
                      ],
                      "sequential": [
                        [
                          0,
                          "#0d0887"
                        ],
                        [
                          0.1111111111111111,
                          "#46039f"
                        ],
                        [
                          0.2222222222222222,
                          "#7201a8"
                        ],
                        [
                          0.3333333333333333,
                          "#9c179e"
                        ],
                        [
                          0.4444444444444444,
                          "#bd3786"
                        ],
                        [
                          0.5555555555555556,
                          "#d8576b"
                        ],
                        [
                          0.6666666666666666,
                          "#ed7953"
                        ],
                        [
                          0.7777777777777778,
                          "#fb9f3a"
                        ],
                        [
                          0.8888888888888888,
                          "#fdca26"
                        ],
                        [
                          1,
                          "#f0f921"
                        ]
                      ],
                      "sequentialminus": [
                        [
                          0,
                          "#0d0887"
                        ],
                        [
                          0.1111111111111111,
                          "#46039f"
                        ],
                        [
                          0.2222222222222222,
                          "#7201a8"
                        ],
                        [
                          0.3333333333333333,
                          "#9c179e"
                        ],
                        [
                          0.4444444444444444,
                          "#bd3786"
                        ],
                        [
                          0.5555555555555556,
                          "#d8576b"
                        ],
                        [
                          0.6666666666666666,
                          "#ed7953"
                        ],
                        [
                          0.7777777777777778,
                          "#fb9f3a"
                        ],
                        [
                          0.8888888888888888,
                          "#fdca26"
                        ],
                        [
                          1,
                          "#f0f921"
                        ]
                      ]
                    },
                    "colorway": [
                      "#636efa",
                      "#EF553B",
                      "#00cc96",
                      "#ab63fa",
                      "#FFA15A",
                      "#19d3f3",
                      "#FF6692",
                      "#B6E880",
                      "#FF97FF",
                      "#FECB52"
                    ],
                    "font": {
                      "color": "#2a3f5f"
                    },
                    "geo": {
                      "bgcolor": "white",
                      "lakecolor": "white",
                      "landcolor": "#E5ECF6",
                      "showlakes": true,
                      "showland": true,
                      "subunitcolor": "white"
                    },
                    "hoverlabel": {
                      "align": "left"
                    },
                    "hovermode": "closest",
                    "mapbox": {
                      "style": "light"
                    },
                    "paper_bgcolor": "white",
                    "plot_bgcolor": "#E5ECF6",
                    "polar": {
                      "angularaxis": {
                        "gridcolor": "white",
                        "linecolor": "white",
                        "ticks": ""
                      },
                      "bgcolor": "#E5ECF6",
                      "radialaxis": {
                        "gridcolor": "white",
                        "linecolor": "white",
                        "ticks": ""
                      }
                    },
                    "scene": {
                      "xaxis": {
                        "backgroundcolor": "#E5ECF6",
                        "gridcolor": "white",
                        "gridwidth": 2,
                        "linecolor": "white",
                        "showbackground": true,
                        "ticks": "",
                        "zerolinecolor": "white"
                      },
                      "yaxis": {
                        "backgroundcolor": "#E5ECF6",
                        "gridcolor": "white",
                        "gridwidth": 2,
                        "linecolor": "white",
                        "showbackground": true,
                        "ticks": "",
                        "zerolinecolor": "white"
                      },
                      "zaxis": {
                        "backgroundcolor": "#E5ECF6",
                        "gridcolor": "white",
                        "gridwidth": 2,
                        "linecolor": "white",
                        "showbackground": true,
                        "ticks": "",
                        "zerolinecolor": "white"
                      }
                    },
                    "shapedefaults": {
                      "line": {
                        "color": "#2a3f5f"
                      }
                    },
                    "ternary": {
                      "aaxis": {
                        "gridcolor": "white",
                        "linecolor": "white",
                        "ticks": ""
                      },
                      "baxis": {
                        "gridcolor": "white",
                        "linecolor": "white",
                        "ticks": ""
                      },
                      "bgcolor": "#E5ECF6",
                      "caxis": {
                        "gridcolor": "white",
                        "linecolor": "white",
                        "ticks": ""
                      }
                    },
                    "title": {
                      "x": 0.05
                    },
                    "xaxis": {
                      "automargin": true,
                      "gridcolor": "white",
                      "linecolor": "white",
                      "ticks": "",
                      "title": {
                        "standoff": 15
                      },
                      "zerolinecolor": "white",
                      "zerolinewidth": 2
                    },
                    "yaxis": {
                      "automargin": true,
                      "gridcolor": "white",
                      "linecolor": "white",
                      "ticks": "",
                      "title": {
                        "standoff": 15
                      },
                      "zerolinecolor": "white",
                      "zerolinewidth": 2
                    }
                  }
                }
              }
            }
          },
          "metadata": {},
          "output_type": "display_data"
        },
        {
          "data": {
            "application/vnd.plotly.v1+json": {
              "config": {
                "plotlyServerURL": "https://plot.ly"
              },
              "data": [
                {
                  "line": {
                    "color": "magenta"
                  },
                  "mode": "lines",
                  "showlegend": false,
                  "type": "scatter3d",
                  "x": [
                    -0.43424327494789894,
                    0.43424327494789894
                  ],
                  "y": [
                    0.7521314150548625,
                    -0.7521314150548625
                  ],
                  "z": [
                    -0.49571273198304444,
                    0.49571273198304444
                  ]
                },
                {
                  "line": {
                    "color": "magenta"
                  },
                  "mode": "lines",
                  "showlegend": false,
                  "type": "scatter3d",
                  "x": [
                    -0.8480458071930773,
                    0.8480458071930773
                  ],
                  "y": [
                    -0.5268960266174331,
                    0.5268960266174331
                  ],
                  "z": [
                    -0.05655869550301782,
                    0.05655869550301782
                  ]
                },
                {
                  "line": {
                    "color": "black"
                  },
                  "mode": "lines",
                  "showlegend": false,
                  "type": "scatter3d",
                  "x": [
                    0.30372864050788057,
                    -0.30372864050788057
                  ],
                  "y": [
                    -0.39582687076843504,
                    0.39582687076843504
                  ],
                  "z": [
                    -0.8666429491508618,
                    0.8666429491508618
                  ]
                },
                {
                  "line": {
                    "color": "green"
                  },
                  "mode": "lines",
                  "showlegend": false,
                  "type": "scatter3d",
                  "x": [
                    0.6141127288006276,
                    -0.6141127288006276
                  ],
                  "y": [
                    -0.6141127288006276,
                    0.6141127288006276
                  ],
                  "z": [
                    0.49571273198304433,
                    -0.49571273198304433
                  ]
                },
                {
                  "line": {
                    "color": "green"
                  },
                  "mode": "lines",
                  "showlegend": false,
                  "type": "scatter3d",
                  "x": [
                    -0.7284328858997798,
                    0.7284328858997798
                  ],
                  "y": [
                    -0.6827786205665167,
                    0.6827786205665167
                  ],
                  "z": [
                    0.056558695503017654,
                    -0.056558695503017654
                  ]
                },
                {
                  "line": {
                    "color": "orange"
                  },
                  "mode": "lines",
                  "showlegend": false,
                  "type": "scatter3d",
                  "x": [
                    -0.30372864050788045,
                    0.30372864050788045
                  ],
                  "y": [
                    0.39582687076843504,
                    -0.39582687076843504
                  ],
                  "z": [
                    0.8666429491508619,
                    -0.8666429491508619
                  ]
                },
                {
                  "line": {
                    "color": "yellow"
                  },
                  "mode": "lines",
                  "showlegend": false,
                  "type": "scatter3d",
                  "x": [
                    0.43098734108219827,
                    -0.43098734108219827
                  ],
                  "y": [
                    -0.5616736382716876,
                    0.5616736382716876
                  ],
                  "z": [
                    -1.2297560733739026,
                    1.2297560733739026
                  ]
                }
              ],
              "layout": {
                "template": {
                  "data": {
                    "bar": [
                      {
                        "error_x": {
                          "color": "#2a3f5f"
                        },
                        "error_y": {
                          "color": "#2a3f5f"
                        },
                        "marker": {
                          "line": {
                            "color": "#E5ECF6",
                            "width": 0.5
                          },
                          "pattern": {
                            "fillmode": "overlay",
                            "size": 10,
                            "solidity": 0.2
                          }
                        },
                        "type": "bar"
                      }
                    ],
                    "barpolar": [
                      {
                        "marker": {
                          "line": {
                            "color": "#E5ECF6",
                            "width": 0.5
                          },
                          "pattern": {
                            "fillmode": "overlay",
                            "size": 10,
                            "solidity": 0.2
                          }
                        },
                        "type": "barpolar"
                      }
                    ],
                    "carpet": [
                      {
                        "aaxis": {
                          "endlinecolor": "#2a3f5f",
                          "gridcolor": "white",
                          "linecolor": "white",
                          "minorgridcolor": "white",
                          "startlinecolor": "#2a3f5f"
                        },
                        "baxis": {
                          "endlinecolor": "#2a3f5f",
                          "gridcolor": "white",
                          "linecolor": "white",
                          "minorgridcolor": "white",
                          "startlinecolor": "#2a3f5f"
                        },
                        "type": "carpet"
                      }
                    ],
                    "choropleth": [
                      {
                        "colorbar": {
                          "outlinewidth": 0,
                          "ticks": ""
                        },
                        "type": "choropleth"
                      }
                    ],
                    "contour": [
                      {
                        "colorbar": {
                          "outlinewidth": 0,
                          "ticks": ""
                        },
                        "colorscale": [
                          [
                            0,
                            "#0d0887"
                          ],
                          [
                            0.1111111111111111,
                            "#46039f"
                          ],
                          [
                            0.2222222222222222,
                            "#7201a8"
                          ],
                          [
                            0.3333333333333333,
                            "#9c179e"
                          ],
                          [
                            0.4444444444444444,
                            "#bd3786"
                          ],
                          [
                            0.5555555555555556,
                            "#d8576b"
                          ],
                          [
                            0.6666666666666666,
                            "#ed7953"
                          ],
                          [
                            0.7777777777777778,
                            "#fb9f3a"
                          ],
                          [
                            0.8888888888888888,
                            "#fdca26"
                          ],
                          [
                            1,
                            "#f0f921"
                          ]
                        ],
                        "type": "contour"
                      }
                    ],
                    "contourcarpet": [
                      {
                        "colorbar": {
                          "outlinewidth": 0,
                          "ticks": ""
                        },
                        "type": "contourcarpet"
                      }
                    ],
                    "heatmap": [
                      {
                        "colorbar": {
                          "outlinewidth": 0,
                          "ticks": ""
                        },
                        "colorscale": [
                          [
                            0,
                            "#0d0887"
                          ],
                          [
                            0.1111111111111111,
                            "#46039f"
                          ],
                          [
                            0.2222222222222222,
                            "#7201a8"
                          ],
                          [
                            0.3333333333333333,
                            "#9c179e"
                          ],
                          [
                            0.4444444444444444,
                            "#bd3786"
                          ],
                          [
                            0.5555555555555556,
                            "#d8576b"
                          ],
                          [
                            0.6666666666666666,
                            "#ed7953"
                          ],
                          [
                            0.7777777777777778,
                            "#fb9f3a"
                          ],
                          [
                            0.8888888888888888,
                            "#fdca26"
                          ],
                          [
                            1,
                            "#f0f921"
                          ]
                        ],
                        "type": "heatmap"
                      }
                    ],
                    "heatmapgl": [
                      {
                        "colorbar": {
                          "outlinewidth": 0,
                          "ticks": ""
                        },
                        "colorscale": [
                          [
                            0,
                            "#0d0887"
                          ],
                          [
                            0.1111111111111111,
                            "#46039f"
                          ],
                          [
                            0.2222222222222222,
                            "#7201a8"
                          ],
                          [
                            0.3333333333333333,
                            "#9c179e"
                          ],
                          [
                            0.4444444444444444,
                            "#bd3786"
                          ],
                          [
                            0.5555555555555556,
                            "#d8576b"
                          ],
                          [
                            0.6666666666666666,
                            "#ed7953"
                          ],
                          [
                            0.7777777777777778,
                            "#fb9f3a"
                          ],
                          [
                            0.8888888888888888,
                            "#fdca26"
                          ],
                          [
                            1,
                            "#f0f921"
                          ]
                        ],
                        "type": "heatmapgl"
                      }
                    ],
                    "histogram": [
                      {
                        "marker": {
                          "pattern": {
                            "fillmode": "overlay",
                            "size": 10,
                            "solidity": 0.2
                          }
                        },
                        "type": "histogram"
                      }
                    ],
                    "histogram2d": [
                      {
                        "colorbar": {
                          "outlinewidth": 0,
                          "ticks": ""
                        },
                        "colorscale": [
                          [
                            0,
                            "#0d0887"
                          ],
                          [
                            0.1111111111111111,
                            "#46039f"
                          ],
                          [
                            0.2222222222222222,
                            "#7201a8"
                          ],
                          [
                            0.3333333333333333,
                            "#9c179e"
                          ],
                          [
                            0.4444444444444444,
                            "#bd3786"
                          ],
                          [
                            0.5555555555555556,
                            "#d8576b"
                          ],
                          [
                            0.6666666666666666,
                            "#ed7953"
                          ],
                          [
                            0.7777777777777778,
                            "#fb9f3a"
                          ],
                          [
                            0.8888888888888888,
                            "#fdca26"
                          ],
                          [
                            1,
                            "#f0f921"
                          ]
                        ],
                        "type": "histogram2d"
                      }
                    ],
                    "histogram2dcontour": [
                      {
                        "colorbar": {
                          "outlinewidth": 0,
                          "ticks": ""
                        },
                        "colorscale": [
                          [
                            0,
                            "#0d0887"
                          ],
                          [
                            0.1111111111111111,
                            "#46039f"
                          ],
                          [
                            0.2222222222222222,
                            "#7201a8"
                          ],
                          [
                            0.3333333333333333,
                            "#9c179e"
                          ],
                          [
                            0.4444444444444444,
                            "#bd3786"
                          ],
                          [
                            0.5555555555555556,
                            "#d8576b"
                          ],
                          [
                            0.6666666666666666,
                            "#ed7953"
                          ],
                          [
                            0.7777777777777778,
                            "#fb9f3a"
                          ],
                          [
                            0.8888888888888888,
                            "#fdca26"
                          ],
                          [
                            1,
                            "#f0f921"
                          ]
                        ],
                        "type": "histogram2dcontour"
                      }
                    ],
                    "mesh3d": [
                      {
                        "colorbar": {
                          "outlinewidth": 0,
                          "ticks": ""
                        },
                        "type": "mesh3d"
                      }
                    ],
                    "parcoords": [
                      {
                        "line": {
                          "colorbar": {
                            "outlinewidth": 0,
                            "ticks": ""
                          }
                        },
                        "type": "parcoords"
                      }
                    ],
                    "pie": [
                      {
                        "automargin": true,
                        "type": "pie"
                      }
                    ],
                    "scatter": [
                      {
                        "fillpattern": {
                          "fillmode": "overlay",
                          "size": 10,
                          "solidity": 0.2
                        },
                        "type": "scatter"
                      }
                    ],
                    "scatter3d": [
                      {
                        "line": {
                          "colorbar": {
                            "outlinewidth": 0,
                            "ticks": ""
                          }
                        },
                        "marker": {
                          "colorbar": {
                            "outlinewidth": 0,
                            "ticks": ""
                          }
                        },
                        "type": "scatter3d"
                      }
                    ],
                    "scattercarpet": [
                      {
                        "marker": {
                          "colorbar": {
                            "outlinewidth": 0,
                            "ticks": ""
                          }
                        },
                        "type": "scattercarpet"
                      }
                    ],
                    "scattergeo": [
                      {
                        "marker": {
                          "colorbar": {
                            "outlinewidth": 0,
                            "ticks": ""
                          }
                        },
                        "type": "scattergeo"
                      }
                    ],
                    "scattergl": [
                      {
                        "marker": {
                          "colorbar": {
                            "outlinewidth": 0,
                            "ticks": ""
                          }
                        },
                        "type": "scattergl"
                      }
                    ],
                    "scattermapbox": [
                      {
                        "marker": {
                          "colorbar": {
                            "outlinewidth": 0,
                            "ticks": ""
                          }
                        },
                        "type": "scattermapbox"
                      }
                    ],
                    "scatterpolar": [
                      {
                        "marker": {
                          "colorbar": {
                            "outlinewidth": 0,
                            "ticks": ""
                          }
                        },
                        "type": "scatterpolar"
                      }
                    ],
                    "scatterpolargl": [
                      {
                        "marker": {
                          "colorbar": {
                            "outlinewidth": 0,
                            "ticks": ""
                          }
                        },
                        "type": "scatterpolargl"
                      }
                    ],
                    "scatterternary": [
                      {
                        "marker": {
                          "colorbar": {
                            "outlinewidth": 0,
                            "ticks": ""
                          }
                        },
                        "type": "scatterternary"
                      }
                    ],
                    "surface": [
                      {
                        "colorbar": {
                          "outlinewidth": 0,
                          "ticks": ""
                        },
                        "colorscale": [
                          [
                            0,
                            "#0d0887"
                          ],
                          [
                            0.1111111111111111,
                            "#46039f"
                          ],
                          [
                            0.2222222222222222,
                            "#7201a8"
                          ],
                          [
                            0.3333333333333333,
                            "#9c179e"
                          ],
                          [
                            0.4444444444444444,
                            "#bd3786"
                          ],
                          [
                            0.5555555555555556,
                            "#d8576b"
                          ],
                          [
                            0.6666666666666666,
                            "#ed7953"
                          ],
                          [
                            0.7777777777777778,
                            "#fb9f3a"
                          ],
                          [
                            0.8888888888888888,
                            "#fdca26"
                          ],
                          [
                            1,
                            "#f0f921"
                          ]
                        ],
                        "type": "surface"
                      }
                    ],
                    "table": [
                      {
                        "cells": {
                          "fill": {
                            "color": "#EBF0F8"
                          },
                          "line": {
                            "color": "white"
                          }
                        },
                        "header": {
                          "fill": {
                            "color": "#C8D4E3"
                          },
                          "line": {
                            "color": "white"
                          }
                        },
                        "type": "table"
                      }
                    ]
                  },
                  "layout": {
                    "annotationdefaults": {
                      "arrowcolor": "#2a3f5f",
                      "arrowhead": 0,
                      "arrowwidth": 1
                    },
                    "autotypenumbers": "strict",
                    "coloraxis": {
                      "colorbar": {
                        "outlinewidth": 0,
                        "ticks": ""
                      }
                    },
                    "colorscale": {
                      "diverging": [
                        [
                          0,
                          "#8e0152"
                        ],
                        [
                          0.1,
                          "#c51b7d"
                        ],
                        [
                          0.2,
                          "#de77ae"
                        ],
                        [
                          0.3,
                          "#f1b6da"
                        ],
                        [
                          0.4,
                          "#fde0ef"
                        ],
                        [
                          0.5,
                          "#f7f7f7"
                        ],
                        [
                          0.6,
                          "#e6f5d0"
                        ],
                        [
                          0.7,
                          "#b8e186"
                        ],
                        [
                          0.8,
                          "#7fbc41"
                        ],
                        [
                          0.9,
                          "#4d9221"
                        ],
                        [
                          1,
                          "#276419"
                        ]
                      ],
                      "sequential": [
                        [
                          0,
                          "#0d0887"
                        ],
                        [
                          0.1111111111111111,
                          "#46039f"
                        ],
                        [
                          0.2222222222222222,
                          "#7201a8"
                        ],
                        [
                          0.3333333333333333,
                          "#9c179e"
                        ],
                        [
                          0.4444444444444444,
                          "#bd3786"
                        ],
                        [
                          0.5555555555555556,
                          "#d8576b"
                        ],
                        [
                          0.6666666666666666,
                          "#ed7953"
                        ],
                        [
                          0.7777777777777778,
                          "#fb9f3a"
                        ],
                        [
                          0.8888888888888888,
                          "#fdca26"
                        ],
                        [
                          1,
                          "#f0f921"
                        ]
                      ],
                      "sequentialminus": [
                        [
                          0,
                          "#0d0887"
                        ],
                        [
                          0.1111111111111111,
                          "#46039f"
                        ],
                        [
                          0.2222222222222222,
                          "#7201a8"
                        ],
                        [
                          0.3333333333333333,
                          "#9c179e"
                        ],
                        [
                          0.4444444444444444,
                          "#bd3786"
                        ],
                        [
                          0.5555555555555556,
                          "#d8576b"
                        ],
                        [
                          0.6666666666666666,
                          "#ed7953"
                        ],
                        [
                          0.7777777777777778,
                          "#fb9f3a"
                        ],
                        [
                          0.8888888888888888,
                          "#fdca26"
                        ],
                        [
                          1,
                          "#f0f921"
                        ]
                      ]
                    },
                    "colorway": [
                      "#636efa",
                      "#EF553B",
                      "#00cc96",
                      "#ab63fa",
                      "#FFA15A",
                      "#19d3f3",
                      "#FF6692",
                      "#B6E880",
                      "#FF97FF",
                      "#FECB52"
                    ],
                    "font": {
                      "color": "#2a3f5f"
                    },
                    "geo": {
                      "bgcolor": "white",
                      "lakecolor": "white",
                      "landcolor": "#E5ECF6",
                      "showlakes": true,
                      "showland": true,
                      "subunitcolor": "white"
                    },
                    "hoverlabel": {
                      "align": "left"
                    },
                    "hovermode": "closest",
                    "mapbox": {
                      "style": "light"
                    },
                    "paper_bgcolor": "white",
                    "plot_bgcolor": "#E5ECF6",
                    "polar": {
                      "angularaxis": {
                        "gridcolor": "white",
                        "linecolor": "white",
                        "ticks": ""
                      },
                      "bgcolor": "#E5ECF6",
                      "radialaxis": {
                        "gridcolor": "white",
                        "linecolor": "white",
                        "ticks": ""
                      }
                    },
                    "scene": {
                      "xaxis": {
                        "backgroundcolor": "#E5ECF6",
                        "gridcolor": "white",
                        "gridwidth": 2,
                        "linecolor": "white",
                        "showbackground": true,
                        "ticks": "",
                        "zerolinecolor": "white"
                      },
                      "yaxis": {
                        "backgroundcolor": "#E5ECF6",
                        "gridcolor": "white",
                        "gridwidth": 2,
                        "linecolor": "white",
                        "showbackground": true,
                        "ticks": "",
                        "zerolinecolor": "white"
                      },
                      "zaxis": {
                        "backgroundcolor": "#E5ECF6",
                        "gridcolor": "white",
                        "gridwidth": 2,
                        "linecolor": "white",
                        "showbackground": true,
                        "ticks": "",
                        "zerolinecolor": "white"
                      }
                    },
                    "shapedefaults": {
                      "line": {
                        "color": "#2a3f5f"
                      }
                    },
                    "ternary": {
                      "aaxis": {
                        "gridcolor": "white",
                        "linecolor": "white",
                        "ticks": ""
                      },
                      "baxis": {
                        "gridcolor": "white",
                        "linecolor": "white",
                        "ticks": ""
                      },
                      "bgcolor": "#E5ECF6",
                      "caxis": {
                        "gridcolor": "white",
                        "linecolor": "white",
                        "ticks": ""
                      }
                    },
                    "title": {
                      "x": 0.05
                    },
                    "xaxis": {
                      "automargin": true,
                      "gridcolor": "white",
                      "linecolor": "white",
                      "ticks": "",
                      "title": {
                        "standoff": 15
                      },
                      "zerolinecolor": "white",
                      "zerolinewidth": 2
                    },
                    "yaxis": {
                      "automargin": true,
                      "gridcolor": "white",
                      "linecolor": "white",
                      "ticks": "",
                      "title": {
                        "standoff": 15
                      },
                      "zerolinecolor": "white",
                      "zerolinewidth": 2
                    }
                  }
                }
              }
            }
          },
          "metadata": {},
          "output_type": "display_data"
        }
      ],
      "source": [
        "dif = Prueba(r[1],r[2])"
      ]
    },
    {
      "cell_type": "code",
      "execution_count": 30,
      "metadata": {
        "id": "5y69-Le9TlpS"
      },
      "outputs": [],
      "source": [
        "def KGeneral(r1,r2):\n",
        "\n",
        "  x1,y1,z1 = r1[0],r1[1],r1[2]\n",
        "  x2,y2,z2 = r2[0],r2[1],r2[2]\n",
        "\n",
        "  x12 = x2 - x1\n",
        "  y12 = y2 - y1\n",
        "  z12 = z2 - z1\n",
        "\n",
        "  rij = array([x12,y12,z12])\n",
        "\n",
        "  zhat = array([0,0,1])\n",
        "  ρhat = array([x1,y1,0])/LA.norm(array([x1,y1,0]))\n",
        "  θhat = np.cross(zhat,ρhat)\n",
        "\n",
        "  M = array([θhat,zhat,ρhat]).T #Matriz de cambio de base\n",
        "\n",
        "  φ = arcsin(dot(rij,ρhat)/LA.norm(rij)) #Angulo que hace Kx con el plano perpendicular a rho.\n",
        "\n",
        "  T = array([[cos(φ) ,0.  ,-sin(φ)],\n",
        "                [0.     ,1.  ,0],\n",
        "                [sin(φ),0.  ,cos(φ)]],dtype = complex)\n",
        "\n",
        "  #w = rij - dot(rij,ρhat)*ρhat \n",
        "  xi = dot(rij,θhat)\n",
        "  yi = dot(rij,zhat)\n",
        "\n",
        "  θ = sign(yi)*arccos(xi/sqrt(xi**2 + yi**2))\n",
        "\n",
        "  U = array([[cos(θ),-sin(θ),0],\n",
        "              [sin(θ),cos(θ),0],\n",
        "              [       0,      0,1]],dtype = complex)\n",
        "\n",
        "  \"\"\"print(f\"φ = {φ*180/pi}\")\n",
        "  print(f\"θ = {θ*180/pi}\")\n",
        "  print(f\"θhat = {θhat}\")\n",
        "  print(f\"ρhat = {ρhat}\")\"\"\"\n",
        "\n",
        "\n",
        "  Krotplano = dot(T,dot(Kbase,inv(T)))\n",
        "  Krotpolar = dot(U,dot(Krotplano,inv(U)))\n",
        "\n",
        "  \"\"\"print(f\"Vector θhat rotado = {dot(M,dot(T,dot(U,[1,0,0])))}\")\n",
        "  print(f\"Vector ρhat rotado = {dot(M,dot(T,dot(U,[0,0,1])))}\")\n",
        "  print(f\"Vector zhat rotado = {dot(M,dot(T,dot(U,[0,1,0])))}\")\"\"\"\n",
        "\n",
        "\n",
        "  #return dot(M,dot(Krotpolar,inv(M)))\n",
        "  return Krotpolar\n",
        "\n"
      ]
    },
    {
      "cell_type": "code",
      "execution_count": 31,
      "metadata": {
        "id": "PIFWwX81C0Lx"
      },
      "outputs": [],
      "source": [
        "def OperadorPseudomomento(n):\n",
        "\n",
        "  Sz = array([[0,-1J,0],\n",
        "              [1J,0,0],\n",
        "              [0,0,0]],dtype=complex)\n",
        "\n",
        "  return np.kron(np.eye(n,dtype=complex),Sz)"
      ]
    },
    {
      "cell_type": "code",
      "execution_count": 32,
      "metadata": {
        "id": "8Qu6qmJ7wv1X"
      },
      "outputs": [],
      "source": [
        "def expectedval(vec,S):\n",
        "    return dot(np.conj(vec).T,dot(S,vec)).real"
      ]
    },
    {
      "cell_type": "code",
      "execution_count": 33,
      "metadata": {
        "id": "qq2j2qK6wzQN"
      },
      "outputs": [],
      "source": [
        "S = OperadorPseudomomento(nsites)"
      ]
    },
    {
      "cell_type": "code",
      "execution_count": 34,
      "metadata": {
        "id": "nvX5IGTJPGGt"
      },
      "outputs": [],
      "source": [
        "MatrizDinamica = {}\n",
        "MatInt = array(range(nsites*nsites)).reshape(nsites,nsites)\n",
        "\n",
        "for i in range(len(X)):\n",
        "\n",
        "  #print(\"Esta es la iteración de i =\",str(i))\n",
        "  MatrizDinamica[(nsites)*i + i] = \"Kgiad de \" + str(i)\n",
        "\n",
        "  for j in range(i+1,len(X)):\n",
        "    rj = [X[j],Y[j],Z[j]]\n",
        "    if j in nn[i]:\n",
        "      #print(\"Elemento fuera de la diagonal de primer vecino asociado a átomos\",str(i),str(j))\n",
        "      MatrizDinamica[(nsites)*i + j] = \"Interacción: (\" + str(i) + \",\" + str(j)+\"), intracelda\"\n",
        "      MatrizDinamica[(nsites)*j + i] = \"Interacción: (\" + str(j) + \",\" + str(i)+\"), intracelda\"\n",
        "    elif j in nn_plus_a3[i]:\n",
        "      #print(\"Elemento fuera de la diagonal de primer vecino plus asociado a átomos\",str(i),str(j))\n",
        "      MatrizDinamica[(nsites)*i + j] = \"Interacción: (\" + str(i) + \",\" + str(j)+\"), celda plus\"\n",
        "      MatrizDinamica[(nsites)*j + i] = \"Interacción: (\" + str(i) + \",\" + str(j)+\"), celda plus\"\n",
        "    elif j in nn_minus_a3[i]:\n",
        "      #print(\"Elemento fuera de la diagonal de primer vecino minus asociado a átomos\",str(i),str(j))\n",
        "      MatrizDinamica[(nsites)*i + j] = \"Interacción: (\" + str(i) + \",\" + str(j)+\"), celda minus\"\n",
        "      MatrizDinamica[(nsites)*j + i] = \"Interacción: (\" + str(i) + \",\" + str(j)+\"), celda minus\"\n",
        "    else:\n",
        "        MatrizDinamica[(nsites)*i + j] = \"No int\"\n",
        "        MatrizDinamica[(nsites)*j + i] = \"No int\"\n",
        "\n",
        "    \"\"\"for j in range(i):\n",
        "      MatrizDinamica[(nsites)*i + j] = np.zeros((3,3))\"\"\"\n",
        "\n",
        "MatrizDinamica = dict(sorted(MatrizDinamica.items()))"
      ]
    },
    {
      "cell_type": "code",
      "execution_count": 35,
      "metadata": {
        "id": "Jnf4UmY7wXcI"
      },
      "outputs": [],
      "source": [
        "def Eigenfrequencies(kvec):\n",
        "  MatrizDinamica = {}\n",
        "  MatInt = array(range(nsites*nsites)).reshape(nsites,nsites)\n",
        "\n",
        "  for i in range(len(X)):\n",
        "\n",
        "    #print(\"Esta es la iteración de i =\",str(i))\n",
        "\n",
        "    ri = [X[i],Y[i],Z[i]]\n",
        "\n",
        "    Kdiagi = np.zeros((3,3))\n",
        "\n",
        "    for n in nn[i]:\n",
        "      #print(\"Vecino cercano de átomo\",str(i),\"número\",str(n))\n",
        "      rn = [X[n],Y[n],Z[n]]\n",
        "      Kdiagi = Kdiagi + KGeneral(ri,rn)\n",
        "    for n in nn_plus_a3[i]:\n",
        "      #print(\"Vecino cercano plus de átomo\",str(i),\"número\",str(n))\n",
        "      rn = [X[n],Y[n],Z[n]] + a3\n",
        "      Kdiagi = Kdiagi + KGeneral(ri,rn)\n",
        "    for n in nn_minus_a3[i]:\n",
        "      #print(\"Vecino cercano minus de átomo\",str(i),\"número\",str(n))\n",
        "      rn = [X[n],Y[n],Z[n]] - a3\n",
        "      Kdiagi = Kdiagi + KGeneral(ri,rn)\n",
        "\n",
        "\n",
        "    \"\"\"for n in np.concatenate((nn[i], nn_plus_a3[i],nn_minus_a3[i])):\n",
        "      rn = [X[n],Y[n],Z[n]] + a3\n",
        "      Kdiagi = Kdiagi + KGeneral(Kx,ri,rn)\"\"\"\n",
        "\n",
        "    MatrizDinamica[(nsites)*i + i] = Kdiagi/masas[i]\n",
        "\n",
        "    for j in range(i+1,len(X)):\n",
        "      rj = [X[j],Y[j],Z[j]]\n",
        "      if j in nn[i]:\n",
        "        K = -1*KGeneral(ri,rj)/sqrt(masas[i]*masas[j])\n",
        "        #print(\"Elemento fuera de la diagonal de primer vecino asociado a átomos\",str(i),str(j))\n",
        "        MatrizDinamica[(nsites)*i + j] = -1*KGeneral(ri,rj)/sqrt(masas[i]*masas[j])\n",
        "        MatrizDinamica[(nsites)*j + i] = K.T\n",
        "      elif j in nn_plus_a3[i]:\n",
        "        K = -1*KGeneral(ri,rj + a3)/sqrt(masas[i]*masas[j])\n",
        "        #print(\"Elemento fuera de la diagonal de primer vecino plus asociado a átomos\",str(i),str(j))\n",
        "        MatrizDinamica[(nsites)*i + j] = K*exp(1J*kvec)\n",
        "        MatrizDinamica[(nsites)*j + i] = K*exp(-1J*kvec)\n",
        "        #MatrizDinamica[(nsites)*j + i] = (-1*KGeneral(ri,rj + a3)/sqrt(masas[i]*masas[j])*exp(-1J*kvec))\n",
        "      elif j in nn_minus_a3[i]:\n",
        "        K = -1*KGeneral(ri,rj - a3)/sqrt(masas[i]*masas[j])\n",
        "        #print(\"Elemento fuera de la diagonal de primer vecino minus asociado a átomos\",str(i),str(j))\n",
        "        MatrizDinamica[(nsites)*i + j] = K*exp(-1J*kvec)\n",
        "        #MatrizDinamica[(nsites)*j + i] = (-1*KGeneral(ri,rj - a3)/sqrt(masas[i]*masas[j])*exp(1J*kvec))\n",
        "        MatrizDinamica[(nsites)*j + i] = K*exp(1J*kvec)\n",
        "      else:\n",
        "          MatrizDinamica[(nsites)*i + j] = np.zeros((3,3))\n",
        "          MatrizDinamica[(nsites)*j + i] = np.zeros((3,3))\n",
        "\n",
        "    \"\"\"for j in range(i):\n",
        "      MatrizDinamica[(nsites)*i + j] = np.zeros((3,3))\"\"\"\n",
        "\n",
        "  MatrizDinamica = dict(sorted(MatrizDinamica.items()))\n",
        "\n",
        "  Dm = [ [MatrizDinamica[i] for i in rw] for rw in MatInt ]\n",
        "  Dynamical = asarray(np.bmat(Dm))\n",
        "\n",
        "  ω2,eigvecs = eigh(Dynamical)\n",
        "\n",
        "  pseudomom = []\n",
        "\n",
        "\n",
        "  for i in range(len(ω2)):\n",
        "    eigvec = eigvecs[:,i]\n",
        "    pseudomom.append(expectedval(eigvec,S))\n",
        "\n",
        "\n",
        "  return sqrt(abs(ω2))/2/pi/cluz,pseudomom"
      ]
    },
    {
      "cell_type": "code",
      "execution_count": 36,
      "metadata": {
        "colab": {
          "base_uri": "https://localhost:8080/",
          "height": 542
        },
        "id": "yRckSQ6yxGeo",
        "outputId": "339d16cc-938d-4255-90ad-dd541a28ff25"
      },
      "outputs": [
        {
          "data": {
            "image/png": "[encoded data removed]",
            "text/plain": [
              "<Figure size 450x600 with 2 Axes>"
            ]
          },
          "metadata": {},
          "output_type": "display_data"
        }
      ],
      "source": [
        "Kpoints = np.linspace(-pi,pi,500)\n",
        "\n",
        "Klabels = [r\"K/2\",r\"Γ\",r\"K/2\"]\n",
        "Kticks = concatenate([[0],[250],[500]])\n",
        "\n",
        "Bandas = []\n",
        "Pseudomom = []\n",
        "\n",
        "Kevaluate = (list( map(Eigenfrequencies,Kpoints) ))\n",
        "\n",
        "for ω2,psmom in Kevaluate:\n",
        "  Bandas.append(ω2)\n",
        "  Pseudomom.append(psmom)\n",
        "\n",
        "Bandas = array(Bandas)\n",
        "Pseudomom = array(Pseudomom)\n",
        "\n",
        "numK,nbands = shape(Bandas)\n",
        "kenum = arange(numK)\n",
        "\n",
        "fig,ax = plt.subplots(ncols=1,nrows=1,figsize=(4.5,6))\n",
        "for j in range(nbands):\n",
        "  grafica = ax.scatter(kenum,Bandas.T[j],c = Pseudomom.T[j],cmap = \"coolwarm\",vmax = 1, vmin = -1,s = 5)\n",
        "fig.colorbar(grafica)\n",
        "ax.set_xticks(Kticks)\n",
        "#ax.set_ylim(1,100)\n",
        "ax.set_xticklabels(Klabels,fontsize = 20);"
      ]
    },
    {
      "cell_type": "code",
      "execution_count": 37,
      "metadata": {
        "colab": {
          "base_uri": "https://localhost:8080/",
          "height": 542
        },
        "id": "hbdnE5-LvS1e",
        "outputId": "b79579e5-e019-45cd-b8c8-7da359a38d8c"
      },
      "outputs": [
        {
          "data": {
            "image/png": "[encoded data removed]",
            "text/plain": [
              "<Figure size 450x600 with 2 Axes>"
            ]
          },
          "metadata": {},
          "output_type": "display_data"
        }
      ],
      "source": [
        "fig,ax = plt.subplots(ncols=1,nrows=1,figsize=(4.5,6))\n",
        "for j in range(nbands):\n",
        "  grafica = ax.scatter(kenum,Bandas.T[j],c = Pseudomom.T[j],cmap = \"coolwarm\",vmax = 1, vmin = -1,s = 5)\n",
        "fig.colorbar(grafica)\n",
        "ax.set_xticks(Kticks)\n",
        "ax.set_ylim(200,450)\n",
        "ax.set_xticklabels(Klabels,fontsize = 20);"
      ]
    },
    {
      "cell_type": "code",
      "execution_count": null,
      "metadata": {
        "id": "Z_Sg0r027Gg1"
      },
      "outputs": [],
      "source": []
    }
  ],
  "metadata": {
    "colab": {
      "provenance": []
    },
    "kernelspec": {
      "display_name": "Python 3",
      "name": "python3"
    },
    "language_info": {
      "codemirror_mode": {
        "name": "ipython",
        "version": 3
      },
      "file_extension": ".py",
      "mimetype": "text/x-python",
      "name": "python",
      "nbconvert_exporter": "python",
      "pygments_lexer": "ipython3",
      "version": "3.12.1"
    }
  },
  "nbformat": 4,
  "nbformat_minor": 0
}
